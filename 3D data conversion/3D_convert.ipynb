{
 "cells": [
  {
   "cell_type": "code",
   "execution_count": 1,
   "metadata": {},
   "outputs": [],
   "source": [
    "import pandas as pd\n",
    "import matplotlib.pyplot as plt\n",
    "%matplotlib inline\n",
    "import glob\n",
    "from os import listdir\n",
    "import numpy as np\n",
    "import math as m"
   ]
  },
  {
   "cell_type": "code",
   "execution_count": 2,
   "metadata": {},
   "outputs": [],
   "source": [
    "'''x, y, z rotation matrix'''\n",
    "def xRotation(angle):\n",
    "    return np.matrix([[1, 0, 0, 0],\n",
    "                    [0, m.cos(angle), -m.sin(angle), 0],\n",
    "                    [0, m.sin(angle), m.cos(angle), 0],\n",
    "                    [0, 0, 0, 1]])\n",
    "\n",
    "\n",
    "def yRotation(angle):\n",
    "    return np.matrix([[m.cos(angle), 0, m.sin(angle), 0],\n",
    "                    [0, 1, 0, 0],\n",
    "                    [-m.sin(angle), 0, m.cos(angle), 0],\n",
    "                    [0, 0, 0, 1]])\n",
    "\n",
    "\n",
    "\n",
    "def zRotation(angle):\n",
    "    return np.matrix([[m.cos(angle), -m.sin(angle), 0, 0],\n",
    "                    [m.sin(angle), m.cos(angle), 0, 0],\n",
    "                    [0, 0, 1, 0],\n",
    "                    [0, 0, 0, 1]])"
   ]
  },
  {
   "cell_type": "code",
   "execution_count": 3,
   "metadata": {},
   "outputs": [],
   "source": [
    "def ThreeD_Conversion(folder, file):\n",
    "    \n",
    "    path = \"data/{}/{}\".format(folder, file)\n",
    "    # reading the data\n",
    "    contrails = pd.read_csv(path)\n",
    "    # list to save the new points\n",
    "    newData = []\n",
    "    for index, row in contrails.iterrows():\n",
    "    #     loop to get rotation from 10 degree to 360 degree\n",
    "        for degree in range(0, 370 , 10):\n",
    "    #         converting the degree to radians\n",
    "            angle = np.radians(degree)\n",
    "    #     getting the rotation matrix multiplying ZYX (NASA Standard)\n",
    "    #         RotationMatrix = zRotation(angle) * yRotation(angle) * xRotation(angle)\n",
    "    #         RotationMatrix = zRotation(angle)\n",
    "    #         RotationMatrix = yRotation(angle)\n",
    "            RotationMatrix = xRotation(angle)\n",
    "    # getting the point to be rotated\n",
    "            point = np.array([[row['Points:0']], [row['Points:1']], [row['Points:2']], [1]])\n",
    "    #     new point\n",
    "            new_point = (RotationMatrix * point).tolist()\n",
    "    #       adding the values to a dictionary to add to the dataframe later\n",
    "            newData.append({'origId': int(row['origId']), 'iceLabel': int(row['iceLabel']), 'd' : row['d'], 'T': row['T'], 'Points:0' : new_point[0][0], 'Points:1' : new_point[1][0], 'Points:2' : new_point[2][0]})\n",
    "\n",
    "    #  getting the row names\n",
    "    rowNames = contrails.columns.tolist()   \n",
    "    # adding the generated points to a dataframe\n",
    "    dfNewData = pd.DataFrame(newData, columns=rowNames) \n",
    "    # adding the existing data to the new data\n",
    "    output = dfNewData.append(contrails,  ignore_index=True)\n",
    "    # print(output.sort_values(by=['origId']))\n",
    "    # extracting to a csv file\n",
    "    output.to_csv('Output/{}/{}'.format(folder, file))"
   ]
  },
  {
   "cell_type": "code",
   "execution_count": 4,
   "metadata": {},
   "outputs": [
    {
     "name": "stdout",
     "output_type": "stream",
     "text": [
      "Folder : contrails 1 - time : 0.06.csv extracted\n",
      "Folder : contrails 1 - time : 0.07.csv extracted\n",
      "Folder : contrails 1 - time : 0.08.csv extracted\n",
      "Folder : contrails 1 - time : 0.09.csv extracted\n",
      "Folder : contrails 1 - time : 0.1.csv extracted\n",
      "Folder : contrails 1 - time : 0.11.csv extracted\n",
      "Folder : contrails 1 - time : 0.12.csv extracted\n",
      "Folder : contrails 1 - time : 0.13.csv extracted\n",
      "Folder : contrails 1 - time : 0.14.csv extracted\n",
      "Folder : contrails 1 - time : 0.15.csv extracted\n",
      "Folder : contrails 1 - time : 0.16.csv extracted\n",
      "Folder : contrails 1 - time : 0.17.csv extracted\n",
      "Folder : contrails 1 - time : 0.18.csv extracted\n",
      "Folder : contrails 1 - time : 0.19.csv extracted\n",
      "Folder : contrails 1 - time : 0.2.csv extracted\n",
      "Folder : contrails 2 - time : 0.06.csv extracted\n",
      "Folder : contrails 2 - time : 0.07.csv extracted\n",
      "Folder : contrails 2 - time : 0.08.csv extracted\n",
      "Folder : contrails 2 - time : 0.09.csv extracted\n",
      "Folder : contrails 2 - time : 0.1.csv extracted\n",
      "Folder : contrails 2 - time : 0.11.csv extracted\n",
      "Folder : contrails 2 - time : 0.12.csv extracted\n",
      "Folder : contrails 2 - time : 0.13.csv extracted\n",
      "Folder : contrails 2 - time : 0.14.csv extracted\n",
      "Folder : contrails 2 - time : 0.15.csv extracted\n",
      "Folder : contrails 2 - time : 0.16.csv extracted\n",
      "Folder : contrails 2 - time : 0.17.csv extracted\n",
      "Folder : contrails 2 - time : 0.18.csv extracted\n",
      "Folder : contrails 2 - time : 0.19.csv extracted\n",
      "Folder : contrails 2 - time : 0.2.csv extracted\n",
      "Folder : contrails 3 - time : 0.06.csv extracted\n",
      "Folder : contrails 3 - time : 0.07.csv extracted\n",
      "Folder : contrails 3 - time : 0.08.csv extracted\n",
      "Folder : contrails 3 - time : 0.09.csv extracted\n",
      "Folder : contrails 3 - time : 0.1.csv extracted\n",
      "Folder : contrails 3 - time : 0.11.csv extracted\n",
      "Folder : contrails 3 - time : 0.12.csv extracted\n",
      "Folder : contrails 3 - time : 0.13.csv extracted\n",
      "Folder : contrails 3 - time : 0.14.csv extracted\n",
      "Folder : contrails 3 - time : 0.15.csv extracted\n",
      "Folder : contrails 3 - time : 0.16.csv extracted\n",
      "Folder : contrails 3 - time : 0.17.csv extracted\n",
      "Folder : contrails 3 - time : 0.18.csv extracted\n",
      "Folder : contrails 3 - time : 0.19.csv extracted\n",
      "Folder : contrails 3 - time : 0.2.csv extracted\n"
     ]
    }
   ],
   "source": [
    "folders = [f for f in listdir(\"data/\")]\n",
    "# print(folders)\n",
    "for folder in folders:\n",
    "    onlyfiles = [f for f in listdir(\"data/{}\".format(folder)) ]\n",
    "    for file in onlyfiles:\n",
    "        ThreeD_Conversion(folder,file)\n",
    "        print(\"Folder : {} - time : {} extracted\".format(folder, file))"
   ]
  },
  {
   "cell_type": "code",
   "execution_count": 5,
   "metadata": {},
   "outputs": [
    {
     "data": {
      "text/plain": [
       "['0.06.csv',\n",
       " '0.07.csv',\n",
       " '0.08.csv',\n",
       " '0.09.csv',\n",
       " '0.1.csv',\n",
       " '0.11.csv',\n",
       " '0.12.csv',\n",
       " '0.13.csv',\n",
       " '0.14.csv',\n",
       " '0.15.csv',\n",
       " '0.16.csv',\n",
       " '0.17.csv',\n",
       " '0.18.csv',\n",
       " '0.19.csv',\n",
       " '0.2.csv']"
      ]
     },
     "execution_count": 5,
     "metadata": {},
     "output_type": "execute_result"
    }
   ],
   "source": [
    "onlyfiles = [f for f in listdir(\"data/contrails 1\") ]\n",
    "onlyfiles"
   ]
  },
  {
   "cell_type": "code",
   "execution_count": null,
   "metadata": {},
   "outputs": [],
   "source": []
  },
  {
   "cell_type": "code",
   "execution_count": null,
   "metadata": {},
   "outputs": [],
   "source": []
  }
 ],
 "metadata": {
  "kernelspec": {
   "display_name": "Python 3",
   "language": "python",
   "name": "python3"
  },
  "language_info": {
   "codemirror_mode": {
    "name": "ipython",
    "version": 3
   },
   "file_extension": ".py",
   "mimetype": "text/x-python",
   "name": "python",
   "nbconvert_exporter": "python",
   "pygments_lexer": "ipython3",
   "version": "3.7.9"
  }
 },
 "nbformat": 4,
 "nbformat_minor": 4
}
