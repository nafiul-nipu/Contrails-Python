{
 "cells": [
  {
   "cell_type": "code",
   "execution_count": 6,
   "id": "7a72d7e9",
   "metadata": {},
   "outputs": [],
   "source": [
    "import pandas as pd\n",
    "import matplotlib.pyplot as plt\n",
    "%matplotlib inline\n",
    "import glob\n",
    "from os import listdir\n",
    "import numpy as np\n",
    "import math"
   ]
  },
  {
   "cell_type": "code",
   "execution_count": 9,
   "id": "8e39b1d7",
   "metadata": {},
   "outputs": [
    {
     "data": {
      "text/html": [
       "<div>\n",
       "<style scoped>\n",
       "    .dataframe tbody tr th:only-of-type {\n",
       "        vertical-align: middle;\n",
       "    }\n",
       "\n",
       "    .dataframe tbody tr th {\n",
       "        vertical-align: top;\n",
       "    }\n",
       "\n",
       "    .dataframe thead th {\n",
       "        text-align: right;\n",
       "    }\n",
       "</style>\n",
       "<table border=\"1\" class=\"dataframe\">\n",
       "  <thead>\n",
       "    <tr style=\"text-align: right;\">\n",
       "      <th></th>\n",
       "      <th>origId</th>\n",
       "      <th>iceLabel</th>\n",
       "      <th>d</th>\n",
       "      <th>T</th>\n",
       "      <th>Points:0</th>\n",
       "      <th>Points:1</th>\n",
       "      <th>Points:2</th>\n",
       "      <th>cluster</th>\n",
       "      <th>nodeCluster</th>\n",
       "    </tr>\n",
       "  </thead>\n",
       "  <tbody>\n",
       "    <tr>\n",
       "      <th>0</th>\n",
       "      <td>3732</td>\n",
       "      <td>1</td>\n",
       "      <td>1.000200e-07</td>\n",
       "      <td>228.61</td>\n",
       "      <td>5.1996</td>\n",
       "      <td>0.407980</td>\n",
       "      <td>-0.000002</td>\n",
       "      <td>9</td>\n",
       "      <td>80</td>\n",
       "    </tr>\n",
       "    <tr>\n",
       "      <th>1</th>\n",
       "      <td>3732</td>\n",
       "      <td>1</td>\n",
       "      <td>1.000200e-07</td>\n",
       "      <td>228.61</td>\n",
       "      <td>5.1996</td>\n",
       "      <td>0.401782</td>\n",
       "      <td>0.070843</td>\n",
       "      <td>9</td>\n",
       "      <td>80</td>\n",
       "    </tr>\n",
       "    <tr>\n",
       "      <th>2</th>\n",
       "      <td>3732</td>\n",
       "      <td>1</td>\n",
       "      <td>1.000200e-07</td>\n",
       "      <td>228.61</td>\n",
       "      <td>5.1996</td>\n",
       "      <td>0.383376</td>\n",
       "      <td>0.139536</td>\n",
       "      <td>9</td>\n",
       "      <td>80</td>\n",
       "    </tr>\n",
       "    <tr>\n",
       "      <th>3</th>\n",
       "      <td>3732</td>\n",
       "      <td>1</td>\n",
       "      <td>1.000200e-07</td>\n",
       "      <td>228.61</td>\n",
       "      <td>5.1996</td>\n",
       "      <td>0.353322</td>\n",
       "      <td>0.203989</td>\n",
       "      <td>9</td>\n",
       "      <td>80</td>\n",
       "    </tr>\n",
       "    <tr>\n",
       "      <th>4</th>\n",
       "      <td>3732</td>\n",
       "      <td>1</td>\n",
       "      <td>1.000200e-07</td>\n",
       "      <td>228.61</td>\n",
       "      <td>5.1996</td>\n",
       "      <td>0.312532</td>\n",
       "      <td>0.262243</td>\n",
       "      <td>9</td>\n",
       "      <td>80</td>\n",
       "    </tr>\n",
       "  </tbody>\n",
       "</table>\n",
       "</div>"
      ],
      "text/plain": [
       "   origId  iceLabel             d       T  Points:0  Points:1  Points:2  \\\n",
       "0    3732         1  1.000200e-07  228.61    5.1996  0.407980 -0.000002   \n",
       "1    3732         1  1.000200e-07  228.61    5.1996  0.401782  0.070843   \n",
       "2    3732         1  1.000200e-07  228.61    5.1996  0.383376  0.139536   \n",
       "3    3732         1  1.000200e-07  228.61    5.1996  0.353322  0.203989   \n",
       "4    3732         1  1.000200e-07  228.61    5.1996  0.312532  0.262243   \n",
       "\n",
       "   cluster  nodeCluster  \n",
       "0        9           80  \n",
       "1        9           80  \n",
       "2        9           80  \n",
       "3        9           80  \n",
       "4        9           80  "
      ]
     },
     "execution_count": 9,
     "metadata": {},
     "output_type": "execute_result"
    }
   ],
   "source": [
    "df = pd.read_csv('data/ice/{}/{}'.format('newData', '219.csv'))\n",
    "df.head()\n"
   ]
  },
  {
   "cell_type": "code",
   "execution_count": 10,
   "id": "54b3008c",
   "metadata": {},
   "outputs": [
    {
     "data": {
      "image/png": "[encoded data removed]",
      "text/plain": [
       "<Figure size 432x288 with 1 Axes>"
      ]
     },
     "metadata": {
      "needs_background": "light"
     },
     "output_type": "display_data"
    }
   ],
   "source": [
    "boxplot = df.boxplot(column=['T']) "
   ]
  },
  {
   "cell_type": "code",
   "execution_count": 11,
   "id": "f280a331",
   "metadata": {},
   "outputs": [
    {
     "name": "stdout",
     "output_type": "stream",
     "text": [
      "[219.02 219.02 219.02 ... 255.27 255.27 255.27]\n",
      "219.02\n",
      "255.27\n",
      "Q1 quantile of t :  219.2\n",
      "Q2 quantile of t :  228.47\n",
      "Q3 quantile of t :  236.37\n",
      "100th quantile of t :  219.09\n"
     ]
    }
   ],
   "source": [
    "t = df['T'].to_numpy()\n",
    "t = np.sort(t)\n",
    "print(t)\n",
    "print(min(t))\n",
    "print(max(t))\n",
    "print(\"Q1 quantile of t : \", np.quantile(t, .20))\n",
    "print(\"Q2 quantile of t : \", np.quantile(t, .50))\n",
    "print(\"Q3 quantile of t : \", np.quantile(t, .75))\n",
    "print(\"100th quantile of t : \", np.quantile(t, .1)) "
   ]
  },
  {
   "cell_type": "code",
   "execution_count": 12,
   "id": "49767777",
   "metadata": {},
   "outputs": [
    {
     "name": "stdout",
     "output_type": "stream",
     "text": [
      "['3-28-22', 'newData']\n",
      "['210.csv', '211.csv', '212.csv', '213.csv', '214.csv', '215.csv', '216.csv', '217.csv']\n",
      "['210.csv', '211.csv', '212.csv', '213.csv', '214.csv', '215.csv', '216.csv', '217.csv', '218.csv', '219.csv']\n"
     ]
    }
   ],
   "source": [
    "# folders = ['3-28-22']\n",
    "t = []\n",
    "d_mm = []\n",
    "name = []\n",
    "domain = []\n",
    "folders = [f for f in listdir(\"data/ice/\")]\n",
    "print(folders)\n",
    "for folder in folders:\n",
    "    onlyfiles = [f for f in listdir(\"data/ice/{}\".format(folder)) ]\n",
    "    print(onlyfiles)\n",
    "    for file in onlyfiles:\n",
    "        df = pd.read_csv('data/ice/{}/{}'.format(folder,file))\n",
    "        domain.append('{}_{}'.format(folder, file))\n",
    "        for index, row in df.iterrows():\n",
    "            t.append(row['T'])\n",
    "            d_mm.append(row['d'] * math.pow(10, 6))\n",
    "            name.append('{}_{}'.format(folder, file))"
   ]
  },
  {
   "cell_type": "code",
   "execution_count": 13,
   "id": "70f75cf4",
   "metadata": {},
   "outputs": [],
   "source": [
    "dct = {'name' : name, 'T' : t, 'd_mm': d_mm}"
   ]
  },
  {
   "cell_type": "code",
   "execution_count": 14,
   "id": "e13733d4",
   "metadata": {},
   "outputs": [],
   "source": [
    "data = pd.DataFrame(dct)"
   ]
  },
  {
   "cell_type": "code",
   "execution_count": 15,
   "id": "8397a24f",
   "metadata": {},
   "outputs": [
    {
     "data": {
      "text/html": [
       "<div>\n",
       "<style scoped>\n",
       "    .dataframe tbody tr th:only-of-type {\n",
       "        vertical-align: middle;\n",
       "    }\n",
       "\n",
       "    .dataframe tbody tr th {\n",
       "        vertical-align: top;\n",
       "    }\n",
       "\n",
       "    .dataframe thead th {\n",
       "        text-align: right;\n",
       "    }\n",
       "</style>\n",
       "<table border=\"1\" class=\"dataframe\">\n",
       "  <thead>\n",
       "    <tr style=\"text-align: right;\">\n",
       "      <th></th>\n",
       "      <th>name</th>\n",
       "      <th>T</th>\n",
       "      <th>d_mm</th>\n",
       "    </tr>\n",
       "  </thead>\n",
       "  <tbody>\n",
       "    <tr>\n",
       "      <th>0</th>\n",
       "      <td>3-28-22_210.csv</td>\n",
       "      <td>233.98</td>\n",
       "      <td>0.032775</td>\n",
       "    </tr>\n",
       "    <tr>\n",
       "      <th>1</th>\n",
       "      <td>3-28-22_210.csv</td>\n",
       "      <td>233.98</td>\n",
       "      <td>0.032775</td>\n",
       "    </tr>\n",
       "    <tr>\n",
       "      <th>2</th>\n",
       "      <td>3-28-22_210.csv</td>\n",
       "      <td>233.98</td>\n",
       "      <td>0.032775</td>\n",
       "    </tr>\n",
       "    <tr>\n",
       "      <th>3</th>\n",
       "      <td>3-28-22_210.csv</td>\n",
       "      <td>233.98</td>\n",
       "      <td>0.032775</td>\n",
       "    </tr>\n",
       "    <tr>\n",
       "      <th>4</th>\n",
       "      <td>3-28-22_210.csv</td>\n",
       "      <td>233.98</td>\n",
       "      <td>0.032775</td>\n",
       "    </tr>\n",
       "  </tbody>\n",
       "</table>\n",
       "</div>"
      ],
      "text/plain": [
       "              name       T      d_mm\n",
       "0  3-28-22_210.csv  233.98  0.032775\n",
       "1  3-28-22_210.csv  233.98  0.032775\n",
       "2  3-28-22_210.csv  233.98  0.032775\n",
       "3  3-28-22_210.csv  233.98  0.032775\n",
       "4  3-28-22_210.csv  233.98  0.032775"
      ]
     },
     "execution_count": 15,
     "metadata": {},
     "output_type": "execute_result"
    }
   ],
   "source": [
    "data.head()"
   ]
  },
  {
   "cell_type": "code",
   "execution_count": 16,
   "id": "b1c5d0c9",
   "metadata": {},
   "outputs": [],
   "source": [
    "data.to_csv('ioData.csv', index=False)"
   ]
  },
  {
   "cell_type": "code",
   "execution_count": 17,
   "id": "3a9a103d",
   "metadata": {},
   "outputs": [
    {
     "data": {
      "text/plain": [
       "['3-28-22_210.csv',\n",
       " '3-28-22_211.csv',\n",
       " '3-28-22_212.csv',\n",
       " '3-28-22_213.csv',\n",
       " '3-28-22_214.csv',\n",
       " '3-28-22_215.csv',\n",
       " '3-28-22_216.csv',\n",
       " '3-28-22_217.csv',\n",
       " 'newData_210.csv',\n",
       " 'newData_211.csv',\n",
       " 'newData_212.csv',\n",
       " 'newData_213.csv',\n",
       " 'newData_214.csv',\n",
       " 'newData_215.csv',\n",
       " 'newData_216.csv',\n",
       " 'newData_217.csv',\n",
       " 'newData_218.csv',\n",
       " 'newData_219.csv']"
      ]
     },
     "execution_count": 17,
     "metadata": {},
     "output_type": "execute_result"
    }
   ],
   "source": [
    "domain"
   ]
  },
  {
   "cell_type": "code",
   "execution_count": 18,
   "id": "53202d0c",
   "metadata": {},
   "outputs": [
    {
     "name": "stdout",
     "output_type": "stream",
     "text": [
      "['3-28-22', 'newData']\n",
      "['210.csv', '211.csv', '212.csv', '213.csv', '214.csv', '215.csv', '216.csv', '217.csv']\n",
      "['210.csv', '211.csv', '212.csv', '213.csv', '214.csv', '215.csv', '216.csv', '217.csv', '218.csv', '219.csv']\n"
     ]
    }
   ],
   "source": [
    "total = []\n",
    "ice = []\n",
    "name = []\n",
    "domain = []\n",
    "folders = [f for f in listdir(\"data/ice-nonice/\")]\n",
    "print(folders)\n",
    "for folder in folders:\n",
    "    onlyfiles = [f for f in listdir(\"data/ice-nonice/{}\".format(folder)) ]\n",
    "    print(onlyfiles)\n",
    "    for file in onlyfiles:\n",
    "        df = pd.read_csv('data/ice-nonice/{}/{}'.format(folder,file))\n",
    "        domain.append('{}_{}'.format(folder, file))\n",
    "        total.append(len(df[\"iceLabel\"].to_list()))\n",
    "        icedf = df[df.iceLabel == 1]\n",
    "        ice.append(len(icedf['iceLabel'].to_list()))"
   ]
  },
  {
   "cell_type": "code",
   "execution_count": 19,
   "id": "99d98af2",
   "metadata": {},
   "outputs": [
    {
     "data": {
      "text/html": [
       "<div>\n",
       "<style scoped>\n",
       "    .dataframe tbody tr th:only-of-type {\n",
       "        vertical-align: middle;\n",
       "    }\n",
       "\n",
       "    .dataframe tbody tr th {\n",
       "        vertical-align: top;\n",
       "    }\n",
       "\n",
       "    .dataframe thead th {\n",
       "        text-align: right;\n",
       "    }\n",
       "</style>\n",
       "<table border=\"1\" class=\"dataframe\">\n",
       "  <thead>\n",
       "    <tr style=\"text-align: right;\">\n",
       "      <th></th>\n",
       "      <th>name</th>\n",
       "      <th>total</th>\n",
       "      <th>ice</th>\n",
       "    </tr>\n",
       "  </thead>\n",
       "  <tbody>\n",
       "    <tr>\n",
       "      <th>0</th>\n",
       "      <td>3-28-22_210.csv</td>\n",
       "      <td>102638</td>\n",
       "      <td>22838</td>\n",
       "    </tr>\n",
       "    <tr>\n",
       "      <th>1</th>\n",
       "      <td>3-28-22_211.csv</td>\n",
       "      <td>100586</td>\n",
       "      <td>22686</td>\n",
       "    </tr>\n",
       "    <tr>\n",
       "      <th>2</th>\n",
       "      <td>3-28-22_212.csv</td>\n",
       "      <td>102182</td>\n",
       "      <td>23256</td>\n",
       "    </tr>\n",
       "    <tr>\n",
       "      <th>3</th>\n",
       "      <td>3-28-22_213.csv</td>\n",
       "      <td>101840</td>\n",
       "      <td>23446</td>\n",
       "    </tr>\n",
       "    <tr>\n",
       "      <th>4</th>\n",
       "      <td>3-28-22_214.csv</td>\n",
       "      <td>102106</td>\n",
       "      <td>23598</td>\n",
       "    </tr>\n",
       "  </tbody>\n",
       "</table>\n",
       "</div>"
      ],
      "text/plain": [
       "              name   total    ice\n",
       "0  3-28-22_210.csv  102638  22838\n",
       "1  3-28-22_211.csv  100586  22686\n",
       "2  3-28-22_212.csv  102182  23256\n",
       "3  3-28-22_213.csv  101840  23446\n",
       "4  3-28-22_214.csv  102106  23598"
      ]
     },
     "execution_count": 19,
     "metadata": {},
     "output_type": "execute_result"
    }
   ],
   "source": [
    "dct = {'name' : domain, 'total' : total, 'ice': ice}\n",
    "data = pd.DataFrame(dct)\n",
    "data.head()\n"
   ]
  },
  {
   "cell_type": "code",
   "execution_count": 20,
   "id": "6681eefd",
   "metadata": {},
   "outputs": [],
   "source": [
    "data.to_csv('particleInfo.csv', index=False)"
   ]
  },
  {
   "cell_type": "code",
   "execution_count": 21,
   "id": "772e1821",
   "metadata": {},
   "outputs": [
    {
     "name": "stdout",
     "output_type": "stream",
     "text": [
      "92302 102638\n",
      "7068 24472\n"
     ]
    }
   ],
   "source": [
    "print(min(total), max(total))\n",
    "print(min(ice), max(ice))"
   ]
  },
  {
   "cell_type": "code",
   "execution_count": null,
   "id": "7821e5d8",
   "metadata": {},
   "outputs": [],
   "source": []
  }
 ],
 "metadata": {
  "kernelspec": {
   "display_name": "Python 3",
   "language": "python",
   "name": "python3"
  },
  "language_info": {
   "codemirror_mode": {
    "name": "ipython",
    "version": 3
   },
   "file_extension": ".py",
   "mimetype": "text/x-python",
   "name": "python",
   "nbconvert_exporter": "python",
   "pygments_lexer": "ipython3",
   "version": "3.8.8"
  }
 },
 "nbformat": 4,
 "nbformat_minor": 5
}
