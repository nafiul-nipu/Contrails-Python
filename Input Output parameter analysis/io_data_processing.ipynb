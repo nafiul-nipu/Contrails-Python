{
 "cells": [
  {
   "cell_type": "code",
   "execution_count": 10,
   "id": "7a72d7e9",
   "metadata": {},
   "outputs": [],
   "source": [
    "import pandas as pd\n",
    "import matplotlib.pyplot as plt\n",
    "%matplotlib inline\n",
    "import glob\n",
    "from os import listdir\n",
    "import numpy as np\n",
    "import math"
   ]
  },
  {
   "cell_type": "code",
   "execution_count": 3,
   "id": "8e39b1d7",
   "metadata": {},
   "outputs": [
    {
     "data": {
      "text/html": [
       "<div>\n",
       "<style scoped>\n",
       "    .dataframe tbody tr th:only-of-type {\n",
       "        vertical-align: middle;\n",
       "    }\n",
       "\n",
       "    .dataframe tbody tr th {\n",
       "        vertical-align: top;\n",
       "    }\n",
       "\n",
       "    .dataframe thead th {\n",
       "        text-align: right;\n",
       "    }\n",
       "</style>\n",
       "<table border=\"1\" class=\"dataframe\">\n",
       "  <thead>\n",
       "    <tr style=\"text-align: right;\">\n",
       "      <th></th>\n",
       "      <th>origId</th>\n",
       "      <th>d</th>\n",
       "      <th>T</th>\n",
       "      <th>d_nm</th>\n",
       "      <th>Points:0</th>\n",
       "      <th>Points:1</th>\n",
       "      <th>Points:2</th>\n",
       "      <th>iceLabel</th>\n",
       "      <th>cluster</th>\n",
       "      <th>nodeCluster</th>\n",
       "    </tr>\n",
       "  </thead>\n",
       "  <tbody>\n",
       "    <tr>\n",
       "      <th>0</th>\n",
       "      <td>3262</td>\n",
       "      <td>3.277500e-08</td>\n",
       "      <td>233.98</td>\n",
       "      <td>32.775</td>\n",
       "      <td>5.506</td>\n",
       "      <td>0.863080</td>\n",
       "      <td>5.646300e-09</td>\n",
       "      <td>1</td>\n",
       "      <td>2</td>\n",
       "      <td>2</td>\n",
       "    </tr>\n",
       "    <tr>\n",
       "      <th>1</th>\n",
       "      <td>3262</td>\n",
       "      <td>3.277500e-08</td>\n",
       "      <td>233.98</td>\n",
       "      <td>32.775</td>\n",
       "      <td>5.506</td>\n",
       "      <td>0.849968</td>\n",
       "      <td>1.498723e-01</td>\n",
       "      <td>1</td>\n",
       "      <td>2</td>\n",
       "      <td>2</td>\n",
       "    </tr>\n",
       "    <tr>\n",
       "      <th>2</th>\n",
       "      <td>3262</td>\n",
       "      <td>3.277500e-08</td>\n",
       "      <td>233.98</td>\n",
       "      <td>32.775</td>\n",
       "      <td>5.506</td>\n",
       "      <td>0.811030</td>\n",
       "      <td>2.951908e-01</td>\n",
       "      <td>1</td>\n",
       "      <td>2</td>\n",
       "      <td>2</td>\n",
       "    </tr>\n",
       "    <tr>\n",
       "      <th>3</th>\n",
       "      <td>3262</td>\n",
       "      <td>3.277500e-08</td>\n",
       "      <td>233.98</td>\n",
       "      <td>32.775</td>\n",
       "      <td>5.506</td>\n",
       "      <td>0.747449</td>\n",
       "      <td>4.315400e-01</td>\n",
       "      <td>1</td>\n",
       "      <td>2</td>\n",
       "      <td>2</td>\n",
       "    </tr>\n",
       "    <tr>\n",
       "      <th>4</th>\n",
       "      <td>3262</td>\n",
       "      <td>3.277500e-08</td>\n",
       "      <td>233.98</td>\n",
       "      <td>32.775</td>\n",
       "      <td>5.506</td>\n",
       "      <td>0.661158</td>\n",
       "      <td>5.547771e-01</td>\n",
       "      <td>1</td>\n",
       "      <td>2</td>\n",
       "      <td>2</td>\n",
       "    </tr>\n",
       "  </tbody>\n",
       "</table>\n",
       "</div>"
      ],
      "text/plain": [
       "   origId             d       T    d_nm  Points:0  Points:1      Points:2  \\\n",
       "0    3262  3.277500e-08  233.98  32.775     5.506  0.863080  5.646300e-09   \n",
       "1    3262  3.277500e-08  233.98  32.775     5.506  0.849968  1.498723e-01   \n",
       "2    3262  3.277500e-08  233.98  32.775     5.506  0.811030  2.951908e-01   \n",
       "3    3262  3.277500e-08  233.98  32.775     5.506  0.747449  4.315400e-01   \n",
       "4    3262  3.277500e-08  233.98  32.775     5.506  0.661158  5.547771e-01   \n",
       "\n",
       "   iceLabel  cluster  nodeCluster  \n",
       "0         1        2            2  \n",
       "1         1        2            2  \n",
       "2         1        2            2  \n",
       "3         1        2            2  \n",
       "4         1        2            2  "
      ]
     },
     "execution_count": 3,
     "metadata": {},
     "output_type": "execute_result"
    }
   ],
   "source": [
    "df = pd.read_csv('data/{}/{}'.format('3-28-22', '210.csv'))\n",
    "df.head()\n"
   ]
  },
  {
   "cell_type": "code",
   "execution_count": 4,
   "id": "54b3008c",
   "metadata": {},
   "outputs": [
    {
     "data": {
      "image/png": "[encoded data removed]",
      "text/plain": [
       "<Figure size 432x288 with 1 Axes>"
      ]
     },
     "metadata": {
      "needs_background": "light"
     },
     "output_type": "display_data"
    }
   ],
   "source": [
    "boxplot = df.boxplot(column=['T']) "
   ]
  },
  {
   "cell_type": "code",
   "execution_count": 6,
   "id": "f280a331",
   "metadata": {},
   "outputs": [
    {
     "name": "stdout",
     "output_type": "stream",
     "text": [
      "[233.98 233.98 233.98 ... 210.03 236.12 234.03]\n",
      "210.0\n",
      "Q2 quantile of t :  231.44\n",
      "Q1 quantile of t :  223.8\n",
      "Q3 quantile of t :  238.7\n",
      "100th quantile of t :  216.05\n"
     ]
    }
   ],
   "source": [
    "t = df['T'].to_numpy()\n",
    "print(t)\n",
    "print(min(t))\n",
    "print(\"Q2 quantile of t : \", np.quantile(t, .50))\n",
    "print(\"Q1 quantile of t : \", np.quantile(t, .25))\n",
    "print(\"Q3 quantile of t : \", np.quantile(t, .75))\n",
    "print(\"100th quantile of t : \", np.quantile(t, .1)) "
   ]
  },
  {
   "cell_type": "code",
   "execution_count": 12,
   "id": "49767777",
   "metadata": {},
   "outputs": [
    {
     "name": "stdout",
     "output_type": "stream",
     "text": [
      "['3-28-22', 'newData']\n",
      "['210.csv', '211.csv', '212.csv', '213.csv', '214.csv', '215.csv', '216.csv', '217.csv']\n",
      "['210.csv', '211.csv', '212.csv', '213.csv', '214.csv', '215.csv', '216.csv', '217.csv', '218.csv', '219.csv']\n"
     ]
    }
   ],
   "source": [
    "# folders = ['3-28-22']\n",
    "t = []\n",
    "d_mm = []\n",
    "name = []\n",
    "folders = [f for f in listdir(\"data/\")]\n",
    "print(folders)\n",
    "for folder in folders:\n",
    "    onlyfiles = [f for f in listdir(\"data/{}\".format(folder)) ]\n",
    "    print(onlyfiles)\n",
    "    for file in onlyfiles:\n",
    "        df = pd.read_csv('data/{}/{}'.format(folder,file))\n",
    "        for index, row in df.iterrows():\n",
    "            t.append(row['T'])\n",
    "            d_mm.append(math.pow(row['d'], 6))\n",
    "            name.append('{}_{}'.format(folder, file))"
   ]
  },
  {
   "cell_type": "code",
   "execution_count": null,
   "id": "c0bc3d7d",
   "metadata": {},
   "outputs": [],
   "source": []
  }
 ],
 "metadata": {
  "kernelspec": {
   "display_name": "Python 3",
   "language": "python",
   "name": "python3"
  },
  "language_info": {
   "codemirror_mode": {
    "name": "ipython",
    "version": 3
   },
   "file_extension": ".py",
   "mimetype": "text/x-python",
   "name": "python",
   "nbconvert_exporter": "python",
   "pygments_lexer": "ipython3",
   "version": "3.8.8"
  }
 },
 "nbformat": 4,
 "nbformat_minor": 5
}
