{
 "cells": [
  {
   "cell_type": "code",
   "execution_count": 2,
   "metadata": {},
   "outputs": [
    {
     "name": "stdout",
     "output_type": "stream",
     "text": [
      "True\n"
     ]
    }
   ],
   "source": [
    "from shapely.geometry import Point\n",
    "from shapely.geometry.polygon import Polygon\n",
    "\n",
    "point = Point(0.5, 0.5, 0.5)\n",
    "polygon = Polygon([(0, 0, 0), (0, 1, 2), (1, 1, 1), (1, 0, 1)])\n",
    "print(polygon.contains(point))"
   ]
  },
  {
   "cell_type": "code",
   "execution_count": null,
   "metadata": {},
   "outputs": [],
   "source": [
    "'''\n",
    "@ algorithm \n",
    "\n",
    "Inside(Polyhedron P, point q)\n",
    "   Segment S = [q, q+(0,0,1e30)]\n",
    "   count = 0\n",
    "   For each triangle T of P\n",
    "      If Intersect(S,T)\n",
    "            count = count + 1\n",
    "      End if\n",
    "   End for\n",
    "   return odd(count)\n",
    "End\n",
    "\n",
    "Intersect([q1,q2],(t1,t2,t3))\n",
    "  s1 = orient3d(q1,t1,t2,t3)\n",
    "  s2 = orient3d(q2,t1,t2,t3)\n",
    "  // Test whether the two extermities of the segment\n",
    "  // are on the same side of the supporting plane of\n",
    "  // the triangle\n",
    "  If(s1 == s2) \n",
    "     return false\n",
    "  End if\n",
    "  // Now we know that the segment 'straddles' the supporing\n",
    "  // plane. We need to test whether the three tetrahedra formed\n",
    "  // by the segment and the three edges of the triangle have\n",
    "  // the same orientation\n",
    "  s3 = orient3d(q1,q2,t1,t2)\n",
    "  s4 = orient3d(q1,q2,t2,t3)\n",
    "  s5 = orient3d(q1,q2,t3,t1)\n",
    "  return (s3 == s4 AND s4 == s5)\n",
    "End\n",
    "\n",
    "Orient3d(a,b,c,d)\n",
    "  // Computes the sign of the signed volume  \n",
    "  // of the tetrahedron (a,b,c,d)\n",
    "  return Sign( dot(cross(b-a,c-a),d-a) )\n",
    "End\n",
    "\n",
    "'''\n"
   ]
  },
  {
   "cell_type": "code",
   "execution_count": 3,
   "metadata": {},
   "outputs": [
    {
     "name": "stderr",
     "output_type": "stream",
     "text": [
      "Matplotlib is building the font cache; this may take a moment.\n"
     ]
    },
    {
     "data": {
      "image/png": "[encoded data removed]",
      "text/plain": [
       "<Figure size 432x288 with 1 Axes>"
      ]
     },
     "metadata": {
      "needs_background": "light"
     },
     "output_type": "display_data"
    }
   ],
   "source": [
    "from matplotlib import path\n",
    "import matplotlib.pyplot as plt\n",
    "import numpy as np\n",
    "\n",
    "first = -3\n",
    "size  = (3-first)/100\n",
    "xv,yv = np.meshgrid(np.linspace(-3,3,100),np.linspace(-3,3,100))\n",
    "p = path.Path([(0,0), (0, 1), (1, 1), (1, 0)])  # square with legs length 1 and bottom left corner at the origin\n",
    "flags = p.contains_points(np.hstack((xv.flatten()[:,np.newaxis],yv.flatten()[:,np.newaxis])))\n",
    "grid = np.zeros((101,101),dtype='bool')\n",
    "grid[((xv.flatten()-first)/size).astype('int'),((yv.flatten()-first)/size).astype('int')] = flags\n",
    "\n",
    "xi,yi = np.random.randint(-300,300,100)/100,np.random.randint(-300,300,100)/100\n",
    "vflag = grid[((xi-first)/size).astype('int'),((yi-first)/size).astype('int')]\n",
    "plt.imshow(grid.T,origin='lower',interpolation='nearest',cmap='binary')\n",
    "plt.scatter(((xi-first)/size).astype('int'),((yi-first)/size).astype('int'),c=vflag,cmap='Greens',s=90)\n",
    "plt.show()"
   ]
  },
  {
   "cell_type": "code",
   "execution_count": null,
   "metadata": {},
   "outputs": [],
   "source": [
    "typedef struct {\n",
    "   double x,y,z;\n",
    "} XYZ;\n",
    "#define EPSILON  0.0000001\n",
    "#define MODULUS(p) (sqrt(p.x*p.x + p.y*p.y + p.z*p.z))\n",
    "#define TWOPI 6.283185307179586476925287\n",
    "#define RTOD 57.2957795\n",
    "\n",
    "double CalcAngleSum(XYZ q,XYZ *p,int n)\n",
    "{\n",
    "   int i;\n",
    "   double m1,m2;\n",
    "   double anglesum=0,costheta;\n",
    "   XYZ p1,p2;\n",
    "\n",
    "   for (i=0;i<n;i++) {\n",
    "\n",
    "      p1.x = p[i].x - q.x;\n",
    "      p1.y = p[i].y - q.y;\n",
    "      p1.z = p[i].z - q.z;\n",
    "      p2.x = p[(i+1)%n].x - q.x;\n",
    "      p2.y = p[(i+1)%n].y - q.y;\n",
    "      p2.z = p[(i+1)%n].z - q.z;\n",
    "\n",
    "      m1 = MODULUS(p1);\n",
    "      m2 = MODULUS(p2);\n",
    "      if (m1*m2 <= EPSILON)\n",
    "         return(TWOPI); /* We are on a node, consider this inside */\n",
    "      else\n",
    "         costheta = (p1.x*p2.x + p1.y*p2.y + p1.z*p2.z) / (m1*m2);\n",
    "\n",
    "      anglesum += acos(costheta);\n",
    "   }\n",
    "   return(anglesum);\n",
    "}"
   ]
  }
 ],
 "metadata": {
  "kernelspec": {
   "display_name": "Python 3",
   "language": "python",
   "name": "python3"
  },
  "language_info": {
   "codemirror_mode": {
    "name": "ipython",
    "version": 3
   },
   "file_extension": ".py",
   "mimetype": "text/x-python",
   "name": "python",
   "nbconvert_exporter": "python",
   "pygments_lexer": "ipython3",
   "version": "3.6.12"
  }
 },
 "nbformat": 4,
 "nbformat_minor": 2
}
