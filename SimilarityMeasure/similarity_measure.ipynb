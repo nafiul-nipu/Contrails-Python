{
 "cells": [
  {
   "cell_type": "code",
   "execution_count": 54,
   "id": "0315662b",
   "metadata": {},
   "outputs": [],
   "source": [
    "import pandas as pd\n",
    "import matplotlib.pyplot as plt\n",
    "%matplotlib inline\n",
    "import numpy as np\n",
    "from sklearn.neighbors import NearestNeighbors"
   ]
  },
  {
   "cell_type": "code",
   "execution_count": 16,
   "id": "bbc9835c",
   "metadata": {},
   "outputs": [],
   "source": [
    "contrails1 = pd.read_csv('data/contrails1.csv')\n",
    "# contrails1.head()\n",
    "contrails1.set_index('Timesteps', inplace=True)\n",
    "# contrails1.sort_values(by=[\"Percentage\"], ascending=False)\n",
    "contrails1\n",
    "\n",
    "filtered = contrails1[['TotalParticles', \"Ice\", \"NewIce\", \"Temp\"]]\n"
   ]
  },
  {
   "cell_type": "code",
   "execution_count": 51,
   "id": "4be5070e",
   "metadata": {
    "scrolled": true
   },
   "outputs": [
    {
     "data": {
      "text/plain": [
       "{0.06: [424.0, 3.0, 3.0, 596.57],\n",
       " 0.07: [849.0, 131.0, 128.0, 455.57],\n",
       " 0.08: [1274.0, 504.0, 373.0, 385.02],\n",
       " 0.09: [1701.0, 783.0, 415.0, 347.19],\n",
       " 0.1: [2125.0, 794.0, 414.0, 322.4],\n",
       " 0.11: [2215.0, 813.0, 406.0, 319.03],\n",
       " 0.12: [2227.0, 808.0, 425.0, 317.41],\n",
       " 0.13: [2216.0, 785.0, 443.0, 318.26],\n",
       " 0.14: [2215.0, 784.0, 427.0, 318.98],\n",
       " 0.15: [2200.0, 801.0, 410.0, 319.69],\n",
       " 0.16: [2204.0, 796.0, 432.0, 319.52],\n",
       " 0.17: [2217.0, 798.0, 429.0, 318.56],\n",
       " 0.18: [2217.0, 791.0, 434.0, 319.31],\n",
       " 0.19: [2232.0, 796.0, 421.0, 318.07],\n",
       " 0.2: [2221.0, 815.0, 405.0, 317.84]}"
      ]
     },
     "execution_count": 51,
     "metadata": {},
     "output_type": "execute_result"
    }
   ],
   "source": [
    "data={}\n",
    "npdata = []\n",
    "for index, row in filtered.iterrows():\n",
    "    data[index] = row.to_numpy().tolist()\n",
    "    npdata.append(row.to_numpy().tolist())\n",
    "    \n",
    "data"
   ]
  },
  {
   "cell_type": "code",
   "execution_count": 48,
   "id": "05e8eddb",
   "metadata": {},
   "outputs": [
    {
     "data": {
      "text/plain": [
       "37.883517524115945"
      ]
     },
     "execution_count": 48,
     "metadata": {},
     "output_type": "execute_result"
    }
   ],
   "source": [
    "from scipy.spatial.distance import euclidean\n",
    "euclidean(data[0.18], data[0.2])"
   ]
  },
  {
   "cell_type": "code",
   "execution_count": 46,
   "id": "2ece9ed3",
   "metadata": {},
   "outputs": [
    {
     "data": {
      "text/plain": [
       "37.883517524115945"
      ]
     },
     "execution_count": 46,
     "metadata": {},
     "output_type": "execute_result"
    }
   ],
   "source": [
    "from scipy.spatial.distance import minkowski\n",
    "minkowski(data[0.18], data[0.2])"
   ]
  },
  {
   "cell_type": "code",
   "execution_count": 52,
   "id": "a0cb62f3",
   "metadata": {},
   "outputs": [
    {
     "data": {
      "text/plain": [
       "[[424.0, 3.0, 3.0, 596.57],\n",
       " [849.0, 131.0, 128.0, 455.57],\n",
       " [1274.0, 504.0, 373.0, 385.02],\n",
       " [1701.0, 783.0, 415.0, 347.19],\n",
       " [2125.0, 794.0, 414.0, 322.4],\n",
       " [2215.0, 813.0, 406.0, 319.03],\n",
       " [2227.0, 808.0, 425.0, 317.41],\n",
       " [2216.0, 785.0, 443.0, 318.26],\n",
       " [2215.0, 784.0, 427.0, 318.98],\n",
       " [2200.0, 801.0, 410.0, 319.69],\n",
       " [2204.0, 796.0, 432.0, 319.52],\n",
       " [2217.0, 798.0, 429.0, 318.56],\n",
       " [2217.0, 791.0, 434.0, 319.31],\n",
       " [2232.0, 796.0, 421.0, 318.07],\n",
       " [2221.0, 815.0, 405.0, 317.84]]"
      ]
     },
     "execution_count": 52,
     "metadata": {},
     "output_type": "execute_result"
    }
   ],
   "source": [
    "npdata"
   ]
  },
  {
   "cell_type": "code",
   "execution_count": 101,
   "id": "9280bc16",
   "metadata": {},
   "outputs": [],
   "source": [
    "nbrs = NearestNeighbors(n_neighbors=5, algorithm='kd_tree').fit(npdata)"
   ]
  },
  {
   "cell_type": "code",
   "execution_count": 102,
   "id": "8e54baa7",
   "metadata": {},
   "outputs": [],
   "source": [
    "distances, indices = nbrs.kneighbors(npdata)"
   ]
  },
  {
   "cell_type": "code",
   "execution_count": 103,
   "id": "ac2a9206",
   "metadata": {},
   "outputs": [],
   "source": [
    "time = list(data.keys())"
   ]
  },
  {
   "cell_type": "code",
   "execution_count": 104,
   "id": "2805e95b",
   "metadata": {},
   "outputs": [],
   "source": [
    "neighbors = {}\n",
    "for indice in range(len(indices)):\n",
    "    neighbors[time[indice]] = []   \n",
    "#     print(indice)\n",
    "    for i in indices[indice]:\n",
    "#         print(i)\n",
    "        neighbors[time[indice]].append(time[i])\n",
    "    "
   ]
  },
  {
   "cell_type": "code",
   "execution_count": 105,
   "id": "94236ab7",
   "metadata": {},
   "outputs": [
    {
     "data": {
      "text/plain": [
       "{0.06: [0.06, 0.07, 0.08, 0.09, 0.1],\n",
       " 0.07: [0.07, 0.06, 0.08, 0.09, 0.1],\n",
       " 0.08: [0.08, 0.09, 0.07, 0.1, 0.15],\n",
       " 0.09: [0.09, 0.1, 0.15, 0.16, 0.08],\n",
       " 0.1: [0.1, 0.15, 0.16, 0.14, 0.11],\n",
       " 0.11: [0.11, 0.2, 0.15, 0.12, 0.17],\n",
       " 0.12: [0.12, 0.19, 0.17, 0.18, 0.2],\n",
       " 0.13: [0.13, 0.18, 0.14, 0.17, 0.16],\n",
       " 0.14: [0.14, 0.18, 0.17, 0.13, 0.16],\n",
       " 0.15: [0.15, 0.11, 0.16, 0.17, 0.2],\n",
       " 0.16: [0.16, 0.17, 0.18, 0.14, 0.13],\n",
       " 0.17: [0.17, 0.18, 0.16, 0.14, 0.12],\n",
       " 0.18: [0.18, 0.17, 0.14, 0.13, 0.16],\n",
       " 0.19: [0.19, 0.12, 0.17, 0.18, 0.14],\n",
       " 0.2: [0.2, 0.11, 0.12, 0.15, 0.19]}"
      ]
     },
     "execution_count": 105,
     "metadata": {},
     "output_type": "execute_result"
    }
   ],
   "source": [
    "neighbors"
   ]
  },
  {
   "cell_type": "code",
   "execution_count": 106,
   "id": "692729c9",
   "metadata": {},
   "outputs": [
    {
     "data": {
      "text/plain": [
       "array([[ 0,  1,  2,  3,  4],\n",
       "       [ 1,  0,  2,  3,  4],\n",
       "       [ 2,  3,  1,  4,  9],\n",
       "       [ 3,  4,  9, 10,  2],\n",
       "       [ 4,  9, 10,  8,  5],\n",
       "       [ 5, 14,  9,  6, 11],\n",
       "       [ 6, 13, 11, 12, 14],\n",
       "       [ 7, 12,  8, 11, 10],\n",
       "       [ 8, 12, 11,  7, 10],\n",
       "       [ 9,  5, 10, 11, 14],\n",
       "       [10, 11, 12,  8,  7],\n",
       "       [11, 12, 10,  8,  6],\n",
       "       [12, 11,  8,  7, 10],\n",
       "       [13,  6, 11, 12,  8],\n",
       "       [14,  5,  6,  9, 13]], dtype=int64)"
      ]
     },
     "execution_count": 106,
     "metadata": {},
     "output_type": "execute_result"
    }
   ],
   "source": [
    "indices"
   ]
  },
  {
   "cell_type": "code",
   "execution_count": 100,
   "id": "7f689b2e",
   "metadata": {},
   "outputs": [
    {
     "data": {
      "text/plain": [
       "array([[   0.        ,  482.19809207, 1074.78109515, 1571.96163579],\n",
       "       [   0.        ,  482.19809207,  620.28727417, 1115.85089703],\n",
       "       [   0.        ,  513.19110368,  620.28727417,  902.16587411],\n",
       "       [   0.        ,  424.86767834,  500.10623871,  504.21486382],\n",
       "       [   0.        ,   75.48075318,   81.10052034,   91.54614356],\n",
       "       [   0.        ,    6.51276439,   19.63251385,   23.07865681],\n",
       "       [   0.        ,   13.61747407,   14.74186216,   21.76258257],\n",
       "       [   0.        ,   10.91340918,   16.07850739,   19.13347851],\n",
       "       [   0.        ,   10.10489485,   14.28903076,   16.07850739],\n",
       "       [   0.        ,   19.63251385,   22.91350912,   25.69585375],\n",
       "       [   0.        ,   13.5248512 ,   14.07281422,   17.03794589],\n",
       "       [   0.        ,    8.63495802,   13.5248512 ,   14.28903076],\n",
       "       [   0.        ,    8.63495802,   10.10489485,   10.91340918],\n",
       "       [   0.        ,   13.61747407,   17.12425473,   20.50701343],\n",
       "       [   0.        ,    6.51276439,   22.02691308,   25.79578454]])"
      ]
     },
     "execution_count": 100,
     "metadata": {},
     "output_type": "execute_result"
    }
   ],
   "source": [
    "distances"
   ]
  },
  {
   "cell_type": "code",
   "execution_count": null,
   "id": "10774de4",
   "metadata": {},
   "outputs": [],
   "source": []
  }
 ],
 "metadata": {
  "kernelspec": {
   "display_name": "Python 3 (ipykernel)",
   "language": "python",
   "name": "python3"
  },
  "language_info": {
   "codemirror_mode": {
    "name": "ipython",
    "version": 3
   },
   "file_extension": ".py",
   "mimetype": "text/x-python",
   "name": "python",
   "nbconvert_exporter": "python",
   "pygments_lexer": "ipython3",
   "version": "3.7.9"
  }
 },
 "nbformat": 4,
 "nbformat_minor": 5
}
