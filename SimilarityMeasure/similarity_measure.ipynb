{
 "cells": [
  {
   "cell_type": "code",
   "execution_count": 2,
   "id": "0315662b",
   "metadata": {},
   "outputs": [],
   "source": [
    "import pandas as pd\n",
    "import matplotlib.pyplot as plt\n",
    "%matplotlib inline\n",
    "import numpy as np\n",
    "from sklearn.neighbors import NearestNeighbors\n",
    "from sklearn import preprocessing"
   ]
  },
  {
   "cell_type": "code",
   "execution_count": 3,
   "id": "bbc9835c",
   "metadata": {},
   "outputs": [],
   "source": [
    "contrails1 = pd.read_csv('data/contrails1.csv')\n",
    "# contrails1.head()\n",
    "contrails1.set_index('Timesteps', inplace=True)\n",
    "# contrails1.sort_values(by=[\"Percentage\"], ascending=False)\n",
    "filtered1 = contrails1[['TotalParticles', \"Ice\", \"NewIce\", \"Temp\"]]\n",
    "\n",
    "contrails2 = pd.read_csv('data/contrails2.csv')\n",
    "# contrails1.head()\n",
    "contrails2.set_index('Timesteps', inplace=True)\n",
    "# contrails1.sort_values(by=[\"Percentage\"], ascending=False)\n",
    "filtered2 = contrails2[['TotalParticles', \"Ice\", \"NewIce\", \"Temp\"]]\n",
    "\n",
    "contrails3 = pd.read_csv('data/contrails3.csv')\n",
    "# contrails1.head()\n",
    "contrails3.set_index('Timesteps', inplace=True)\n",
    "# contrails1.sort_values(by=[\"Percentage\"], ascending=False)\n",
    "filtered3 = contrails3[['TotalParticles', \"Ice\", \"NewIce\", \"Temp\"]]\n"
   ]
  },
  {
   "cell_type": "code",
   "execution_count": 4,
   "id": "4be5070e",
   "metadata": {
    "scrolled": true
   },
   "outputs": [],
   "source": [
    "data={}\n",
    "npdata = []\n",
    "for index, row in filtered1.iterrows():\n",
    "    data[\"1_\"+str(index)] = row.to_numpy().tolist()\n",
    "    npdata.append(row.to_numpy().tolist())\n",
    "    \n",
    "for index, row in filtered2.iterrows():\n",
    "    data[\"2_\"+str(index)] = row.to_numpy().tolist()\n",
    "    npdata.append(row.to_numpy().tolist())\n",
    "    \n",
    "for index, row in filtered3.iterrows():\n",
    "    data[\"3_\"+str(index)] = row.to_numpy().tolist()\n",
    "    npdata.append(row.to_numpy().tolist())\n",
    "    "
   ]
  },
  {
   "cell_type": "code",
   "execution_count": 5,
   "id": "3e2504b7",
   "metadata": {},
   "outputs": [],
   "source": [
    "\"\"\"StandardScaler removes the mean and scales each feature/variable\n",
    "to unit variance. This operation is performed feature-wise in an \n",
    "independent way.\"\"\"\n",
    "scaler = preprocessing.StandardScaler().fit(npdata)"
   ]
  },
  {
   "cell_type": "code",
   "execution_count": 6,
   "id": "49ecf841",
   "metadata": {},
   "outputs": [
    {
     "data": {
      "text/plain": [
       "array([1893.42222222,  673.13333333,  371.57777778,  356.37822222])"
      ]
     },
     "execution_count": 6,
     "metadata": {},
     "output_type": "execute_result"
    }
   ],
   "source": [
    "scaler.mean_"
   ]
  },
  {
   "cell_type": "code",
   "execution_count": 7,
   "id": "785b6767",
   "metadata": {},
   "outputs": [
    {
     "data": {
      "text/plain": [
       "array([559.89969296, 248.96002356, 122.52736454,  74.85937861])"
      ]
     },
     "execution_count": 7,
     "metadata": {},
     "output_type": "execute_result"
    }
   ],
   "source": [
    "scaler.scale_"
   ]
  },
  {
   "cell_type": "code",
   "execution_count": 8,
   "id": "4fe4dfa0",
   "metadata": {},
   "outputs": [],
   "source": [
    "npdata_scaled = scaler.transform(npdata)"
   ]
  },
  {
   "cell_type": "code",
   "execution_count": 9,
   "id": "bf81e16e",
   "metadata": {},
   "outputs": [],
   "source": [
    "nbrs = NearestNeighbors(n_neighbors=4, algorithm='kd_tree').fit(npdata_scaled)"
   ]
  },
  {
   "cell_type": "code",
   "execution_count": 10,
   "id": "d942ac61",
   "metadata": {},
   "outputs": [],
   "source": [
    "distances, indices = nbrs.kneighbors(npdata_scaled)"
   ]
  },
  {
   "cell_type": "code",
   "execution_count": 20,
   "id": "817244a1",
   "metadata": {},
   "outputs": [],
   "source": [
    "# nbrs.kneighbors.predict_proba(npdata_scaled)"
   ]
  },
  {
   "cell_type": "code",
   "execution_count": 14,
   "id": "d260a15f",
   "metadata": {},
   "outputs": [],
   "source": [
    "time = list(data.keys())"
   ]
  },
  {
   "cell_type": "code",
   "execution_count": 15,
   "id": "553b982f",
   "metadata": {},
   "outputs": [],
   "source": [
    "neighbors = {}\n",
    "for indice in range(len(indices)):\n",
    "    neighbors[time[indice]] = []   \n",
    "#     print(indice)\n",
    "    for i in range(1,len(indices[indice])):\n",
    "        pass\n",
    "#         print(i)\n",
    "        neighbors[time[indice]].append(time[indices[indice][i]])\n",
    "\n",
    "# print(indices[indice][1])"
   ]
  },
  {
   "cell_type": "code",
   "execution_count": 16,
   "id": "c2e17a65",
   "metadata": {},
   "outputs": [
    {
     "data": {
      "text/plain": [
       "{'1_0.06': ['3_0.06', '2_0.06', '2_0.07'],\n",
       " '1_0.07': ['2_0.07', '3_0.07', '1_0.06'],\n",
       " '1_0.08': ['2_0.08', '3_0.08', '3_0.09'],\n",
       " '1_0.09': ['3_0.09', '2_0.09', '2_0.1'],\n",
       " '1_0.1': ['1_0.15', '2_0.14', '2_0.17'],\n",
       " '1_0.11': ['1_0.2', '1_0.15', '1_0.19'],\n",
       " '1_0.12': ['1_0.17', '1_0.19', '1_0.16'],\n",
       " '1_0.13': ['1_0.18', '1_0.16', '1_0.17'],\n",
       " '1_0.14': ['1_0.17', '1_0.18', '1_0.16'],\n",
       " '1_0.15': ['1_0.11', '1_0.2', '1_0.19'],\n",
       " '1_0.16': ['1_0.18', '1_0.17', '1_0.14'],\n",
       " '1_0.17': ['1_0.16', '1_0.18', '1_0.12'],\n",
       " '1_0.18': ['1_0.16', '1_0.17', '1_0.14'],\n",
       " '1_0.19': ['1_0.12', '1_0.17', '1_0.14'],\n",
       " '1_0.2': ['1_0.11', '1_0.15', '1_0.19'],\n",
       " '2_0.06': ['3_0.06', '1_0.06', '2_0.07'],\n",
       " '2_0.07': ['1_0.07', '3_0.07', '1_0.06'],\n",
       " '2_0.08': ['1_0.08', '3_0.08', '3_0.09'],\n",
       " '2_0.09': ['1_0.09', '3_0.09', '2_0.1'],\n",
       " '2_0.1': ['2_0.18', '2_0.2', '2_0.15'],\n",
       " '2_0.11': ['2_0.15', '2_0.2', '2_0.12'],\n",
       " '2_0.12': ['2_0.17', '2_0.14', '2_0.11'],\n",
       " '2_0.13': ['2_0.16', '2_0.19', '2_0.17'],\n",
       " '2_0.14': ['2_0.17', '2_0.12', '2_0.16'],\n",
       " '2_0.15': ['2_0.11', '2_0.2', '2_0.18'],\n",
       " '2_0.16': ['2_0.13', '2_0.19', '2_0.17'],\n",
       " '2_0.17': ['2_0.14', '2_0.12', '2_0.16'],\n",
       " '2_0.18': ['2_0.2', '2_0.15', '2_0.11'],\n",
       " '2_0.19': ['2_0.16', '2_0.13', '2_0.17'],\n",
       " '2_0.2': ['2_0.18', '2_0.11', '2_0.15'],\n",
       " '3_0.06': ['2_0.06', '1_0.06', '2_0.07'],\n",
       " '3_0.07': ['1_0.07', '2_0.07', '2_0.08'],\n",
       " '3_0.08': ['1_0.08', '2_0.08', '3_0.09'],\n",
       " '3_0.09': ['1_0.09', '2_0.09', '2_0.1'],\n",
       " '3_0.1': ['3_0.17', '3_0.13', '3_0.15'],\n",
       " '3_0.11': ['3_0.18', '3_0.17', '3_0.13'],\n",
       " '3_0.12': ['3_0.16', '3_0.19', '3_0.15'],\n",
       " '3_0.13': ['3_0.17', '3_0.18', '3_0.12'],\n",
       " '3_0.14': ['3_0.2', '3_0.11', '1_0.15'],\n",
       " '3_0.15': ['3_0.17', '3_0.16', '3_0.18'],\n",
       " '3_0.16': ['3_0.12', '3_0.19', '3_0.15'],\n",
       " '3_0.17': ['3_0.18', '3_0.13', '3_0.15'],\n",
       " '3_0.18': ['3_0.17', '3_0.11', '3_0.13'],\n",
       " '3_0.19': ['3_0.12', '3_0.16', '3_0.15'],\n",
       " '3_0.2': ['3_0.14', '3_0.11', '1_0.15']}"
      ]
     },
     "execution_count": 16,
     "metadata": {},
     "output_type": "execute_result"
    }
   ],
   "source": [
    "neighbors"
   ]
  },
  {
   "cell_type": "code",
   "execution_count": 17,
   "id": "41f5e615",
   "metadata": {},
   "outputs": [
    {
     "data": {
      "text/plain": [
       "array([[ 0, 30, 15, 16],\n",
       "       [ 1, 16, 31,  0],\n",
       "       [ 2, 17, 32, 33],\n",
       "       [ 3, 33, 18, 19],\n",
       "       [ 4,  9, 23, 26],\n",
       "       [ 5, 14,  9, 13],\n",
       "       [ 6, 11, 13, 10],\n",
       "       [ 7, 12, 10, 11],\n",
       "       [ 8, 11, 12, 10],\n",
       "       [ 9,  5, 14, 13],\n",
       "       [10, 12, 11,  8],\n",
       "       [11, 10, 12,  6],\n",
       "       [12, 10, 11,  8],\n",
       "       [13,  6, 11,  8],\n",
       "       [14,  5,  9, 13],\n",
       "       [15, 30,  0, 16],\n",
       "       [16,  1, 31,  0],\n",
       "       [17,  2, 32, 33],\n",
       "       [18,  3, 33, 19],\n",
       "       [19, 27, 29, 24],\n",
       "       [20, 24, 29, 21],\n",
       "       [21, 26, 23, 20],\n",
       "       [22, 25, 28, 26],\n",
       "       [23, 26, 21, 25],\n",
       "       [24, 20, 29, 27],\n",
       "       [25, 22, 28, 26],\n",
       "       [26, 23, 21, 25],\n",
       "       [27, 29, 24, 20],\n",
       "       [28, 25, 22, 26],\n",
       "       [29, 27, 20, 24],\n",
       "       [30, 15,  0, 16],\n",
       "       [31,  1, 16, 17],\n",
       "       [32,  2, 17, 33],\n",
       "       [33,  3, 18, 19],\n",
       "       [34, 41, 37, 39],\n",
       "       [35, 42, 41, 37],\n",
       "       [36, 40, 43, 39],\n",
       "       [37, 41, 42, 36],\n",
       "       [38, 44, 35,  9],\n",
       "       [39, 41, 40, 42],\n",
       "       [40, 36, 43, 39],\n",
       "       [41, 42, 37, 39],\n",
       "       [42, 41, 35, 37],\n",
       "       [43, 36, 40, 39],\n",
       "       [44, 38, 35,  9]], dtype=int64)"
      ]
     },
     "execution_count": 17,
     "metadata": {},
     "output_type": "execute_result"
    }
   ],
   "source": [
    "indices"
   ]
  },
  {
   "cell_type": "code",
   "execution_count": 18,
   "id": "a571fce5",
   "metadata": {},
   "outputs": [
    {
     "data": {
      "text/plain": [
       "array([[0.        , 0.07193564, 0.10286558, 2.25590792],\n",
       "       [0.        , 0.08725421, 0.19529823, 2.33001641],\n",
       "       [0.        , 0.28770238, 0.34210353, 1.33470023],\n",
       "       [0.        , 0.19905752, 0.20664823, 0.80270484],\n",
       "       [0.        , 0.14529325, 0.17333214, 0.17844402],\n",
       "       [0.        , 0.02233114, 0.0646877 , 0.14400038],\n",
       "       [0.        , 0.0568694 , 0.05955262, 0.08982797],\n",
       "       [0.        , 0.0785881 , 0.10370421, 0.12570314],\n",
       "       [0.        , 0.05893156, 0.06392655, 0.06653219],\n",
       "       [0.        , 0.0646877 , 0.08273433, 0.11044386],\n",
       "       [0.        , 0.03488196, 0.03698068, 0.06653219],\n",
       "       [0.        , 0.03698068, 0.05055856, 0.0568694 ],\n",
       "       [0.        , 0.03488196, 0.05055856, 0.06392655],\n",
       "       [0.        , 0.05955262, 0.0713309 , 0.0760978 ],\n",
       "       [0.        , 0.02233114, 0.08273433, 0.1525507 ],\n",
       "       [0.        , 0.03817326, 0.10286558, 2.34030325],\n",
       "       [0.        , 0.08725421, 0.20770814, 2.25590792],\n",
       "       [0.        , 0.28770238, 0.61141708, 1.52545841],\n",
       "       [0.        , 0.20664823, 0.33768695, 0.90295498],\n",
       "       [0.        , 0.1823307 , 0.20246215, 0.21061455],\n",
       "       [0.        , 0.03198433, 0.06283499, 0.09247087],\n",
       "       [0.        , 0.07363075, 0.07997391, 0.09247087],\n",
       "       [0.        , 0.02979373, 0.0536912 , 0.11588085],\n",
       "       [0.        , 0.02097312, 0.07997391, 0.12394594],\n",
       "       [0.        , 0.03198433, 0.06430266, 0.09414293],\n",
       "       [0.        , 0.02979373, 0.0387727 , 0.10692354],\n",
       "       [0.        , 0.02097312, 0.07363075, 0.10692354],\n",
       "       [0.        , 0.04441245, 0.09414293, 0.09613084],\n",
       "       [0.        , 0.0387727 , 0.0536912 , 0.14178754],\n",
       "       [0.        , 0.04441245, 0.06283499, 0.06430266],\n",
       "       [0.        , 0.03817326, 0.07193564, 2.30281775],\n",
       "       [0.        , 0.19529823, 0.20770814, 2.33857364],\n",
       "       [0.        , 0.34210353, 0.61141708, 1.16461393],\n",
       "       [0.        , 0.19905752, 0.33768695, 0.83742113],\n",
       "       [0.        , 0.15550162, 0.17396441, 0.18926099],\n",
       "       [0.        , 0.09426609, 0.12032878, 0.15295683],\n",
       "       [0.        , 0.04277866, 0.0475429 , 0.11895137],\n",
       "       [0.        , 0.07748757, 0.09910354, 0.12491504],\n",
       "       [0.        , 0.03363437, 0.18676391, 0.2233496 ],\n",
       "       [0.        , 0.0822035 , 0.09848024, 0.11160378],\n",
       "       [0.        , 0.04277866, 0.06167173, 0.09848024],\n",
       "       [0.        , 0.05414235, 0.07748757, 0.0822035 ],\n",
       "       [0.        , 0.05414235, 0.09426609, 0.09910354],\n",
       "       [0.        , 0.0475429 , 0.06167173, 0.13800655],\n",
       "       [0.        , 0.03363437, 0.19221167, 0.22881241]])"
      ]
     },
     "execution_count": 18,
     "metadata": {},
     "output_type": "execute_result"
    }
   ],
   "source": [
    "distances"
   ]
  },
  {
   "cell_type": "code",
   "execution_count": null,
   "id": "2910a06e",
   "metadata": {},
   "outputs": [],
   "source": []
  }
 ],
 "metadata": {
  "kernelspec": {
   "display_name": "Python 3",
   "language": "python",
   "name": "python3"
  },
  "language_info": {
   "codemirror_mode": {
    "name": "ipython",
    "version": 3
   },
   "file_extension": ".py",
   "mimetype": "text/x-python",
   "name": "python",
   "nbconvert_exporter": "python",
   "pygments_lexer": "ipython3",
   "version": "3.8.8"
  }
 },
 "nbformat": 4,
 "nbformat_minor": 5
}
