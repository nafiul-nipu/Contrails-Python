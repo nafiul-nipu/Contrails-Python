{
 "cells": [
  {
   "cell_type": "code",
   "execution_count": 1,
   "id": "7993fb31",
   "metadata": {},
   "outputs": [],
   "source": [
    "import numpy as np\n",
    "import pandas as pd\n",
    "from os import listdir"
   ]
  },
  {
   "cell_type": "code",
   "execution_count": 2,
   "id": "16d38b08",
   "metadata": {},
   "outputs": [
    {
     "name": "stdout",
     "output_type": "stream",
     "text": [
      "17 0.06.csv\n",
      "17 0.07.csv\n",
      "17 0.08.csv\n",
      "17 0.09.csv\n",
      "17 0.1.csv\n",
      "17 0.11.csv\n",
      "17 0.12.csv\n",
      "17 0.13.csv\n",
      "17 0.14.csv\n",
      "17 0.15.csv\n",
      "17 0.16.csv\n",
      "17 0.17.csv\n",
      "17 0.18.csv\n",
      "17 0.19.csv\n",
      "17 0.2.csv\n",
      "18 0.06.csv\n",
      "18 0.07.csv\n",
      "18 0.08.csv\n",
      "18 0.09.csv\n",
      "18 0.1.csv\n",
      "18 0.11.csv\n",
      "18 0.12.csv\n",
      "18 0.13.csv\n",
      "18 0.14.csv\n",
      "18 0.15.csv\n",
      "18 0.16.csv\n",
      "18 0.17.csv\n",
      "18 0.18.csv\n",
      "18 0.19.csv\n",
      "18 0.2.csv\n",
      "19 0.06.csv\n",
      "19 0.07.csv\n",
      "19 0.08.csv\n",
      "19 0.09.csv\n",
      "19 0.1.csv\n",
      "19 0.11.csv\n",
      "19 0.12.csv\n",
      "19 0.13.csv\n",
      "19 0.14.csv\n",
      "19 0.15.csv\n",
      "19 0.16.csv\n",
      "19 0.17.csv\n",
      "19 0.18.csv\n",
      "19 0.19.csv\n",
      "19 0.2.csv\n"
     ]
    }
   ],
   "source": [
    "folders = [f for f in listdir(\"volumeData/\")]\n",
    "conFolders = [f for f in listdir(\"contrailsData/withOutliers/\")]\n",
    "# print(folders)\n",
    "# print(conFolders)\n",
    "for folder in folders:\n",
    "    onlyfiles = [f for f in listdir(\"volumeData/{}\".format(folder)) ]\n",
    "#     print(onlyfiles)\n",
    "    for file in onlyfiles:\n",
    "        path = \"volumeData/{}/{}\".format(folder, file)\n",
    "        df = pd.read_csv(path)\n",
    "        outliers = pd.read_csv(\"contrailsData/withOutliers/{}/{}\".format(folder, file))\n",
    "\n",
    "#         print(outliers)\n",
    "#         print(pd.read_csv(\"contrailsData/withoutOutliers/{}/{}\".format(folder, file)).empty)\n",
    "              \n",
    "        nonOutliers = pd.read_csv(\"contrailsData/withoutOutliers/{}/{}\".format(folder, file))\n",
    "\n",
    "#         print(nonOutliers.empty)\n",
    "        df[\"cluster\"] = outliers[\"cluster\"]\n",
    "        if(nonOutliers.empty == False):\n",
    "            df[\"noOutlierCluster\"] = nonOutliers[\"cluster\"]\n",
    "\n",
    "\n",
    "        df.to_csv('output/{}/{}'.format(folder, file), index=False)\n",
    "        \n",
    "        print(folder , file)"
   ]
  },
  {
   "cell_type": "code",
   "execution_count": null,
   "id": "66de2d3f",
   "metadata": {},
   "outputs": [],
   "source": [
    "folder = \"17\"\n",
    "file = \"0.2.csv\"\n"
   ]
  },
  {
   "cell_type": "code",
   "execution_count": null,
   "id": "bbf41527",
   "metadata": {},
   "outputs": [],
   "source": []
  }
 ],
 "metadata": {
  "kernelspec": {
   "display_name": "Python 3",
   "language": "python",
   "name": "python3"
  },
  "language_info": {
   "codemirror_mode": {
    "name": "ipython",
    "version": 3
   },
   "file_extension": ".py",
   "mimetype": "text/x-python",
   "name": "python",
   "nbconvert_exporter": "python",
   "pygments_lexer": "ipython3",
   "version": "3.8.8"
  }
 },
 "nbformat": 4,
 "nbformat_minor": 5
}
