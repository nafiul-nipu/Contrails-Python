{
 "cells": [
  {
   "cell_type": "code",
   "execution_count": 1,
   "id": "7993fb31",
   "metadata": {},
   "outputs": [],
   "source": [
    "import numpy as np\n",
    "import pandas as pd\n",
    "from os import listdir"
   ]
  },
  {
   "cell_type": "code",
   "execution_count": 5,
   "id": "16d38b08",
   "metadata": {},
   "outputs": [
    {
     "name": "stdout",
     "output_type": "stream",
     "text": [
      "newData 210.csv\n",
      "newData 211.csv\n",
      "newData 212.csv\n",
      "newData 213.csv\n",
      "newData 214.csv\n",
      "newData 215.csv\n",
      "newData 216.csv\n",
      "newData 217.csv\n",
      "newData 218.csv\n",
      "newData 219.csv\n"
     ]
    }
   ],
   "source": [
    "folders = [f for f in listdir(\"volumeData/\")]\n",
    "conFolders = [f for f in listdir(\"contrailsData/withOutliers/\")]\n",
    "# print(folders)\n",
    "# print(conFolders)\n",
    "folders = ['newData']\n",
    "for folder in folders:\n",
    "    onlyfiles = [f for f in listdir(\"volumeData/{}\".format(folder)) ]\n",
    "#     print(onlyfiles)\n",
    "    for file in onlyfiles:\n",
    "        path = \"volumeData/{}/{}\".format(folder, file)\n",
    "        df = pd.read_csv(path)\n",
    "        outliers = pd.read_csv(\"contrailsData/withOutliers/{}/{}\".format(folder, file))\n",
    "\n",
    "#         print(outliers)\n",
    "#         print(pd.read_csv(\"contrailsData/withoutOutliers/{}/{}\".format(folder, file)).empty)\n",
    "              \n",
    "#         nonOutliers = pd.read_csv(\"contrailsData/withoutOutliers/{}/{}\".format(folder, file))\n",
    "\n",
    "#         print(nonOutliers.empty)\n",
    "        df[\"cluster\"] = outliers[\"SplatterValues\"]\n",
    "#         if(nonOutliers.empty == False):\n",
    "#             df[\"noOutlierCluster\"] = nonOutliers[\"cluster\"]\n",
    "\n",
    "\n",
    "        df.to_csv('output/{}/{}'.format(folder, file), index=False)\n",
    "        \n",
    "        print(folder , file)"
   ]
  },
  {
   "cell_type": "code",
   "execution_count": null,
   "id": "66de2d3f",
   "metadata": {},
   "outputs": [],
   "source": [
    "folder = \"17\"\n",
    "file = \"0.2.csv\"\n"
   ]
  },
  {
   "cell_type": "code",
   "execution_count": null,
   "id": "bbf41527",
   "metadata": {},
   "outputs": [],
   "source": []
  }
 ],
 "metadata": {
  "kernelspec": {
   "display_name": "Python 3",
   "language": "python",
   "name": "python3"
  },
  "language_info": {
   "codemirror_mode": {
    "name": "ipython",
    "version": 3
   },
   "file_extension": ".py",
   "mimetype": "text/x-python",
   "name": "python",
   "nbconvert_exporter": "python",
   "pygments_lexer": "ipython3",
   "version": "3.8.8"
  }
 },
 "nbformat": 4,
 "nbformat_minor": 5
}
