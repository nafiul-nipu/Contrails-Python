{
 "cells": [
  {
   "cell_type": "code",
   "execution_count": 12,
   "id": "63d31579",
   "metadata": {},
   "outputs": [],
   "source": [
    "import pandas as pd\n",
    "import matplotlib.pyplot as plt\n",
    "%matplotlib inline\n",
    "from os import listdir\n",
    "import numpy as np\n",
    "import math\n",
    "from scipy.spatial import ConvexHull\n",
    "from scipy.spatial.distance import cdist\n",
    "from scipy.spatial import distance\n",
    "from itertools import groupby"
   ]
  },
  {
   "cell_type": "code",
   "execution_count": 13,
   "id": "eb082343",
   "metadata": {},
   "outputs": [],
   "source": [
    "def calculateMass(data):\n",
    "#      multiply by constant 917\n",
    "    result = 0\n",
    "    for d in data:\n",
    "        result += (1/6)*math.pi*math.pow(d,3) * 917 * math.pow(10, 6)\n",
    "#     return round(result, 3)\n",
    "    return result"
   ]
  },
  {
   "cell_type": "code",
   "execution_count": 15,
   "id": "4f1c2da5",
   "metadata": {},
   "outputs": [],
   "source": [
    "def calculateLength(data):\n",
    "    \"\"\"\n",
    "    find the most distant point\n",
    "    data = a nupmpy array containing the points\n",
    "    \"\"\"\n",
    "    \"\"\"first check if the x points are same or not\n",
    "    if same we will use the naive techniques\n",
    "    if not we will use the convex hull approach\n",
    "    \"\"\"\n",
    "    xVals = [i[0] for i in data]\n",
    "#     print(xVals)\n",
    "    g = groupby(xVals)\n",
    "    sameValues = next(g, True) and not next(g, False)\n",
    "#     print(sameValues)\n",
    "    \n",
    "    if sameValues == False:\n",
    "        # # Find a convex hull in O(N log N)\n",
    "        hull = ConvexHull(data)\n",
    "\n",
    "        # Extract the points forming the hull\n",
    "        hullpoints = data[hull.vertices,:]\n",
    "    \n",
    "    elif sameValues == True:\n",
    "        hullpoints = data       \n",
    "\n",
    "#     print(hullpoints)\n",
    "    \n",
    "    # Naive way of finding the best pair in O(H^2) time if H is number of points on\n",
    "    # hull\n",
    "    hdist = cdist(hullpoints, hullpoints, metric='euclidean')\n",
    "\n",
    "    # Get the farthest apart points\n",
    "    bestpair = np.unravel_index(hdist.argmax(), hdist.shape)\n",
    "\n",
    "    #Print them\n",
    "    points = [hullpoints[bestpair[0]],hullpoints[bestpair[1]]]\n",
    "#     print(points)\n",
    "\n",
    "    # print the distance\n",
    "#     dist = np.linalg.norm(points[0] - points[1])\n",
    "    dst = distance.euclidean(points[0], points[1])\n",
    "#     print(points[0], points[1], dst)\n",
    "    return round(dst, 3)"
   ]
  },
  {
   "cell_type": "code",
   "execution_count": 16,
   "id": "20c971ee",
   "metadata": {},
   "outputs": [
    {
     "name": "stdout",
     "output_type": "stream",
     "text": [
      "exported newData 210.csv \n",
      "exported newData 211.csv \n",
      "exported newData 212.csv \n",
      "exported newData 213.csv \n",
      "exported newData 214.csv \n",
      "exported newData 215.csv \n",
      "exported newData 216.csv \n",
      "exported newData 217.csv \n",
      "exported newData 218.csv \n",
      "exported newData 219.csv \n"
     ]
    }
   ],
   "source": [
    "columns = [\"cluster\", \"nodeCluster\", \"temperature\", \"ice_particles\", \"ice_mass\", \"ice_length\"]\n",
    "# folders = [f for f in listdir(\"data/withOutliers/\")]\n",
    "folders = ['newData']\n",
    "for folder in folders:\n",
    "    onlyfiles = [f for f in listdir(\"data/withOutliers/{}\".format(folder)) ]\n",
    "#     print(folder)\n",
    "    for file in onlyfiles:\n",
    "        path = \"data/withOutliers/{}/{}\".format(folder, file)\n",
    "#         print(path)\n",
    "        df = pd.read_csv(path)\n",
    "#             calculating the diameter in micron (?)\n",
    "#         df['new_d'] = df['d'] * math.pow(10, 6)\n",
    "    \n",
    "#         getting the temperature means\n",
    "        means = round(df.groupby('cluster')['T'].mean(), 3)\n",
    "#         print(df.groupby('cluster')['nodeCluster'])\n",
    "#     getting the clusters\n",
    "        clusters = means.index.tolist()\n",
    "#         print(clusters)\n",
    "#     getting the nodeCluster\n",
    "        nodeClusters = sorted(df['nodeCluster'].value_counts().index.tolist())\n",
    "#         print(nodeClusters)\n",
    "#     storing the temperature\n",
    "        temperature = means.tolist()\n",
    "#     storing total particles\n",
    "        particles = df.groupby('cluster')['cluster'].value_counts().tolist()\n",
    "\n",
    "#     adding the total values for all data\n",
    "        clusters.append(\"all\")\n",
    "        nodeClusters.append('all')\n",
    "        temperature.append(round(df['T'].mean(), 3))\n",
    "        particles.append(df.shape[0])\n",
    "\n",
    "#         extracting the total volumes\n",
    "#         volumes = []\n",
    "        volumesExact = []\n",
    "#         extracting the farthest distance\n",
    "        distances = []\n",
    "        for each in clusters:\n",
    "#             print(each)\n",
    "            if each == 'all':\n",
    "#                 print(each)\n",
    "#                 volumes.append(calculateVolume(df['new_d'].tolist()))\n",
    "                volumesExact.append(calculateMass(df['d'].tolist()))\n",
    "                distances.append(calculateLength(df[['Points:0', 'Points:1', 'Points:2']].to_numpy()))\n",
    "            else:\n",
    "#                 print(each)\n",
    "#                 volumes.append(calculateVolume(df[df.cluster == each]['new_d'].tolist()))\n",
    "                volumesExact.append(calculateMass(df[df.cluster == each]['d'].tolist()))\n",
    "                distances.append(calculateLength(df[df.cluster == each][['Points:0', 'Points:1', 'Points:2']].to_numpy()))\n",
    "        \n",
    "        \n",
    "        # print(means)\n",
    "#         print(clusters)\n",
    "#         print(temperature)\n",
    "#         print(particles)\n",
    "#         print(volumes)\n",
    "#         print(distances)\n",
    "#         print(volumesExact)\n",
    "\n",
    "# output csv generation\n",
    "        extract = pd.DataFrame(np.column_stack([clusters, nodeClusters, temperature, particles, volumesExact, distances]),\n",
    "                      columns=columns)\n",
    "\n",
    "        extract.to_csv('output/withOutliers/{}/{}'.format(folder, file), index=False)\n",
    "        print(\"exported {} {} \".format(folder, file))\n"
   ]
  },
  {
   "cell_type": "code",
   "execution_count": 10,
   "id": "0c4a7cf1",
   "metadata": {},
   "outputs": [],
   "source": [
    "path = \"data/withoutOutliers/{}/{}\".format(\"contrails1\", \"0.2.csv\")\n",
    "df = pd.read_csv(path)\n",
    "pts = df[['Points:0', 'Points:1', 'Points:2']].to_numpy()\n",
    "hull = ConvexHull(p)"
   ]
  },
  {
   "cell_type": "code",
   "execution_count": 14,
   "id": "4cdba81b",
   "metadata": {},
   "outputs": [
    {
     "name": "stdout",
     "output_type": "stream",
     "text": [
      "<scipy.spatial.qhull.ConvexHull object at 0x0000026375062248>\n"
     ]
    }
   ],
   "source": [
    "\n",
    "from mpl_toolkits.mplot3d import Axes3D\n",
    "\n",
    "\n",
    "# 8 points defining the cube corners\n",
    "# pts = np.array([[0, 0, 0], [1, 0, 0], [1, 1, 0], [0, 1, 0],\n",
    "#                 [0, 0, 1], [1, 0, 1], [1, 1, 1], [0, 1, 1], ])\n",
    "\n",
    "hull = ConvexHull(pts)\n",
    "\n",
    "# fig = plt.figure()\n",
    "# ax = fig.add_subplot(111, projection=\"3d\")\n",
    "\n",
    "# # Plot defining corner points\n",
    "# ax.plot(pts.T[0], pts.T[1], pts.T[2], \"ko\")\n",
    "\n",
    "# # 12 = 2 * 6 faces are the simplices (2 simplices per square face)\n",
    "# for s in hull.simplices:\n",
    "#     s = np.append(s, s[0])  # Here we cycle back to the first coordinate\n",
    "#     ax.plot(pts[s, 0], pts[s, 1], pts[s, 2], \"r-\")\n",
    "\n",
    "# # Make axis label\n",
    "# for i in [\"x\", \"y\", \"z\"]:\n",
    "#     eval(\"ax.set_{:s}label('{:s}')\".format(i, i))\n",
    "\n",
    "# plt.show()\n",
    "\n",
    "print(hull)"
   ]
  },
  {
   "cell_type": "code",
   "execution_count": 7,
   "id": "4c98e0b5",
   "metadata": {},
   "outputs": [
    {
     "ename": "SyntaxError",
     "evalue": "invalid syntax (Temp/ipykernel_7936/3301890463.py, line 5)",
     "output_type": "error",
     "traceback": [
      "\u001b[1;36m  File \u001b[1;32m\"C:\\Users\\evladmin\\AppData\\Local\\Temp/ipykernel_7936/3301890463.py\"\u001b[1;36m, line \u001b[1;32m5\u001b[0m\n\u001b[1;33m    hold on;                     # Add to the existing plot\u001b[0m\n\u001b[1;37m          ^\u001b[0m\n\u001b[1;31mSyntaxError\u001b[0m\u001b[1;31m:\u001b[0m invalid syntax\n"
     ]
    }
   ],
   "source": [
    "x = rand(1,20);              # 20 random x values\n",
    "y = rand(1,20);              # 20 random y values\n",
    "hullPoints = convhull(x,y);  # Find the points defining the convex hull\n",
    "patch(x(hullPoints),y(hullPoints),'r');  # Plot the convex hull in red\n",
    "hold on;                     # Add to the existing plot\n",
    "scatter(x,y);    "
   ]
  },
  {
   "cell_type": "code",
   "execution_count": 8,
   "id": "036b75e1",
   "metadata": {},
   "outputs": [
    {
     "ename": "SyntaxError",
     "evalue": "invalid syntax (Temp/ipykernel_7936/1113393829.py, line 1)",
     "output_type": "error",
     "traceback": [
      "\u001b[1;36m  File \u001b[1;32m\"C:\\Users\\evladmin\\AppData\\Local\\Temp/ipykernel_7936/1113393829.py\"\u001b[1;36m, line \u001b[1;32m1\u001b[0m\n\u001b[1;33m    [4.8062e+00 3.8889e-01 5.9698e-12] [ 5.29590000e+01 -1.19520000e+00 -4.06809985e-09] 48.17884897927824\u001b[0m\n\u001b[1;37m                         ^\u001b[0m\n\u001b[1;31mSyntaxError\u001b[0m\u001b[1;31m:\u001b[0m invalid syntax\n"
     ]
    }
   ],
   "source": [
    "[4.8062e+00 3.8889e-01 5.9698e-12] [ 5.29590000e+01 -1.19520000e+00 -4.06809985e-09] 48.17884897927824"
   ]
  },
  {
   "cell_type": "code",
   "execution_count": 11,
   "id": "11f862da",
   "metadata": {},
   "outputs": [
    {
     "data": {
      "text/plain": [
       "52.959"
      ]
     },
     "execution_count": 11,
     "metadata": {},
     "output_type": "execute_result"
    }
   ],
   "source": [
    "5.29590000e+01"
   ]
  },
  {
   "cell_type": "code",
   "execution_count": null,
   "id": "9306f412",
   "metadata": {},
   "outputs": [],
   "source": []
  }
 ],
 "metadata": {
  "kernelspec": {
   "display_name": "Python 3 (ipykernel)",
   "language": "python",
   "name": "python3"
  },
  "language_info": {
   "codemirror_mode": {
    "name": "ipython",
    "version": 3
   },
   "file_extension": ".py",
   "mimetype": "text/x-python",
   "name": "python",
   "nbconvert_exporter": "python",
   "pygments_lexer": "ipython3",
   "version": "3.7.11"
  }
 },
 "nbformat": 4,
 "nbformat_minor": 5
}
