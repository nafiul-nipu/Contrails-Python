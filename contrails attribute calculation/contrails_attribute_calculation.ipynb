{
 "cells": [
  {
   "cell_type": "code",
   "execution_count": 8,
   "id": "63d31579",
   "metadata": {},
   "outputs": [],
   "source": [
    "import pandas as pd\n",
    "import matplotlib.pyplot as plt\n",
    "%matplotlib inline\n",
    "from os import listdir\n",
    "import numpy as np\n",
    "import math\n",
    "from scipy.spatial import ConvexHull\n",
    "from scipy.spatial.distance import cdist\n",
    "from scipy.spatial import distance\n",
    "from itertools import groupby\n",
    "import json"
   ]
  },
  {
   "cell_type": "code",
   "execution_count": 2,
   "id": "eb082343",
   "metadata": {},
   "outputs": [],
   "source": [
    "def calculateMass(data):\n",
    "#      multiply by constant 917\n",
    "    result = 0\n",
    "    for d in data:\n",
    "        result += (1/6)*math.pi*math.pow(d,3) * 917 * math.pow(10, 6)\n",
    "#     return round(result, 3)\n",
    "    return result"
   ]
  },
  {
   "cell_type": "code",
   "execution_count": 3,
   "id": "4f1c2da5",
   "metadata": {},
   "outputs": [],
   "source": [
    "def calculateLength(data):\n",
    "    \"\"\"\n",
    "    find the most distant point\n",
    "    data = a nupmpy array containing the points\n",
    "    \"\"\"\n",
    "    \"\"\"first check if the x points are same or not\n",
    "    if same we will use the naive techniques\n",
    "    if not we will use the convex hull approach\n",
    "    \"\"\"\n",
    "    xVals = [i[0] for i in data]\n",
    "#     print(xVals)\n",
    "    g = groupby(xVals)\n",
    "    sameValues = next(g, True) and not next(g, False)\n",
    "#     print(sameValues)\n",
    "    \n",
    "    if sameValues == False:\n",
    "        # # Find a convex hull in O(N log N)\n",
    "        hull = ConvexHull(data)\n",
    "\n",
    "        # Extract the points forming the hull\n",
    "        hullpoints = data[hull.vertices,:]\n",
    "    \n",
    "    elif sameValues == True:\n",
    "        hullpoints = data       \n",
    "\n",
    "#     print(hullpoints)\n",
    "    \n",
    "    # Naive way of finding the best pair in O(H^2) time if H is number of points on\n",
    "    # hull\n",
    "    hdist = cdist(hullpoints, hullpoints, metric='euclidean')\n",
    "\n",
    "    # Get the farthest apart points\n",
    "    bestpair = np.unravel_index(hdist.argmax(), hdist.shape)\n",
    "\n",
    "    #Print them\n",
    "    points = [hullpoints[bestpair[0]],hullpoints[bestpair[1]]]\n",
    "#     print(points)\n",
    "\n",
    "    # print the distance\n",
    "#     dist = np.linalg.norm(points[0] - points[1])\n",
    "    dst = distance.euclidean(points[0], points[1])\n",
    "#     print(points[0], points[1], dst)\n",
    "    return round(dst, 3)"
   ]
  },
  {
   "cell_type": "code",
   "execution_count": 9,
   "id": "20c971ee",
   "metadata": {},
   "outputs": [
    {
     "name": "stdout",
     "output_type": "stream",
     "text": [
      "{1: {'temp': 222.646, 'mass': 0.0015629643429727138, 'length': 13.088}, 2: {'temp': 232.98, 'mass': 0.025341647172142007, 'length': 10.196}, 3: {'temp': 265.783, 'mass': 0.0013469086708670832, 'length': 1.569}, 4: {'temp': 266.405, 'mass': 0.00015606126483606192, 'length': 0.359}, 5: {'temp': 303.108, 'mass': 9.5985905776905e-05, 'length': 0.237}, 6: {'temp': 272.61, 'mass': 6.16057629163639e-05, 'length': 0.203}, 7: {'temp': 219.009, 'mass': 0.001217981487420209, 'length': 7.426}, 8: {'temp': 233.131, 'mass': 0.028818638212496635, 'length': 11.851}, 9: {'temp': 359.682, 'mass': 0.0001020254794922879, 'length': 0.345}, 10: {'temp': 306.275, 'mass': 8.334937646470519e-05, 'length': 0.269}, 11: {'temp': 324.15, 'mass': 3.772382125003906e-05, 'length': 0.155}, 12: {'temp': 337.77, 'mass': 1.8792591401373944e-05, 'length': 0.129}, 13: {'temp': 219.171, 'mass': 0.0007095402511161619, 'length': 8.686}, 14: {'temp': 234.678, 'mass': 0.029893554646748487, 'length': 13.182}, 15: {'temp': 219.125, 'mass': 0.0006779167609297535, 'length': 6.421}, 16: {'temp': 234.425, 'mass': 0.030086956139725632, 'length': 13.037}, 17: {'temp': 334.965, 'mass': 3.728559206497581e-05, 'length': 0.199}, 18: {'temp': 219.145, 'mass': 0.0010665538845974101, 'length': 7.556}, 19: {'temp': 232.352, 'mass': 0.02872167425449972, 'length': 10.867}, 20: {'temp': 289.548, 'mass': 0.0009387286481258425, 'length': 1.115}, 21: {'temp': 309.38, 'mass': 0.00014042109807133545, 'length': 0.243}, 22: {'temp': 325.36, 'mass': 5.7744550470002095e-05, 'length': 0.17}, 23: {'temp': 219.145, 'mass': 0.000475692988185146, 'length': 6.376}, 24: {'temp': 234.626, 'mass': 0.029590752856911737, 'length': 12.479}, 25: {'temp': 309.373, 'mass': 0.00011587207878847229, 'length': 0.374}, 26: {'temp': 344.47, 'mass': 1.836051002357802e-05, 'length': 0.134}, 27: {'temp': 219.172, 'mass': 0.0013012879861735518, 'length': 7.814}, 28: {'temp': 234.624, 'mass': 0.029104040238042344, 'length': 12.701}, 29: {'temp': 292.393, 'mass': 5.846288616538458e-05, 'length': 0.26}, 30: {'temp': 320.14, 'mass': 1.8525902478205048e-05, 'length': 0.149}, 31: {'temp': 330.91, 'mass': 1.8692285205032503e-05, 'length': 0.133}, 32: {'temp': 219.149, 'mass': 0.0008170780045821599, 'length': 5.854}, 33: {'temp': 234.726, 'mass': 0.029682297202928868, 'length': 12.527}, 34: {'temp': 321.388, 'mass': 0.00015239620530016227, 'length': 0.323}, 35: {'temp': 219.128, 'mass': 0.0011404451435027304, 'length': 6.081}, 36: {'temp': 234.401, 'mass': 0.029285570084200668, 'length': 12.194}, 37: {'temp': 312.909, 'mass': 0.0002898879615716068, 'length': 0.869}, 38: {'temp': 338.91, 'mass': 1.8432058693343753e-05, 'length': 0.142}, 39: {'temp': 219.106, 'mass': 0.0005196798026222455, 'length': 5.868}, 40: {'temp': 234.89, 'mass': 0.030561961936435685, 'length': 12.81}, 41: {'temp': 339.89, 'mass': 3.7670115206726114e-05, 'length': 0.143}, 42: {'temp': 345.15, 'mass': 1.9316560541417383e-05, 'length': 0.128}, 43: {'temp': 219.792, 'mass': 0.0014866112720517534, 'length': 12.69}, 44: {'temp': 231.258, 'mass': 0.027598562375665638, 'length': 10.205}, 45: {'temp': 254.678, 'mass': 0.0008375082005377267, 'length': 1.015}, 46: {'temp': 294.864, 'mass': 0.0005021421597969698, 'length': 0.795}, 47: {'temp': 300.683, 'mass': 0.00011496614153296914, 'length': 0.189}, 48: {'temp': 309.208, 'mass': 9.524858810531666e-05, 'length': 0.214}}\n",
      "{1: {'temp': 232.657, 'mass': 0.001195008086458416, 'length': 13.162}, 2: {'temp': 242.596, 'mass': 0.027847300131938306, 'length': 10.945}, 3: {'temp': 284.757, 'mass': 0.0006430373646585895, 'length': 0.915}, 4: {'temp': 326.848, 'mass': 0.00018094641521552364, 'length': 0.486}, 5: {'temp': 263.695, 'mass': 3.922229046079093e-05, 'length': 0.188}, 6: {'temp': 230.102, 'mass': 0.0010511963661841179, 'length': 8.158}, 7: {'temp': 240.258, 'mass': 0.028334733912239903, 'length': 9.607}, 8: {'temp': 273.584, 'mass': 0.0017110123880129265, 'length': 2.119}, 9: {'temp': 342.76, 'mass': 5.746725328506996e-05, 'length': 0.178}, 10: {'temp': 317.54, 'mass': 4.186002394206266e-05, 'length': 0.14}, 11: {'temp': 334.88, 'mass': 1.8465143752913836e-05, 'length': 0.143}, 12: {'temp': 346.4, 'mass': 1.8333040683396903e-05, 'length': 0.128}, 13: {'temp': 335.52, 'mass': 1.870897805648234e-05, 'length': 0.135}, 14: {'temp': 230.042, 'mass': 0.0010165112919498802, 'length': 6.106}, 15: {'temp': 243.168, 'mass': 0.03014754217993203, 'length': 12.455}, 16: {'temp': 348.28, 'mass': 1.834951899721701e-05, 'length': 0.132}, 17: {'temp': 335.66, 'mass': 2.292006730705135e-05, 'length': 0.127}, 18: {'temp': 315.59, 'mass': 2.033464149935698e-05, 'length': 0.137}, 19: {'temp': 230.089, 'mass': 0.0002600287216079568, 'length': 5.182}, 20: {'temp': 242.774, 'mass': 0.030216258220068258, 'length': 12.014}, 21: {'temp': 314.359, 'mass': 0.0002900523231508021, 'length': 1.098}, 22: {'temp': 230.124, 'mass': 0.00013958849201635515, 'length': 3.869}, 23: {'temp': 243.662, 'mass': 0.03074515243104493, 'length': 12.996}, 24: {'temp': 230.175, 'mass': 0.000784471198702169, 'length': 7.567}, 25: {'temp': 244.409, 'mass': 0.030159205817239965, 'length': 13.201}, 26: {'temp': 230.116, 'mass': 0.0009381864950750611, 'length': 6.821}, 27: {'temp': 242.592, 'mass': 0.02925214155857783, 'length': 11.181}, 28: {'temp': 304.339, 'mass': 0.00044941166410288443, 'length': 0.623}, 29: {'temp': 312.391, 'mass': 0.00019043604103660084, 'length': 0.517}, 30: {'temp': 311.735, 'mass': 0.00016199647018648252, 'length': 0.222}, 31: {'temp': 388.56, 'mass': 2.172432198688273e-05, 'length': 0.106}, 32: {'temp': 230.162, 'mass': 0.0007835481256896698, 'length': 7.085}, 33: {'temp': 243.679, 'mass': 0.030419473878659144, 'length': 12.298}, 34: {'temp': 303.685, 'mass': 4.0045192494438426e-05, 'length': 0.187}, 35: {'temp': 230.115, 'mass': 0.0010228482153946076, 'length': 6.106}, 36: {'temp': 242.21, 'mass': 0.029534524109348224, 'length': 11.591}, 37: {'temp': 303.029, 'mass': 0.00034148281789319105, 'length': 0.79}, 38: {'temp': 344.08, 'mass': 3.792401351943897e-05, 'length': 0.127}, 39: {'temp': 325.65, 'mass': 1.863671408339229e-05, 'length': 0.142}, 40: {'temp': 335.15, 'mass': 1.878142859121056e-05, 'length': 0.135}, 41: {'temp': 229.674, 'mass': 0.00171386661148788, 'length': 7.399}, 42: {'temp': 241.374, 'mass': 0.027198853704090992, 'length': 9.73}, 43: {'temp': 271.455, 'mass': 0.0008406038948224958, 'length': 0.879}, 44: {'temp': 307.596, 'mass': 0.0006297083120780755, 'length': 1.008}, 45: {'temp': 259.917, 'mass': 0.0004881840412574428, 'length': 0.466}, 46: {'temp': 319.246, 'mass': 9.600820875644661e-05, 'length': 0.336}, 47: {'temp': 230.007, 'mass': 0.0011839219059046541, 'length': 6.877}, 48: {'temp': 243.101, 'mass': 0.029395970381694676, 'length': 12.577}, 49: {'temp': 318.28, 'mass': 3.7278985828370025e-05, 'length': 0.173}, 50: {'temp': 314.96, 'mass': 1.9174763904772785e-05, 'length': 0.147}}\n",
      "{1: {'temp': 219.81, 'mass': 0.0012984301110525289, 'length': 13.374}, 2: {'temp': 235.429, 'mass': 0.028640952967852455, 'length': 11.521}, 3: {'temp': 299.843, 'mass': 0.0003008006203092409, 'length': 0.361}, 4: {'temp': 300.825, 'mass': 0.000268991800949951, 'length': 0.403}, 5: {'temp': 298.173, 'mass': 7.603695791221238e-05, 'length': 0.238}, 6: {'temp': 331.14, 'mass': 3.811137101658222e-05, 'length': 0.143}, 7: {'temp': 219.081, 'mass': 0.0007787945270364776, 'length': 7.299}, 8: {'temp': 234.086, 'mass': 0.031262942825578434, 'length': 12.078}, 9: {'temp': 321.928, 'mass': 0.0002139964372227054, 'length': 0.544}, 10: {'temp': 316.39, 'mass': 5.807046929109164e-05, 'length': 0.161}, 11: {'temp': 219.109, 'mass': 0.0004423330221760301, 'length': 5.135}, 12: {'temp': 234.303, 'mass': 0.031786341256901, 'length': 12.171}, 13: {'temp': 315.559, 'mass': 0.0002687223615983372, 'length': 0.973}, 14: {'temp': 346.15, 'mass': 1.834951899721701e-05, 'length': 0.132}, 15: {'temp': 219.133, 'mass': 0.0003999111803640242, 'length': 8.061}, 16: {'temp': 235.401, 'mass': 0.03203049432617581, 'length': 12.617}, 17: {'temp': 341.55, 'mass': 3.8959613198846223e-05, 'length': 0.132}, 18: {'temp': 321.35, 'mass': 1.9711542803775155e-05, 'length': 0.133}, 19: {'temp': 219.102, 'mass': 0.0001791539433386677, 'length': 6.01}, 20: {'temp': 235.546, 'mass': 0.031480634492659164, 'length': 13.101}, 21: {'temp': 339.9, 'mass': 1.8426548361932305e-05, 'length': 0.136}, 22: {'temp': 219.017, 'mass': 0.001563047302872675, 'length': 7.361}, 23: {'temp': 235.388, 'mass': 0.029898495340802685, 'length': 11.794}, 24: {'temp': 316.793, 'mass': 0.00042694739316650473, 'length': 0.702}, 25: {'temp': 273.67, 'mass': 6.012238692937236e-05, 'length': 0.198}, 26: {'temp': 343.58, 'mass': 1.8305598754988924e-05, 'length': 0.133}, 27: {'temp': 218.963, 'mass': 0.0010278717142028664, 'length': 9.665}, 28: {'temp': 236.609, 'mass': 0.03103710769911756, 'length': 12.779}, 29: {'temp': 323.68, 'mass': 0.00011515578498872106, 'length': 0.377}, 30: {'temp': 342.525, 'mass': 3.703027302175285e-05, 'length': 0.152}, 31: {'temp': 219.152, 'mass': 0.0003847584822918434, 'length': 7.091}, 32: {'temp': 235.244, 'mass': 0.031803718039295395, 'length': 12.939}, 33: {'temp': 321.46, 'mass': 1.922573046855008e-05, 'length': 0.137}, 34: {'temp': 219.081, 'mass': 0.0002413902315818156, 'length': 4.788}, 35: {'temp': 234.991, 'mass': 0.03226498947896249, 'length': 12.934}, 36: {'temp': 341.58, 'mass': 1.8305598754988924e-05, 'length': 0.135}, 37: {'temp': 293.58, 'mass': 1.8759116234065847e-05, 'length': 0.157}, 38: {'temp': 219.083, 'mass': 0.00012911761190023428, 'length': 5.629}, 39: {'temp': 234.66, 'mass': 0.03253904491298247, 'length': 13.228}, 40: {'temp': 364.37, 'mass': 1.8272704605172935e-05, 'length': 0.138}, 41: {'temp': 219.104, 'mass': 0.0009230006996996453, 'length': 6.147}, 42: {'temp': 234.49, 'mass': 0.030524897276739887, 'length': 12.205}, 43: {'temp': 315.743, 'mass': 0.0002016197565143372, 'length': 0.553}, 44: {'temp': 337.53, 'mass': 1.922573046855008e-05, 'length': 0.131}}\n"
     ]
    },
    {
     "name": "stdout",
     "output_type": "stream",
     "text": [
      "{1: {'temp': 216.42, 'mass': 1.6292174499227848e-07, 'length': 46.582}, 2: {'temp': 234.971, 'mass': 2.168578663355183e-05, 'length': 23.152}, 3: {'temp': 231.477, 'mass': 1.4223582785705508e-07, 'length': 4.086}, 4: {'temp': 236.224, 'mass': 7.045248161459013e-08, 'length': 1.601}, 5: {'temp': 232.375, 'mass': 2.6644169915598147e-09, 'length': 1.664}, 6: {'temp': 236.302, 'mass': 1.1210202378404518e-11, 'length': 1.295}, 7: {'temp': 219.122, 'mass': 2.7014515011987703e-07, 'length': 37.59}, 8: {'temp': 233.861, 'mass': 1.8017285942319854e-05, 'length': 24.829}, 9: {'temp': 234.211, 'mass': 2.1798409345561837e-08, 'length': 1.901}, 10: {'temp': 233.577, 'mass': 1.6301858620381483e-09, 'length': 1.338}, 11: {'temp': 244.8, 'mass': 1.383133485693005e-10, 'length': 1.11}, 12: {'temp': 233.212, 'mass': 3.6092235133791862e-12, 'length': 1.11}, 13: {'temp': 233.385, 'mass': 1.069072752985278e-10, 'length': 1.138}, 14: {'temp': 219.19, 'mass': 7.370019650735017e-08, 'length': 37.059}, 15: {'temp': 233.417, 'mass': 1.4177510666556159e-05, 'length': 26.63}, 16: {'temp': 236.079, 'mass': 2.19553710727361e-08, 'length': 2.368}, 17: {'temp': 239.377, 'mass': 8.216525827799607e-10, 'length': 1.388}, 18: {'temp': 229.3, 'mass': 7.596149338473653e-11, 'length': 0.814}, 19: {'temp': 236.71, 'mass': 2.395996897030626e-12, 'length': 0.661}, 20: {'temp': 225.179, 'mass': 5.154351670698927e-07, 'length': 48.34}, 21: {'temp': 233.551, 'mass': 1.0169500285130685e-05, 'length': 13.93}, 22: {'temp': 233.551, 'mass': 1.2464948410065127e-06, 'length': 5.373}, 23: {'temp': 235.137, 'mass': 3.7309117705786235e-07, 'length': 1.945}, 24: {'temp': 236.72, 'mass': 8.94966952749311e-08, 'length': 2.013}, 25: {'temp': 235.032, 'mass': 3.33602685420512e-08, 'length': 2.241}, 26: {'temp': 219.593, 'mass': 1.0254828143484849e-07, 'length': 48.347}, 27: {'temp': 233.572, 'mass': 9.959328974348192e-06, 'length': 15.223}, 28: {'temp': 234.779, 'mass': 9.003243659961752e-07, 'length': 3.602}, 29: {'temp': 229.627, 'mass': 4.4302775028051816e-07, 'length': 4.82}, 30: {'temp': 237.473, 'mass': 9.296409020535126e-08, 'length': 2.938}, 31: {'temp': 232.018, 'mass': 1.8982871729526793e-08, 'length': 1.798}, 32: {'temp': 236.944, 'mass': 1.5161891872825532e-10, 'length': 1.106}, 33: {'temp': 216.232, 'mass': 2.8666507644196034e-07, 'length': 44.592}, 34: {'temp': 230.511, 'mass': 7.633375153978301e-06, 'length': 11.659}, 35: {'temp': 228.71, 'mass': 2.1512250772786383e-06, 'length': 19.53}, 36: {'temp': 233.912, 'mass': 2.7219813269921257e-09, 'length': 1.47}, 37: {'temp': 229.469, 'mass': 2.78000912671005e-10, 'length': 2.249}, 38: {'temp': 235.88, 'mass': 1.929164352577541e-10, 'length': 1.697}, 39: {'temp': 240.22, 'mass': 3.9851157399504804e-12, 'length': 0.774}, 40: {'temp': 234.52, 'mass': 2.0076848518353335e-11, 'length': 0.711}, 41: {'temp': 217.148, 'mass': 1.612834009831705e-07, 'length': 37.322}, 42: {'temp': 229.132, 'mass': 8.424524569176028e-06, 'length': 28.675}, 43: {'temp': 229.26, 'mass': 3.4967170601574923e-09, 'length': 1.864}, 44: {'temp': 227.673, 'mass': 1.7587304590590588e-10, 'length': 1.89}, 45: {'temp': 248.83, 'mass': 1.1177956736421662e-10, 'length': 0.778}, 46: {'temp': 242.03, 'mass': 8.803542636804854e-11, 'length': 0.764}, 47: {'temp': 239.69, 'mass': 1.1822989567558613e-12, 'length': 0.689}, 48: {'temp': 237.07, 'mass': 9.74523915867615e-13, 'length': 0.66}, 49: {'temp': 232.32, 'mass': 2.583252605288683e-13, 'length': 0.661}, 50: {'temp': 218.224, 'mass': 3.6306638018800254e-07, 'length': 48.322}, 51: {'temp': 229.915, 'mass': 6.477576471887303e-06, 'length': 14.949}, 52: {'temp': 231.852, 'mass': 7.773014611306383e-07, 'length': 5.742}, 53: {'temp': 230.968, 'mass': 1.9136957459063937e-07, 'length': 3.957}, 54: {'temp': 227.123, 'mass': 2.865375418435242e-08, 'length': 2.797}, 55: {'temp': 229.656, 'mass': 3.837753587576009e-09, 'length': 3.571}, 56: {'temp': 231.754, 'mass': 3.991105796175674e-11, 'length': 1.954}, 57: {'temp': 241.13, 'mass': 2.333882538851321e-07, 'length': 1.668}, 58: {'temp': 238.127, 'mass': 1.7176990077392385e-11, 'length': 0.906}, 59: {'temp': 242.36, 'mass': 3.710037055061732e-11, 'length': 0.937}, 60: {'temp': 236.375, 'mass': 7.796742279914435e-11, 'length': 0.895}, 61: {'temp': 229.45, 'mass': 1.7588460422126974e-12, 'length': 0.808}, 62: {'temp': 225.628, 'mass': 1.8846298256911802e-07, 'length': 44.203}, 63: {'temp': 235.588, 'mass': 4.243226993125001e-06, 'length': 6.706}, 64: {'temp': 232.676, 'mass': 1.0056296834838997e-06, 'length': 5.438}, 65: {'temp': 233.096, 'mass': 1.768333970844618e-06, 'length': 4.591}, 66: {'temp': 232.178, 'mass': 3.323695580658839e-07, 'length': 2.829}, 67: {'temp': 228.905, 'mass': 7.781764914448843e-08, 'length': 2.647}, 68: {'temp': 236.354, 'mass': 3.669925613113954e-07, 'length': 1.881}, 69: {'temp': 231.847, 'mass': 1.5907913471626467e-08, 'length': 1.993}, 70: {'temp': 236.505, 'mass': 2.1695072678479435e-11, 'length': 0.851}, 71: {'temp': 231.271, 'mass': 7.473338159655983e-09, 'length': 1.84}, 72: {'temp': 220.048, 'mass': 3.331801478396026e-07, 'length': 45.629}, 73: {'temp': 230.325, 'mass': 3.401484690632434e-06, 'length': 8.181}, 74: {'temp': 232.512, 'mass': 1.0854586518476816e-06, 'length': 8.477}, 75: {'temp': 231.179, 'mass': 2.778125479820706e-07, 'length': 6.317}, 76: {'temp': 230.591, 'mass': 5.865820211346101e-08, 'length': 2.992}, 77: {'temp': 230.206, 'mass': 2.259510158458883e-09, 'length': 2.916}, 78: {'temp': 233.498, 'mass': 2.593475975727195e-07, 'length': 2.566}, 79: {'temp': 228.61, 'mass': 4.3213667383461325e-09, 'length': 1.76}, 80: {'temp': 229.445, 'mass': 7.415765888474647e-11, 'length': 1.653}, 81: {'temp': 245.795, 'mass': 5.634667023163778e-11, 'length': 0.925}, 82: {'temp': 235.77, 'mass': 8.729604400791056e-12, 'length': 0.865}}\n"
     ]
    }
   ],
   "source": [
    "columns = [\"cluster\", \"nodeCluster\", \"temperature\", \"ice_particles\", \"ice_mass\", \"ice_length\"]\n",
    "folders = [f for f in listdir(\"data/withOutliers/\")]\n",
    "# folders = ['newData']\n",
    "for folder in folders:\n",
    "    onlyfiles = [f for f in listdir(\"data/withOutliers/{}\".format(folder)) ]\n",
    "    simulationData = {}\n",
    "#     print(folder)\n",
    "    for file in onlyfiles:\n",
    "        path = \"data/withOutliers/{}/{}\".format(folder, file)\n",
    "#         print(path)\n",
    "        df = pd.read_csv(path)\n",
    "#             calculating the diameter in micron (?)\n",
    "#         df['new_d'] = df['d'] * math.pow(10, 6)\n",
    "    \n",
    "#         getting the temperature means\n",
    "        means = round(df.groupby('cluster')['T'].mean(), 3)\n",
    "#         print(df.groupby('cluster')['nodeCluster'])\n",
    "#     getting the clusters\n",
    "        clusters = means.index.tolist()\n",
    "#         print(clusters)\n",
    "#     getting the nodeCluster\n",
    "        nodeClusters = sorted(df['nodeCluster'].value_counts().index.tolist())\n",
    "#         print(nodeClusters)\n",
    "#     storing the temperature\n",
    "        temperature = means.tolist()\n",
    "#     storing total particles\n",
    "        particles = df.groupby('cluster')['cluster'].value_counts().tolist()\n",
    "\n",
    "#     adding the total values for all data\n",
    "        clusters.append(\"all\")\n",
    "        nodeClusters.append('all')\n",
    "        temperature.append(round(df['T'].mean(), 3))\n",
    "        particles.append(df.shape[0])\n",
    "\n",
    "#         extracting the total volumes\n",
    "#         volumes = []\n",
    "        volumesExact = []\n",
    "#         extracting the farthest distance\n",
    "        distances = []\n",
    "        for each in clusters:\n",
    "#             print(each)\n",
    "            if each == 'all':\n",
    "#                 print(each)\n",
    "#                 volumes.append(calculateVolume(df['new_d'].tolist()))\n",
    "                volumesExact.append(calculateMass(df['d'].tolist()))\n",
    "                distances.append(calculateLength(df[['Points:0', 'Points:1', 'Points:2']].to_numpy()))\n",
    "            else:\n",
    "#                 print(each)\n",
    "#                 volumes.append(calculateVolume(df[df.cluster == each]['new_d'].tolist()))\n",
    "                volumesExact.append(calculateMass(df[df.cluster == each]['d'].tolist()))\n",
    "                distances.append(calculateLength(df[df.cluster == each][['Points:0', 'Points:1', 'Points:2']].to_numpy()))\n",
    "        \n",
    "        \n",
    "        # print(means)\n",
    "#         print(clusters)\n",
    "#         print(temperature)\n",
    "#         print(particles)\n",
    "#         print(volumes)\n",
    "#         print(distances)\n",
    "#         print(volumesExact)\n",
    "        for index, value in enumerate(nodeClusters):\n",
    "            if value == 'all':\n",
    "                pass\n",
    "            else:\n",
    "                simulationData[value] = {'temp': temperature[index], \"mass\": volumesExact[index], 'length': distances[index]}\n",
    "            \n",
    "    print(simulationData)\n",
    "    with open('output/jsons/{}-attr.json'.format(folder), 'w', encoding='utf-8') as outfile:\n",
    "        json.dump(simulationData, outfile, sort_keys=True, indent=4)\n",
    "# output csv generation\n",
    "#         extract = pd.DataFrame(np.column_stack([clusters, nodeClusters, temperature, particles, volumesExact, distances]),\n",
    "#                       columns=columns)\n",
    "\n",
    "#         extract.to_csv('output/withOutliers/{}/{}'.format(folder, file), index=False)\n",
    "#         print(\"exported {} {} \".format(folder, file))\n"
   ]
  },
  {
   "cell_type": "code",
   "execution_count": 10,
   "id": "0c4a7cf1",
   "metadata": {},
   "outputs": [],
   "source": [
    "path = \"data/withoutOutliers/{}/{}\".format(\"contrails1\", \"0.2.csv\")\n",
    "df = pd.read_csv(path)\n",
    "pts = df[['Points:0', 'Points:1', 'Points:2']].to_numpy()\n",
    "hull = ConvexHull(p)"
   ]
  },
  {
   "cell_type": "code",
   "execution_count": 14,
   "id": "4cdba81b",
   "metadata": {},
   "outputs": [
    {
     "name": "stdout",
     "output_type": "stream",
     "text": [
      "<scipy.spatial.qhull.ConvexHull object at 0x0000026375062248>\n"
     ]
    }
   ],
   "source": [
    "\n",
    "from mpl_toolkits.mplot3d import Axes3D\n",
    "\n",
    "\n",
    "# 8 points defining the cube corners\n",
    "# pts = np.array([[0, 0, 0], [1, 0, 0], [1, 1, 0], [0, 1, 0],\n",
    "#                 [0, 0, 1], [1, 0, 1], [1, 1, 1], [0, 1, 1], ])\n",
    "\n",
    "hull = ConvexHull(pts)\n",
    "\n",
    "# fig = plt.figure()\n",
    "# ax = fig.add_subplot(111, projection=\"3d\")\n",
    "\n",
    "# # Plot defining corner points\n",
    "# ax.plot(pts.T[0], pts.T[1], pts.T[2], \"ko\")\n",
    "\n",
    "# # 12 = 2 * 6 faces are the simplices (2 simplices per square face)\n",
    "# for s in hull.simplices:\n",
    "#     s = np.append(s, s[0])  # Here we cycle back to the first coordinate\n",
    "#     ax.plot(pts[s, 0], pts[s, 1], pts[s, 2], \"r-\")\n",
    "\n",
    "# # Make axis label\n",
    "# for i in [\"x\", \"y\", \"z\"]:\n",
    "#     eval(\"ax.set_{:s}label('{:s}')\".format(i, i))\n",
    "\n",
    "# plt.show()\n",
    "\n",
    "print(hull)"
   ]
  },
  {
   "cell_type": "code",
   "execution_count": 7,
   "id": "4c98e0b5",
   "metadata": {},
   "outputs": [
    {
     "ename": "SyntaxError",
     "evalue": "invalid syntax (Temp/ipykernel_7936/3301890463.py, line 5)",
     "output_type": "error",
     "traceback": [
      "\u001b[1;36m  File \u001b[1;32m\"C:\\Users\\evladmin\\AppData\\Local\\Temp/ipykernel_7936/3301890463.py\"\u001b[1;36m, line \u001b[1;32m5\u001b[0m\n\u001b[1;33m    hold on;                     # Add to the existing plot\u001b[0m\n\u001b[1;37m          ^\u001b[0m\n\u001b[1;31mSyntaxError\u001b[0m\u001b[1;31m:\u001b[0m invalid syntax\n"
     ]
    }
   ],
   "source": [
    "x = rand(1,20);              # 20 random x values\n",
    "y = rand(1,20);              # 20 random y values\n",
    "hullPoints = convhull(x,y);  # Find the points defining the convex hull\n",
    "patch(x(hullPoints),y(hullPoints),'r');  # Plot the convex hull in red\n",
    "hold on;                     # Add to the existing plot\n",
    "scatter(x,y);    "
   ]
  },
  {
   "cell_type": "code",
   "execution_count": 8,
   "id": "036b75e1",
   "metadata": {},
   "outputs": [
    {
     "ename": "SyntaxError",
     "evalue": "invalid syntax (Temp/ipykernel_7936/1113393829.py, line 1)",
     "output_type": "error",
     "traceback": [
      "\u001b[1;36m  File \u001b[1;32m\"C:\\Users\\evladmin\\AppData\\Local\\Temp/ipykernel_7936/1113393829.py\"\u001b[1;36m, line \u001b[1;32m1\u001b[0m\n\u001b[1;33m    [4.8062e+00 3.8889e-01 5.9698e-12] [ 5.29590000e+01 -1.19520000e+00 -4.06809985e-09] 48.17884897927824\u001b[0m\n\u001b[1;37m                         ^\u001b[0m\n\u001b[1;31mSyntaxError\u001b[0m\u001b[1;31m:\u001b[0m invalid syntax\n"
     ]
    }
   ],
   "source": [
    "[4.8062e+00 3.8889e-01 5.9698e-12] [ 5.29590000e+01 -1.19520000e+00 -4.06809985e-09] 48.17884897927824"
   ]
  },
  {
   "cell_type": "code",
   "execution_count": 11,
   "id": "11f862da",
   "metadata": {},
   "outputs": [
    {
     "data": {
      "text/plain": [
       "52.959"
      ]
     },
     "execution_count": 11,
     "metadata": {},
     "output_type": "execute_result"
    }
   ],
   "source": [
    "5.29590000e+01"
   ]
  },
  {
   "cell_type": "code",
   "execution_count": null,
   "id": "9306f412",
   "metadata": {},
   "outputs": [],
   "source": []
  }
 ],
 "metadata": {
  "kernelspec": {
   "display_name": "Python 3",
   "language": "python",
   "name": "python3"
  },
  "language_info": {
   "codemirror_mode": {
    "name": "ipython",
    "version": 3
   },
   "file_extension": ".py",
   "mimetype": "text/x-python",
   "name": "python",
   "nbconvert_exporter": "python",
   "pygments_lexer": "ipython3",
   "version": "3.8.8"
  }
 },
 "nbformat": 4,
 "nbformat_minor": 5
}
