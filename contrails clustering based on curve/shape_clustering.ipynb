{
 "cells": [
  {
   "cell_type": "code",
   "execution_count": 9,
   "id": "97096567",
   "metadata": {},
   "outputs": [
    {
     "data": {
      "text/plain": [
       "'\\n    directed_hausdorff\\n    @parameters: two input arrays (U, V)\\n    seed: int or none\\n    \\n    @output: d: double - the directed hausdorff distance between the two arrays\\n    index1: index of point contributing to hausdorff pair in U\\n    index2: index of point contributing to hausdorff pair in V\\n'"
      ]
     },
     "execution_count": 9,
     "metadata": {},
     "output_type": "execute_result"
    }
   ],
   "source": [
    "import numpy as np\n",
    "import json\n",
    "from os import listdir\n",
    "\n",
    "import pandas as pd\n",
    "\n",
    "import matplotlib.pyplot as plt\n",
    "\n",
    "from scipy.spatial.distance import directed_hausdorff\n",
    "\n",
    "from sklearn.cluster import AgglomerativeClustering\n",
    "from scipy.cluster.hierarchy import linkage, fcluster, dendrogram\n",
    "\n",
    "from sklearn.neighbors import NearestNeighbors\n",
    "\n",
    "\"\"\"\n",
    "\n",
    "http://cgm.cs.mcgill.ca/~godfried/teaching/cg-projects/98/normand/main.html\n",
    "\n",
    "https://docs.scipy.org/doc/scipy/reference/generated/scipy.spatial.distance.directed_hausdorff.html\n",
    "\n",
    "http://web.stanford.edu/class/cs273/scribing/2004/class8/scribe8.pdf\n",
    "\n",
    "\n",
    "    directed_hausdorff\n",
    "    @parameters: two input arrays (U, V)\n",
    "    seed: int or none\n",
    "    \n",
    "    @output: d: double - the directed hausdorff distance between the two arrays\n",
    "    index1: index of point contributing to hausdorff pair in U\n",
    "    index2: index of point contributing to hausdorff pair in V\n",
    "\"\"\""
   ]
  },
  {
   "cell_type": "code",
   "execution_count": 2,
   "id": "2cb5ddb8",
   "metadata": {},
   "outputs": [
    {
     "name": "stdout",
     "output_type": "stream",
     "text": [
      "210.json\n",
      "211.json\n",
      "212.json\n",
      "213.json\n",
      "214.json\n",
      "215.json\n",
      "216.json\n",
      "217.json\n",
      "218.json\n",
      "219.json\n"
     ]
    }
   ],
   "source": [
    "folders = [f for f in listdir(\"data/input\")]\n",
    "folders = ['newData']\n",
    "\n",
    "for folder in folders:\n",
    "    onlyfiles = [f for f in listdir(\"data/input/{}\".format(folder)) ]\n",
    "    data = []\n",
    "    for file in onlyfiles:\n",
    "        print(file)\n",
    "        with open(\"data/input/{}/{}\".format(folder, file)) as f:\n",
    "            d = json.load(f)\n",
    "            allArrays = np.concatenate([pd.json_normalize(d[x]).to_numpy() for x in range(len(d))])        \n",
    "#             print(allArrays)\n",
    "#             print(len(allArrays))\n",
    "#             print(\"next\")\n",
    "#             df = pd.json_normalize(d[0]).to_numpy()\n",
    "#             print(df)\n",
    "            data.append(allArrays)"
   ]
  },
  {
   "cell_type": "code",
   "execution_count": 3,
   "id": "c6b7f7ba",
   "metadata": {},
   "outputs": [],
   "source": [
    "hausdorff = []\n",
    "for i in range(len(data)):\n",
    "    each = []\n",
    "    for j in range(len(data)):\n",
    "        uv = directed_hausdorff(data[i], data[j])\n",
    "        vu = directed_hausdorff(data[j], data[i])\n",
    "        haus = max(uv[0], vu[0])\n",
    "        each.append(haus)\n",
    "    hausdorff.append(each)"
   ]
  },
  {
   "cell_type": "code",
   "execution_count": 4,
   "id": "f7a6b992",
   "metadata": {},
   "outputs": [
    {
     "name": "stderr",
     "output_type": "stream",
     "text": [
      "<ipython-input-4-652ccf7e2959>:1: ClusterWarning: scipy.cluster: The symmetric non-negative hollow observation matrix looks suspiciously like an uncondensed distance matrix\n",
      "  Z = linkage(hausdorff,method='single')\n"
     ]
    },
    {
     "data": {
      "image/png": "[encoded data removed]",
      "text/plain": [
       "<Figure size 720x504 with 1 Axes>"
      ]
     },
     "metadata": {
      "needs_background": "light"
     },
     "output_type": "display_data"
    }
   ],
   "source": [
    "Z = linkage(hausdorff,method='single')\n",
    "\n",
    "plt.figure(figsize=(10, 7))  \n",
    "plt.title(\"Dendrograms\")  \n",
    "dend = dendrogram(Z)\n",
    "# print(dend)"
   ]
  },
  {
   "cell_type": "code",
   "execution_count": 5,
   "id": "0e385f57",
   "metadata": {},
   "outputs": [
    {
     "name": "stdout",
     "output_type": "stream",
     "text": [
      "[210, 211, 212, 213, 214, 215, 216, 217, 218, 219]\n",
      "[0 0 1 0 0 1 0 1 1 1]\n"
     ]
    }
   ],
   "source": [
    "cluster = AgglomerativeClustering(n_clusters=2, affinity='precomputed', linkage='single')\n",
    "\n",
    "cluster.fit(hausdorff)\n",
    "labels = cluster.labels_\n",
    "labels\n",
    "\n",
    "print([210,211,212,213,214,215,216,217,218,219])\n",
    "print(labels)"
   ]
  },
  {
   "cell_type": "code",
   "execution_count": 6,
   "id": "8b0908ed",
   "metadata": {},
   "outputs": [
    {
     "name": "stdout",
     "output_type": "stream",
     "text": [
      "73\n"
     ]
    }
   ],
   "source": [
    "with open('0.2.json') as f:\n",
    "    data1 = json.load(f)\n",
    "    \n",
    "with open('0.14.json') as f:\n",
    "    data2 = json.load(f)\n",
    "    \n",
    "with open('219.json') as f:\n",
    "    data3 = json.load(f)\n",
    "    print(len(data3[0]))"
   ]
  },
  {
   "cell_type": "code",
   "execution_count": 20,
   "id": "21b0eb5e",
   "metadata": {},
   "outputs": [],
   "source": [
    "nbrs = NearestNeighbors(n_neighbors=6, algorithm='kd_tree').fit(hausdorff)"
   ]
  },
  {
   "cell_type": "code",
   "execution_count": 21,
   "id": "5354e938",
   "metadata": {},
   "outputs": [],
   "source": [
    "distances, indices = nbrs.kneighbors(hausdorff)"
   ]
  },
  {
   "cell_type": "code",
   "execution_count": 22,
   "id": "8a08928c",
   "metadata": {},
   "outputs": [],
   "source": [
    "name = [210,211,212,213,214,215,216,217,218,219]"
   ]
  },
  {
   "cell_type": "code",
   "execution_count": 23,
   "id": "b1c231f7",
   "metadata": {},
   "outputs": [],
   "source": [
    "neighbors = {}\n",
    "for indice in range(len(indices)):\n",
    "    neighbors[name[indice]] = []   \n",
    "#     print(indice)\n",
    "    for i in range(1,len(indices[indice])):\n",
    "        pass\n",
    "#         print(i)\n",
    "        neighbors[name[indice]].append(name[indices[indice][i]])"
   ]
  },
  {
   "cell_type": "code",
   "execution_count": 24,
   "id": "d8e97c06",
   "metadata": {},
   "outputs": [
    {
     "data": {
      "text/plain": [
       "{210: [211, 214, 216, 213, 215],\n",
       " 211: [210, 214, 216, 213, 215],\n",
       " 212: [218, 215, 219, 217, 210],\n",
       " 213: [216, 214, 211, 210, 215],\n",
       " 214: [213, 216, 211, 210, 215],\n",
       " 215: [217, 218, 212, 219, 210],\n",
       " 216: [213, 214, 211, 210, 215],\n",
       " 217: [215, 219, 218, 212, 210],\n",
       " 218: [212, 215, 217, 219, 210],\n",
       " 219: [217, 218, 212, 215, 210]}"
      ]
     },
     "execution_count": 24,
     "metadata": {},
     "output_type": "execute_result"
    }
   ],
   "source": [
    "neighbors"
   ]
  },
  {
   "cell_type": "code",
   "execution_count": null,
   "id": "d8ea6331",
   "metadata": {},
   "outputs": [],
   "source": []
  }
 ],
 "metadata": {
  "kernelspec": {
   "display_name": "Python 3",
   "language": "python",
   "name": "python3"
  },
  "language_info": {
   "codemirror_mode": {
    "name": "ipython",
    "version": 3
   },
   "file_extension": ".py",
   "mimetype": "text/x-python",
   "name": "python",
   "nbconvert_exporter": "python",
   "pygments_lexer": "ipython3",
   "version": "3.8.8"
  }
 },
 "nbformat": 4,
 "nbformat_minor": 5
}
