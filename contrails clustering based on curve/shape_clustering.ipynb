{
 "cells": [
  {
   "cell_type": "code",
   "execution_count": 48,
   "id": "97096567",
   "metadata": {},
   "outputs": [],
   "source": [
    "import numpy as np\n",
    "import json\n",
    "\n",
    "import pandas as pd\n",
    "\n",
    "import matplotlib.pyplot as plt\n",
    "\n",
    "from scipy.spatial.distance import directed_hausdorff\n",
    "\n",
    "\"\"\"\n",
    "    directed_hausdorff\n",
    "    @parameters: two input arrays (U, V)\n",
    "    seed: int or none\n",
    "    \n",
    "    @output: d: double - the directed hausdorff distance between the two arrays\n",
    "    index1: index of point contributing to hausdorff pair in U\n",
    "    index2: index of point contributing to hausdorff pair in V\n",
    "\"\"\""
   ]
  },
  {
   "cell_type": "code",
   "execution_count": 54,
   "id": "bf68f5d6",
   "metadata": {},
   "outputs": [],
   "source": [
    "with open('0.2.json') as f:\n",
    "    data1 = json.load(f)\n",
    "    \n",
    "with open('0.14.json') as f:\n",
    "    data2 = json.load(f)"
   ]
  },
  {
   "cell_type": "code",
   "execution_count": 60,
   "id": "a7858668",
   "metadata": {},
   "outputs": [],
   "source": [
    "df1 = pd.json_normalize(data1[0]).to_numpy()\n",
    "df2 = pd.json_normalize(data2[0]).to_numpy()\n"
   ]
  },
  {
   "cell_type": "code",
   "execution_count": 61,
   "id": "214b5e2c",
   "metadata": {},
   "outputs": [
    {
     "data": {
      "text/plain": [
       "(0.31066561203325993, 30, 43)"
      ]
     },
     "execution_count": 61,
     "metadata": {},
     "output_type": "execute_result"
    }
   ],
   "source": [
    "directed_hausdorff(df1, df2)"
   ]
  },
  {
   "cell_type": "code",
   "execution_count": 62,
   "id": "a26f58e4",
   "metadata": {},
   "outputs": [
    {
     "data": {
      "text/plain": [
       "(0.2769795893202239, 43, 29)"
      ]
     },
     "execution_count": 62,
     "metadata": {},
     "output_type": "execute_result"
    }
   ],
   "source": [
    "directed_hausdorff(df2, df1)"
   ]
  },
  {
   "cell_type": "code",
   "execution_count": 63,
   "id": "be4846c3",
   "metadata": {},
   "outputs": [
    {
     "data": {
      "text/plain": [
       "0.31066561203325993"
      ]
     },
     "execution_count": 63,
     "metadata": {},
     "output_type": "execute_result"
    }
   ],
   "source": [
    "max(directed_hausdorff(df1, df2)[0], directed_hausdorff(df2, df1)[0])"
   ]
  },
  {
   "cell_type": "code",
   "execution_count": 64,
   "id": "2177c7ba",
   "metadata": {},
   "outputs": [
    {
     "data": {
      "text/plain": [
       "(0.31066561203325993, 30, 43)"
      ]
     },
     "execution_count": 64,
     "metadata": {},
     "output_type": "execute_result"
    }
   ],
   "source": [
    "directed_hausdorff(df1, df2)"
   ]
  },
  {
   "cell_type": "code",
   "execution_count": null,
   "id": "9f4fd5a5",
   "metadata": {},
   "outputs": [],
   "source": []
  }
 ],
 "metadata": {
  "kernelspec": {
   "display_name": "Python 3 (ipykernel)",
   "language": "python",
   "name": "python3"
  },
  "language_info": {
   "codemirror_mode": {
    "name": "ipython",
    "version": 3
   },
   "file_extension": ".py",
   "mimetype": "text/x-python",
   "name": "python",
   "nbconvert_exporter": "python",
   "pygments_lexer": "ipython3",
   "version": "3.7.9"
  }
 },
 "nbformat": 4,
 "nbformat_minor": 5
}
