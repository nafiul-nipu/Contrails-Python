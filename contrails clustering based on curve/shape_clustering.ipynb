{
 "cells": [
  {
   "cell_type": "code",
   "execution_count": 31,
   "id": "97096567",
   "metadata": {},
   "outputs": [
    {
     "data": {
      "text/plain": [
       "'\\n    directed_hausdorff\\n    @parameters: two input arrays (U, V)\\n    seed: int or none\\n    \\n    @output: d: double - the directed hausdorff distance between the two arrays\\n    index1: index of point contributing to hausdorff pair in U\\n    index2: index of point contributing to hausdorff pair in V\\n'"
      ]
     },
     "execution_count": 31,
     "metadata": {},
     "output_type": "execute_result"
    }
   ],
   "source": [
    "import numpy as np\n",
    "import json\n",
    "from os import listdir\n",
    "\n",
    "import pandas as pd\n",
    "\n",
    "import matplotlib.pyplot as plt\n",
    "\n",
    "from scipy.spatial.distance import directed_hausdorff\n",
    "\n",
    "from sklearn.cluster import AgglomerativeClustering\n",
    "from scipy.cluster.hierarchy import linkage, fcluster, dendrogram\n",
    "\n",
    "\"\"\"\n",
    "    directed_hausdorff\n",
    "    @parameters: two input arrays (U, V)\n",
    "    seed: int or none\n",
    "    \n",
    "    @output: d: double - the directed hausdorff distance between the two arrays\n",
    "    index1: index of point contributing to hausdorff pair in U\n",
    "    index2: index of point contributing to hausdorff pair in V\n",
    "\"\"\""
   ]
  },
  {
   "cell_type": "code",
   "execution_count": 36,
   "id": "f0e71169",
   "metadata": {},
   "outputs": [],
   "source": [
    "folders = [f for f in listdir(\"data/input\")]\n",
    "folders = ['newData']\n",
    "\n",
    "for folder in folders:\n",
    "    onlyfiles = [f for f in listdir(\"data/input/{}\".format(folder)) ]\n",
    "    data = []\n",
    "    for file in onlyfiles:\n",
    "        with open(\"data/input/{}/{}\".format(folder, file)) as f:\n",
    "            d = json.load(f)\n",
    "            df = pd.json_normalize(d[0]).to_numpy()\n",
    "            data.append(df)"
   ]
  },
  {
   "cell_type": "code",
   "execution_count": 37,
   "id": "bb1cfc53",
   "metadata": {},
   "outputs": [],
   "source": [
    "hausdorff = []\n",
    "for i in range(len(data)):\n",
    "    each = []\n",
    "    for j in range(len(data)):\n",
    "        uv = directed_hausdorff(data[i], data[j])\n",
    "        vu = directed_hausdorff(data[j], data[i])\n",
    "        haus = max(uv[0], vu[0])\n",
    "        each.append(haus)\n",
    "    hausdorff.append(each)"
   ]
  },
  {
   "cell_type": "code",
   "execution_count": 38,
   "id": "81662ce4",
   "metadata": {},
   "outputs": [
    {
     "name": "stderr",
     "output_type": "stream",
     "text": [
      "C:\\Users\\evladmin\\Anaconda3\\envs\\server-png\\lib\\site-packages\\ipykernel_launcher.py:1: ClusterWarning: scipy.cluster: The symmetric non-negative hollow observation matrix looks suspiciously like an uncondensed distance matrix\n",
      "  \"\"\"Entry point for launching an IPython kernel.\n"
     ]
    },
    {
     "data": {
      "image/png": "[encoded data removed]",
      "text/plain": [
       "<Figure size 720x504 with 1 Axes>"
      ]
     },
     "metadata": {
      "needs_background": "light"
     },
     "output_type": "display_data"
    }
   ],
   "source": [
    "Z = linkage(hausdorff,method='ward')\n",
    "\n",
    "plt.figure(figsize=(10, 7))  \n",
    "plt.title(\"Dendrograms\")  \n",
    "dend = dendrogram(Z)"
   ]
  },
  {
   "cell_type": "code",
   "execution_count": 39,
   "id": "0ce42288",
   "metadata": {},
   "outputs": [
    {
     "name": "stderr",
     "output_type": "stream",
     "text": [
      "C:\\Users\\evladmin\\Anaconda3\\envs\\server-png\\lib\\site-packages\\scipy\\cluster\\hierarchy.py:834: ClusterWarning: scipy.cluster: The symmetric non-negative hollow observation matrix looks suspiciously like an uncondensed distance matrix\n",
      "  return linkage(y, method='ward', metric='euclidean')\n"
     ]
    },
    {
     "data": {
      "text/plain": [
       "array([1, 5, 4, 1, 0, 3, 0, 1, 1, 2], dtype=int64)"
      ]
     },
     "execution_count": 39,
     "metadata": {},
     "output_type": "execute_result"
    }
   ],
   "source": [
    "model = AgglomerativeClustering(n_clusters=6, affinity='euclidean', linkage='ward')\n",
    "model.fit(hausdorff)\n",
    "labels = model.labels_\n",
    "labels"
   ]
  },
  {
   "cell_type": "code",
   "execution_count": 2,
   "id": "8b0908ed",
   "metadata": {},
   "outputs": [
    {
     "name": "stdout",
     "output_type": "stream",
     "text": [
      "73\n"
     ]
    }
   ],
   "source": [
    "with open('0.2.json') as f:\n",
    "    data1 = json.load(f)\n",
    "    \n",
    "with open('0.14.json') as f:\n",
    "    data2 = json.load(f)\n",
    "    \n",
    "with open('219.json') as f:\n",
    "    data3 = json.load(f)\n",
    "    print(len(data3[0]))"
   ]
  },
  {
   "cell_type": "code",
   "execution_count": 3,
   "id": "21b0eb5e",
   "metadata": {},
   "outputs": [
    {
     "name": "stdout",
     "output_type": "stream",
     "text": [
      "73\n"
     ]
    }
   ],
   "source": [
    "df1 = pd.json_normalize(data1[0]).to_numpy()\n",
    "df2 = pd.json_normalize(data2[0]).to_numpy()\n",
    "df3 = pd.json_normalize(data3[0]).to_numpy()\n",
    "print(len(df3))"
   ]
  },
  {
   "cell_type": "code",
   "execution_count": 4,
   "id": "68adabf4",
   "metadata": {},
   "outputs": [
    {
     "data": {
      "text/plain": [
       "(17.1038630704198, 214, 47)"
      ]
     },
     "execution_count": 4,
     "metadata": {},
     "output_type": "execute_result"
    }
   ],
   "source": [
    "directed_hausdorff(df1, df3)"
   ]
  },
  {
   "cell_type": "code",
   "execution_count": 5,
   "id": "790b0d84",
   "metadata": {},
   "outputs": [
    {
     "data": {
      "text/plain": [
       "(5.493204203777609, 64, 49)"
      ]
     },
     "execution_count": 5,
     "metadata": {},
     "output_type": "execute_result"
    }
   ],
   "source": [
    "directed_hausdorff(df3, df1)"
   ]
  },
  {
   "cell_type": "code",
   "execution_count": 6,
   "id": "821c6df4",
   "metadata": {},
   "outputs": [
    {
     "data": {
      "text/plain": [
       "0.31066561203325993"
      ]
     },
     "execution_count": 6,
     "metadata": {},
     "output_type": "execute_result"
    }
   ],
   "source": [
    "max(directed_hausdorff(df1, df2)[0], directed_hausdorff(df2, df1)[0])"
   ]
  },
  {
   "cell_type": "code",
   "execution_count": 7,
   "id": "25e7e8ec",
   "metadata": {},
   "outputs": [
    {
     "data": {
      "text/plain": [
       "(0.31066561203325993, 30, 43)"
      ]
     },
     "execution_count": 7,
     "metadata": {},
     "output_type": "execute_result"
    }
   ],
   "source": [
    "directed_hausdorff(df1, df2)"
   ]
  }
 ],
 "metadata": {
  "kernelspec": {
   "display_name": "Python 3 (ipykernel)",
   "language": "python",
   "name": "python3"
  },
  "language_info": {
   "codemirror_mode": {
    "name": "ipython",
    "version": 3
   },
   "file_extension": ".py",
   "mimetype": "text/x-python",
   "name": "python",
   "nbconvert_exporter": "python",
   "pygments_lexer": "ipython3",
   "version": "3.7.9"
  }
 },
 "nbformat": 4,
 "nbformat_minor": 5
}
