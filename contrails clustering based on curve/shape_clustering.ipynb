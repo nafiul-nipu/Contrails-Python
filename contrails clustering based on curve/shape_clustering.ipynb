{
 "cells": [
  {
   "cell_type": "code",
   "execution_count": 1,
   "id": "97096567",
   "metadata": {},
   "outputs": [
    {
     "data": {
      "text/plain": [
       "'\\n    directed_hausdorff\\n    @parameters: two input arrays (U, V)\\n    seed: int or none\\n    \\n    @output: d: double - the directed hausdorff distance between the two arrays\\n    index1: index of point contributing to hausdorff pair in U\\n    index2: index of point contributing to hausdorff pair in V\\n'"
      ]
     },
     "execution_count": 1,
     "metadata": {},
     "output_type": "execute_result"
    }
   ],
   "source": [
    "import numpy as np\n",
    "import json\n",
    "\n",
    "import pandas as pd\n",
    "\n",
    "import matplotlib.pyplot as plt\n",
    "\n",
    "from scipy.spatial.distance import directed_hausdorff\n",
    "\n",
    "\"\"\"\n",
    "    directed_hausdorff\n",
    "    @parameters: two input arrays (U, V)\n",
    "    seed: int or none\n",
    "    \n",
    "    @output: d: double - the directed hausdorff distance between the two arrays\n",
    "    index1: index of point contributing to hausdorff pair in U\n",
    "    index2: index of point contributing to hausdorff pair in V\n",
    "\"\"\""
   ]
  },
  {
   "cell_type": "code",
   "execution_count": 2,
   "id": "8b0908ed",
   "metadata": {},
   "outputs": [],
   "source": [
    "with open('0.2.json') as f:\n",
    "    data1 = json.load(f)\n",
    "    \n",
    "with open('0.14.json') as f:\n",
    "    data2 = json.load(f)"
   ]
  },
  {
   "cell_type": "code",
   "execution_count": 3,
   "id": "21b0eb5e",
   "metadata": {},
   "outputs": [],
   "source": [
    "df1 = pd.json_normalize(data1[0]).to_numpy()\n",
    "df2 = pd.json_normalize(data2[0]).to_numpy()\n"
   ]
  },
  {
   "cell_type": "code",
   "execution_count": 4,
   "id": "68adabf4",
   "metadata": {},
   "outputs": [
    {
     "data": {
      "text/plain": [
       "(0.31066561203325993, 30, 43)"
      ]
     },
     "execution_count": 4,
     "metadata": {},
     "output_type": "execute_result"
    }
   ],
   "source": [
    "directed_hausdorff(df1, df2)"
   ]
  },
  {
   "cell_type": "code",
   "execution_count": 5,
   "id": "790b0d84",
   "metadata": {},
   "outputs": [
    {
     "data": {
      "text/plain": [
       "(0.2769795893202239, 43, 29)"
      ]
     },
     "execution_count": 5,
     "metadata": {},
     "output_type": "execute_result"
    }
   ],
   "source": [
    "directed_hausdorff(df2, df1)"
   ]
  },
  {
   "cell_type": "code",
   "execution_count": 6,
   "id": "821c6df4",
   "metadata": {},
   "outputs": [
    {
     "data": {
      "text/plain": [
       "0.31066561203325993"
      ]
     },
     "execution_count": 6,
     "metadata": {},
     "output_type": "execute_result"
    }
   ],
   "source": [
    "max(directed_hausdorff(df1, df2)[0], directed_hausdorff(df2, df1)[0])"
   ]
  },
  {
   "cell_type": "code",
   "execution_count": 7,
   "id": "25e7e8ec",
   "metadata": {},
   "outputs": [
    {
     "data": {
      "text/plain": [
       "(0.31066561203325993, 30, 43)"
      ]
     },
     "execution_count": 7,
     "metadata": {},
     "output_type": "execute_result"
    }
   ],
   "source": [
    "directed_hausdorff(df1, df2)"
   ]
  },
  {
   "cell_type": "code",
   "execution_count": 12,
   "id": "24a993d6",
   "metadata": {},
   "outputs": [
    {
     "ename": "AttributeError",
     "evalue": "module 'skimage.metrics' has no attribute 'hausdorff_pair'",
     "output_type": "error",
     "traceback": [
      "\u001b[1;31m---------------------------------------------------------------------------\u001b[0m",
      "\u001b[1;31mAttributeError\u001b[0m                            Traceback (most recent call last)",
      "\u001b[1;32m~\\AppData\\Local\\Temp/ipykernel_91556/3981987617.py\u001b[0m in \u001b[0;36m<module>\u001b[1;34m\u001b[0m\n\u001b[0;32m     41\u001b[0m \u001b[1;31m# Call the Hausdorff function on the coordinates\u001b[0m\u001b[1;33m\u001b[0m\u001b[1;33m\u001b[0m\u001b[1;33m\u001b[0m\u001b[0m\n\u001b[0;32m     42\u001b[0m \u001b[0mmetrics\u001b[0m\u001b[1;33m.\u001b[0m\u001b[0mhausdorff_distance\u001b[0m\u001b[1;33m(\u001b[0m\u001b[0mcoords_a\u001b[0m\u001b[1;33m,\u001b[0m \u001b[0mcoords_b\u001b[0m\u001b[1;33m)\u001b[0m\u001b[1;33m\u001b[0m\u001b[1;33m\u001b[0m\u001b[0m\n\u001b[1;32m---> 43\u001b[1;33m hausdorff_point_a, hausdorff_point_b = metrics.hausdorff_pair(coords_a,\n\u001b[0m\u001b[0;32m     44\u001b[0m                                                               coords_b)\n\u001b[0;32m     45\u001b[0m \u001b[1;33m\u001b[0m\u001b[0m\n",
      "\u001b[1;31mAttributeError\u001b[0m: module 'skimage.metrics' has no attribute 'hausdorff_pair'"
     ]
    },
    {
     "data": {
      "image/png": "[encoded data removed]",
      "text/plain": [
       "<Figure size 432x288 with 1 Axes>"
      ]
     },
     "metadata": {
      "needs_background": "light"
     },
     "output_type": "display_data"
    }
   ],
   "source": [
    "import matplotlib.pyplot as plt\n",
    "import numpy as np\n",
    "\n",
    "from skimage import metrics\n",
    "\n",
    "shape = (60, 60)\n",
    "image = np.zeros(shape)\n",
    "\n",
    "# Create a diamond-like shape where the four corners form the 1st set of points\n",
    "x_diamond = 30\n",
    "y_diamond = 30\n",
    "r = 10\n",
    "\n",
    "fig, ax = plt.subplots()\n",
    "plt_x = [0, 1, 0, -1]\n",
    "plt_y = [1, 0, -1, 0]\n",
    "\n",
    "set_ax = [(x_diamond + r * x) for x in plt_x]\n",
    "set_ay = [(y_diamond + r * y) for y in plt_y]\n",
    "plt.plot(set_ax, set_ay, 'or')\n",
    "\n",
    "# Create a kite-like shape where the four corners form the 2nd set of points\n",
    "x_kite = 30\n",
    "y_kite = 30\n",
    "x_r = 15\n",
    "y_r = 20\n",
    "\n",
    "set_bx = [(x_kite + x_r * x) for x in plt_x]\n",
    "set_by = [(y_kite + y_r * y) for y in plt_y]\n",
    "plt.plot(set_bx, set_by, 'og')\n",
    "\n",
    "# Set up the data to compute the Hausdorff distance\n",
    "coords_a = np.zeros(shape, dtype=bool)\n",
    "coords_b = np.zeros(shape, dtype=bool)\n",
    "for x, y in zip(set_ax, set_ay):\n",
    "    coords_a[(x, y)] = True\n",
    "\n",
    "for x, y in zip(set_bx, set_by):\n",
    "    coords_b[(x, y)] = True\n",
    "\n",
    "# Call the Hausdorff function on the coordinates\n",
    "metrics.hausdorff_distance(coords_a, coords_b)\n",
    "hausdorff_point_a, hausdorff_point_b = metrics.hausdorff_pair(coords_a,\n",
    "                                                              coords_b)\n",
    "\n",
    "# Plot the lines that shows the length of the Hausdorff distance\n",
    "x_line = [30, 30]\n",
    "y_line = [20, 10]\n",
    "plt.plot(x_line, y_line, 'y')\n",
    "\n",
    "x_line = [30, 30]\n",
    "y_line = [40, 50]\n",
    "plt.plot(x_line, y_line, 'y')\n",
    "\n",
    "# Plot circles to show that at this distance, the Hausdorff distance can\n",
    "# travel to its nearest neighbor (in this case, from the kite to diamond)\n",
    "ax.add_artist(plt.Circle((30, 10), 10, color='y', fill=None))\n",
    "ax.add_artist(plt.Circle((30, 50), 10, color='y', fill=None))\n",
    "ax.add_artist(plt.Circle((15, 30), 10, color='y', fill=None))\n",
    "ax.add_artist(plt.Circle((45, 30), 10, color='y', fill=None))\n",
    "\n",
    "# Annotate the returned pair of points that are Hausdorff distance apart\n",
    "ax.annotate('a', xy=hausdorff_point_a, xytext=(35, 15),\n",
    "            arrowprops=dict(facecolor='red', shrink=0.005))\n",
    "ax.annotate('b', xy=hausdorff_point_b, xytext=(35, 5),\n",
    "            arrowprops=dict(facecolor='green', shrink=0.005))\n",
    "\n",
    "ax.imshow(image, cmap=plt.cm.gray)\n",
    "ax.axis((0, 60, 60, 0))\n",
    "plt.show()"
   ]
  },
  {
   "cell_type": "code",
   "execution_count": null,
   "id": "843bd611",
   "metadata": {},
   "outputs": [],
   "source": []
  }
 ],
 "metadata": {
  "kernelspec": {
   "display_name": "Python 3 (ipykernel)",
   "language": "python",
   "name": "python3"
  },
  "language_info": {
   "codemirror_mode": {
    "name": "ipython",
    "version": 3
   },
   "file_extension": ".py",
   "mimetype": "text/x-python",
   "name": "python",
   "nbconvert_exporter": "python",
   "pygments_lexer": "ipython3",
   "version": "3.7.9"
  }
 },
 "nbformat": 4,
 "nbformat_minor": 5
}
