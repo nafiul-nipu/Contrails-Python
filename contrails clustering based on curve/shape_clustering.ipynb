{
 "cells": [
  {
   "cell_type": "code",
   "execution_count": 1,
   "id": "97096567",
   "metadata": {},
   "outputs": [
    {
     "data": {
      "text/plain": [
       "'\\n    directed_hausdorff\\n    @parameters: two input arrays (U, V)\\n    seed: int or none\\n    \\n    @output: d: double - the directed hausdorff distance between the two arrays\\n    index1: index of point contributing to hausdorff pair in U\\n    index2: index of point contributing to hausdorff pair in V\\n'"
      ]
     },
     "execution_count": 1,
     "metadata": {},
     "output_type": "execute_result"
    }
   ],
   "source": [
    "import numpy as np\n",
    "import json\n",
    "\n",
    "import pandas as pd\n",
    "\n",
    "import matplotlib.pyplot as plt\n",
    "\n",
    "from scipy.spatial.distance import directed_hausdorff\n",
    "\n",
    "\"\"\"\n",
    "    directed_hausdorff\n",
    "    @parameters: two input arrays (U, V)\n",
    "    seed: int or none\n",
    "    \n",
    "    @output: d: double - the directed hausdorff distance between the two arrays\n",
    "    index1: index of point contributing to hausdorff pair in U\n",
    "    index2: index of point contributing to hausdorff pair in V\n",
    "\"\"\""
   ]
  },
  {
   "cell_type": "code",
   "execution_count": 2,
   "id": "8b0908ed",
   "metadata": {},
   "outputs": [
    {
     "name": "stdout",
     "output_type": "stream",
     "text": [
      "73\n"
     ]
    }
   ],
   "source": [
    "with open('0.2.json') as f:\n",
    "    data1 = json.load(f)\n",
    "    \n",
    "with open('0.14.json') as f:\n",
    "    data2 = json.load(f)\n",
    "    \n",
    "with open('219.json') as f:\n",
    "    data3 = json.load(f)\n",
    "    print(len(data3[0]))"
   ]
  },
  {
   "cell_type": "code",
   "execution_count": 3,
   "id": "21b0eb5e",
   "metadata": {},
   "outputs": [
    {
     "name": "stdout",
     "output_type": "stream",
     "text": [
      "73\n"
     ]
    }
   ],
   "source": [
    "df1 = pd.json_normalize(data1[0]).to_numpy()\n",
    "df2 = pd.json_normalize(data2[0]).to_numpy()\n",
    "df3 = pd.json_normalize(data3[0]).to_numpy()\n",
    "print(len(df3))"
   ]
  },
  {
   "cell_type": "code",
   "execution_count": 4,
   "id": "68adabf4",
   "metadata": {},
   "outputs": [
    {
     "data": {
      "text/plain": [
       "(17.1038630704198, 214, 47)"
      ]
     },
     "execution_count": 4,
     "metadata": {},
     "output_type": "execute_result"
    }
   ],
   "source": [
    "directed_hausdorff(df1, df3)"
   ]
  },
  {
   "cell_type": "code",
   "execution_count": 5,
   "id": "790b0d84",
   "metadata": {},
   "outputs": [
    {
     "data": {
      "text/plain": [
       "(5.493204203777609, 64, 49)"
      ]
     },
     "execution_count": 5,
     "metadata": {},
     "output_type": "execute_result"
    }
   ],
   "source": [
    "directed_hausdorff(df3, df1)"
   ]
  },
  {
   "cell_type": "code",
   "execution_count": 6,
   "id": "821c6df4",
   "metadata": {},
   "outputs": [
    {
     "data": {
      "text/plain": [
       "0.31066561203325993"
      ]
     },
     "execution_count": 6,
     "metadata": {},
     "output_type": "execute_result"
    }
   ],
   "source": [
    "max(directed_hausdorff(df1, df2)[0], directed_hausdorff(df2, df1)[0])"
   ]
  },
  {
   "cell_type": "code",
   "execution_count": 7,
   "id": "25e7e8ec",
   "metadata": {},
   "outputs": [
    {
     "data": {
      "text/plain": [
       "(0.31066561203325993, 30, 43)"
      ]
     },
     "execution_count": 7,
     "metadata": {},
     "output_type": "execute_result"
    }
   ],
   "source": [
    "directed_hausdorff(df1, df2)"
   ]
  },
  {
   "cell_type": "code",
   "execution_count": 8,
   "id": "843bd611",
   "metadata": {},
   "outputs": [],
   "source": [
    "u = np.array([(1.0, 1.0),\n",
    "              (2.0, 2.0),\n",
    "              (3.0, 3.0),\n",
    "              (4.0, 4.0)])\n",
    "v = np.array([(5.0, 4.0),\n",
    "              (4.0, 3.0),\n",
    "              (3.0, 2.0),\n",
    "              (2.0, 1.0)])\n",
    "\n"
   ]
  },
  {
   "cell_type": "code",
   "execution_count": 9,
   "id": "f0ccd10f",
   "metadata": {},
   "outputs": [
    {
     "data": {
      "text/plain": [
       "(1.0, 0, 3)"
      ]
     },
     "execution_count": 9,
     "metadata": {},
     "output_type": "execute_result"
    }
   ],
   "source": [
    "directed_hausdorff(u, v)\n",
    "\n"
   ]
  },
  {
   "cell_type": "code",
   "execution_count": 10,
   "id": "67429331",
   "metadata": {},
   "outputs": [
    {
     "data": {
      "text/plain": [
       "(1.0, 0, 3)"
      ]
     },
     "execution_count": 10,
     "metadata": {},
     "output_type": "execute_result"
    }
   ],
   "source": [
    "directed_hausdorff(v, u)"
   ]
  },
  {
   "cell_type": "code",
   "execution_count": 11,
   "id": "023f90b8",
   "metadata": {},
   "outputs": [
    {
     "data": {
      "text/plain": [
       "(1.0, 0, 2)"
      ]
     },
     "execution_count": 11,
     "metadata": {},
     "output_type": "execute_result"
    }
   ],
   "source": [
    "u = np.array([(2.0, 2.0),\n",
    "              (1.0, 1.0),\n",
    "              (4.0, 4.0),\n",
    "              (3.0, 3.0)])\n",
    "v = np.array([(5.0, 4.0),\n",
    "              (4.0, 3.0),\n",
    "              (3.0, 2.0),\n",
    "              (2.0, 1.0)])\n",
    "directed_hausdorff(u, v)"
   ]
  },
  {
   "cell_type": "code",
   "execution_count": 12,
   "id": "0b37b952",
   "metadata": {},
   "outputs": [
    {
     "data": {
      "text/plain": [
       "(1.0, 0, 2)"
      ]
     },
     "execution_count": 12,
     "metadata": {},
     "output_type": "execute_result"
    }
   ],
   "source": [
    "directed_hausdorff(v, u)"
   ]
  },
  {
   "cell_type": "code",
   "execution_count": null,
   "id": "486fddbe",
   "metadata": {},
   "outputs": [],
   "source": []
  }
 ],
 "metadata": {
  "kernelspec": {
   "display_name": "Python 3 (ipykernel)",
   "language": "python",
   "name": "python3"
  },
  "language_info": {
   "codemirror_mode": {
    "name": "ipython",
    "version": 3
   },
   "file_extension": ".py",
   "mimetype": "text/x-python",
   "name": "python",
   "nbconvert_exporter": "python",
   "pygments_lexer": "ipython3",
   "version": "3.7.9"
  }
 },
 "nbformat": 4,
 "nbformat_minor": 5
}
