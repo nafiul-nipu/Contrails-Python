{
 "cells": [
  {
   "cell_type": "code",
   "execution_count": 1,
   "metadata": {},
   "outputs": [],
   "source": [
    "# import mpld3\n",
    "# mpld3.enable_notebook()\n",
    "import numpy as np\n",
    "import pandas as pd\n",
    "from os import listdir\n",
    "from sklearn.neighbors import NearestNeighbors\n",
    "from sklearn import preprocessing\n",
    "from sklearn.cluster import DBSCAN\n",
    "from matplotlib import pyplot as plt\n",
    "from mpl_toolkits import mplot3d\n",
    "import seaborn as sns\n",
    "from kneed import KneeLocator\n",
    "%matplotlib inline"
   ]
  },
  {
   "cell_type": "code",
   "execution_count": 6,
   "metadata": {},
   "outputs": [
    {
     "name": "stdout",
     "output_type": "stream",
     "text": [
      "contrails1 time 0.06.csv has 1 clusters\n",
      "contrails1 time 0.07.csv has 6 clusters\n",
      "contrails1 time 0.08.csv has 34 clusters\n",
      "contrails1 time 0.09.csv has 17 clusters\n",
      "contrails1 time 0.1.csv has 6 clusters\n",
      "contrails1 time 0.11.csv has 6 clusters\n",
      "contrails1 time 0.12.csv has 2 clusters\n",
      "contrails1 time 0.13.csv has 3 clusters\n",
      "contrails1 time 0.14.csv has 5 clusters\n",
      "contrails1 time 0.15.csv has 4 clusters\n",
      "contrails1 time 0.16.csv has 5 clusters\n",
      "contrails1 time 0.17.csv has 3 clusters\n",
      "contrails1 time 0.18.csv has 4 clusters\n",
      "contrails1 time 0.19.csv has 4 clusters\n",
      "contrails1 time 0.2.csv has 6 clusters\n",
      "contrails2 time 0.06.csv has 1 clusters\n",
      "contrails2 time 0.07.csv has 4 clusters\n",
      "contrails2 time 0.08.csv has 33 clusters\n",
      "contrails2 time 0.09.csv has 8 clusters\n",
      "contrails2 time 0.1.csv has 5 clusters\n",
      "contrails2 time 0.11.csv has 8 clusters\n",
      "contrails2 time 0.12.csv has 5 clusters\n",
      "contrails2 time 0.13.csv has 3 clusters\n",
      "contrails2 time 0.14.csv has 2 clusters\n",
      "contrails2 time 0.15.csv has 2 clusters\n",
      "contrails2 time 0.16.csv has 6 clusters\n",
      "contrails2 time 0.17.csv has 3 clusters\n",
      "contrails2 time 0.18.csv has 6 clusters\n",
      "contrails2 time 0.19.csv has 6 clusters\n",
      "contrails2 time 0.2.csv has 4 clusters\n",
      "contrails3 time 0.06.csv has 1 clusters\n",
      "contrails3 time 0.07.csv has 14 clusters\n",
      "contrails3 time 0.08.csv has 38 clusters\n",
      "contrails3 time 0.09.csv has 10 clusters\n",
      "contrails3 time 0.1.csv has 6 clusters\n",
      "contrails3 time 0.11.csv has 4 clusters\n",
      "contrails3 time 0.12.csv has 4 clusters\n",
      "contrails3 time 0.13.csv has 4 clusters\n",
      "contrails3 time 0.14.csv has 3 clusters\n",
      "contrails3 time 0.15.csv has 5 clusters\n",
      "contrails3 time 0.16.csv has 4 clusters\n",
      "contrails3 time 0.17.csv has 3 clusters\n",
      "contrails3 time 0.18.csv has 4 clusters\n",
      "contrails3 time 0.19.csv has 3 clusters\n",
      "contrails3 time 0.2.csv has 4 clusters\n"
     ]
    }
   ],
   "source": [
    "\"\"\"calculating DBSCAN and exporting the data with and without the outliers\"\"\"\n",
    "def DBSCAN_Extractor():    \n",
    "    folders = [f for f in listdir(\"3Ddata/\")]\n",
    "    # print(folders)\n",
    "    for folder in folders:\n",
    "        onlyfiles = [f for f in listdir(\"3Ddata/{}\".format(folder)) ]\n",
    "    #     print(onlyfiles)\n",
    "        for file in onlyfiles:\n",
    "            path = \"3Ddata/{}/{}\".format(folder, file)\n",
    "            df = pd.read_csv(path)\n",
    "\n",
    "            icedf = df[df.iceLabel == 1]\n",
    "\n",
    "            clusterdf = icedf[['Points:0', 'Points:1', 'Points:2', 'd', 'T']]\n",
    "\n",
    "            data = clusterdf[[\"Points:0\",\"Points:1\",\"Points:2\"]].to_numpy()\n",
    "\n",
    "            minimumPoints = icedf.origId.value_counts().max()\n",
    "#             print(\"minimum points\", minimumPoints)\n",
    "#             minimumPoints = 38\n",
    "\n",
    "            neigh = NearestNeighbors(n_neighbors=3)\n",
    "            nbrs = neigh.fit(data)\n",
    "            distances, indices = nbrs.kneighbors(data)\n",
    "\n",
    "            distances = np.sort(distances, axis=0)\n",
    "            distances = distances[:,1]\n",
    "\n",
    "\n",
    "            kneedle = KneeLocator(range(1,len(distances)+1),  #x values\n",
    "                          distances, # y values\n",
    "                          S=1.0, #parameter suggested from paper\n",
    "                          curve=\"concave\", #parameter from figure\n",
    "                          direction=\"increasing\", #parameter from figure\n",
    "                          online=True\n",
    "                         ) \n",
    "            epsilon = kneedle.knee_y\n",
    "            \n",
    "#             print(\"epsilon\", epsilon)\n",
    "\n",
    "            m = DBSCAN(eps=epsilon, min_samples=minimumPoints)\n",
    "            m.fit(data)\n",
    "\n",
    "            clusters = m.labels_\n",
    "            clNum = len(set(m.labels_))\n",
    "\n",
    "            print(\"{} time {} has {} clusters\".format(folder, file, clNum))\n",
    "\n",
    "            result = icedf.copy()\n",
    "            result[\"cluster\"] = clusters\n",
    "            result = result.drop(columns=['Unnamed: 0'])\n",
    "            result = result.reset_index()\n",
    "            result = result.drop(columns=['index'])\n",
    "\n",
    "            result.to_csv('output/withOutliers/{}/{}'.format(folder, file), index=False)\n",
    "#             print(\"exported with outliers\")\n",
    "\n",
    "#             onlyClusters = list(range(clNum))\n",
    "\n",
    "#             withoutOutlier = result[result['cluster'].isin(onlyClusters)].copy()\n",
    "\n",
    "#             withoutOutlier.to_csv('output/withoutOutliers/{}/{}'.format(folder, file), index=False)\n",
    "#             print(\"exporter without outliers\")\n",
    "            \n",
    "DBSCAN_Extractor()"
   ]
  },
  {
   "cell_type": "code",
   "execution_count": 5,
   "metadata": {},
   "outputs": [
    {
     "ename": "NameError",
     "evalue": "name 'df' is not defined",
     "output_type": "error",
     "traceback": [
      "\u001b[1;31m---------------------------------------------------------------------------\u001b[0m",
      "\u001b[1;31mNameError\u001b[0m                                 Traceback (most recent call last)",
      "\u001b[1;32m~\\AppData\\Local\\Temp/ipykernel_22056/964094849.py\u001b[0m in \u001b[0;36m<module>\u001b[1;34m\u001b[0m\n\u001b[1;32m----> 1\u001b[1;33m \u001b[0mdf\u001b[0m\u001b[1;33m.\u001b[0m\u001b[0mhead\u001b[0m\u001b[1;33m(\u001b[0m\u001b[1;33m)\u001b[0m\u001b[1;33m\u001b[0m\u001b[1;33m\u001b[0m\u001b[0m\n\u001b[0m",
      "\u001b[1;31mNameError\u001b[0m: name 'df' is not defined"
     ]
    }
   ],
   "source": []
  },
  {
   "cell_type": "code",
   "execution_count": 4,
   "metadata": {},
   "outputs": [
    {
     "name": "stdout",
     "output_type": "stream",
     "text": [
      "['0.06.csv', '0.07.csv', '0.08.csv', '0.09.csv', '0.1.csv', '0.11.csv', '0.12.csv', '0.13.csv', '0.14.csv', '0.15.csv', '0.16.csv', '0.17.csv', '0.18.csv', '0.19.csv', '0.2.csv']\n",
      "\"0.07\":[2, 6]\n",
      "\"0.08\":[2, 34]\n",
      "\"0.09\":[2, 17]\n",
      "\"0.1\":[2, 6]\n",
      "\"0.11\":[2, 6]\n",
      "\"0.12\":[2, 2]\n",
      "\"0.13\":[2, 3]\n",
      "\"0.14\":[2, 5]\n",
      "\"0.15\":[2, 4]\n",
      "\"0.16\":[2, 5]\n",
      "\"0.17\":[2, 3]\n",
      "\"0.18\":[2, 4]\n",
      "\"0.19\":[2, 4]\n",
      "\"0.2\":[2, 6]\n",
      "['0.06.csv', '0.07.csv', '0.08.csv', '0.09.csv', '0.1.csv', '0.11.csv', '0.12.csv', '0.13.csv', '0.14.csv', '0.15.csv', '0.16.csv', '0.17.csv', '0.18.csv', '0.19.csv', '0.2.csv']\n",
      "\"0.07\":[2, 4]\n",
      "\"0.08\":[2, 33]\n",
      "\"0.09\":[2, 8]\n",
      "\"0.1\":[2, 5]\n",
      "\"0.11\":[2, 8]\n",
      "\"0.12\":[2, 5]\n",
      "\"0.13\":[2, 3]\n",
      "\"0.14\":[2, 2]\n",
      "\"0.15\":[2, 2]\n",
      "\"0.16\":[2, 6]\n",
      "\"0.17\":[2, 3]\n",
      "\"0.18\":[2, 6]\n",
      "\"0.19\":[2, 6]\n",
      "\"0.2\":[2, 4]\n",
      "['0.06.csv', '0.07.csv', '0.08.csv', '0.09.csv', '0.1.csv', '0.11.csv', '0.12.csv', '0.13.csv', '0.14.csv', '0.15.csv', '0.16.csv', '0.17.csv', '0.18.csv', '0.19.csv', '0.2.csv']\n",
      "\"0.07\":[2, 14]\n",
      "\"0.08\":[2, 38]\n",
      "\"0.09\":[2, 10]\n",
      "\"0.1\":[2, 6]\n",
      "\"0.11\":[2, 4]\n",
      "\"0.12\":[2, 4]\n",
      "\"0.13\":[2, 4]\n",
      "\"0.14\":[2, 3]\n",
      "\"0.15\":[2, 5]\n",
      "\"0.16\":[2, 4]\n",
      "\"0.17\":[2, 3]\n",
      "\"0.18\":[2, 4]\n",
      "\"0.19\":[2, 3]\n",
      "\"0.2\":[2, 4]\n"
     ]
    }
   ],
   "source": [
    "\"\"\"cleaning the without Outlier data \n",
    "set cluster label 0 to another cluster label\n",
    "to have the same cluster numbber\n",
    "0 will be 2\n",
    "1 will be 3 an so on\n",
    "\"\"\"\n",
    "\n",
    "def changeClusterGroup() :    \n",
    "    folders = [f for f in listdir(\"output/withoutOutliers/\")]\n",
    "    # print(folders)\n",
    "    for folder in folders:\n",
    "        onlyfiles = [f for f in listdir(\"output/withoutOutliers/{}\".format(folder)) ]\n",
    "        print(onlyfiles)\n",
    "        for file in onlyfiles:\n",
    "            name = file.replace(\".csv\",\"\")\n",
    "            \n",
    "            path = \"output/withoutOutliers/{}/{}\".format(folder, file)\n",
    "            df = pd.read_csv(path)\n",
    "            \n",
    "#             print(df.empty)\n",
    "\n",
    "#             print(df['cluster'].value_counts())\n",
    "            labels = sorted(df['cluster'].value_counts().index.tolist())\n",
    "#             print(labels)\n",
    "\n",
    "            newLabels = list(range(2, len(labels) + 2))\n",
    "#             print(newLabels)\n",
    "        \n",
    "            if(newLabels):\n",
    "                print('\"{}\":[{}, {}]'.format(name, newLabels[0], newLabels[len(newLabels) - 1]))\n",
    "    \n",
    "    \n",
    "            df['cluster'] = df['cluster'].replace(labels,newLabels)\n",
    "#             print(df['cluster'].value_counts())\n",
    "            \n",
    "#             df.to_csv('output/withoutOutliers/{}/{}'.format(folder, file), index=False)\n",
    "#             print(\"exporter without outliers\")\n",
    "            \n",
    "changeClusterGroup()"
   ]
  },
  {
   "cell_type": "code",
   "execution_count": null,
   "metadata": {},
   "outputs": [],
   "source": [
    "\"\"\"cleaning the with Outlier data \n",
    "set cluster label 0 and -1 to another cluster label\n",
    "-1 will be 1\n",
    "0 will be 2\n",
    "1 will be 3 and so on\n",
    "\"\"\"\n",
    "\n",
    "def changeClusterGroup() :    \n",
    "    folders = [f for f in listdir(\"output/withOutliers/\")]\n",
    "    # print(folders)\n",
    "    for folder in folders:\n",
    "        print(folder)\n",
    "        onlyfiles = [f for f in listdir(\"output/withOutliers/{}\".format(folder)) ]\n",
    "    #     print(onlyfiles)\n",
    "        for file in onlyfiles:\n",
    "#             print(file)\n",
    "            name = file.replace(\".csv\",\"\")\n",
    "#             print(name)\n",
    "            path = \"output/withOutliers/{}/{}\".format(folder, file)\n",
    "            df = pd.read_csv(path)\n",
    "            \n",
    "            df.head()\n",
    "            \n",
    "#             print(df.empty)\n",
    "\n",
    "#             print(df['cluster'].value_counts())\n",
    "\n",
    "            labels = sorted(df['cluster'].value_counts().index.tolist())\n",
    "    \n",
    "#             print(labels)\n",
    "\n",
    "            newLabels = list(range(1, len(labels) + 1))\n",
    "    \n",
    "#             print(newLabels)\n",
    "\n",
    "            print('\"{}\":[{}, {}]'.format(name, newLabels[0], newLabels[len(newLabels) - 1]))\n",
    "    \n",
    "            df['cluster'] = df['cluster'].replace(labels,newLabels)\n",
    "\n",
    "#             print(df['cluster'].value_counts())\n",
    "            \n",
    "#             df.to_csv('output/withOutliers/{}/{}'.format(folder, file), index=False)\n",
    "\n",
    "#             print(\"exporter with outliers\")\n",
    "            \n",
    "changeClusterGroup()"
   ]
  },
  {
   "cell_type": "code",
   "execution_count": null,
   "metadata": {},
   "outputs": [],
   "source": [
    "path = \"3Ddata/contrails1/0.2.csv\"\n",
    "\n",
    "# path = \"data/contrails1/0.2.csv\"\n",
    "df = pd.read_csv(path)\n",
    "\n",
    "icedf = df[df.iceLabel == 1]\n",
    "\n",
    "clusterdf = icedf[['Points:0', 'Points:1', 'Points:2', 'd', 'T']]\n",
    "\n",
    "icedf.head()"
   ]
  },
  {
   "cell_type": "code",
   "execution_count": null,
   "metadata": {},
   "outputs": [],
   "source": [
    "data = clusterdf[[\"Points:0\",\"Points:1\",\"Points:2\"]].to_numpy()\n",
    "\n",
    "# data = clusterdf[[\"d\", \"T\"]].to_numpy()\n",
    "%matplotlib notebook\n",
    "fig = plt.figure(figsize=(10,10))\n",
    "ax = plt.axes(projection='3d')\n",
    "ax.scatter3D(data[:,0], data[:,1], data[:,2], s=2.5)\n",
    "# ax.view_init(azim=200)\n",
    "plt.show()"
   ]
  },
  {
   "cell_type": "code",
   "execution_count": null,
   "metadata": {},
   "outputs": [],
   "source": [
    "minimumPoints = icedf.origId.value_counts().max()"
   ]
  },
  {
   "cell_type": "code",
   "execution_count": null,
   "metadata": {},
   "outputs": [],
   "source": [
    "scaler = preprocessing.StandardScaler().fit(data)\n",
    "data_scaled = scaler.transform(data)"
   ]
  },
  {
   "cell_type": "code",
   "execution_count": null,
   "metadata": {},
   "outputs": [],
   "source": [
    "neigh = NearestNeighbors(n_neighbors=3)\n",
    "nbrs = neigh.fit(data)\n",
    "distances, indices = nbrs.kneighbors(data)"
   ]
  },
  {
   "cell_type": "code",
   "execution_count": null,
   "metadata": {},
   "outputs": [],
   "source": [
    "distances = np.sort(distances, axis=0)\n",
    "distances = distances[:,1]\n",
    "print(len(distances))\n",
    "%matplotlib notebook\n",
    "plt.plot(distances)"
   ]
  },
  {
   "cell_type": "code",
   "execution_count": null,
   "metadata": {},
   "outputs": [],
   "source": [
    "kneedle = KneeLocator(range(1,len(distances)+1),  #x values\n",
    "                      distances, # y values\n",
    "                      S=1.0, #parameter suggested from paper\n",
    "                      curve=\"concave\", #parameter from figure\n",
    "                      direction=\"increasing\", #parameter from figure\n",
    "                      online=True\n",
    "                     ) \n",
    "\n",
    "kneedle.plot_knee()\n",
    "print(kneedle.knee_y)\n",
    "epsilon = kneedle.knee_y"
   ]
  },
  {
   "cell_type": "code",
   "execution_count": null,
   "metadata": {},
   "outputs": [],
   "source": [
    "m = DBSCAN(eps=epsilon, min_samples=minimumPoints)\n",
    "m.fit(data)"
   ]
  },
  {
   "cell_type": "code",
   "execution_count": null,
   "metadata": {},
   "outputs": [],
   "source": [
    "clusters = m.labels_\n",
    "print(\"number of cluster found: {}\".format(len(set(m.labels_))))\n",
    "print('cluster for each point: ', m.labels_)\n",
    "\n",
    "# for c in clusters:\n",
    "#     print(c)"
   ]
  },
  {
   "cell_type": "code",
   "execution_count": null,
   "metadata": {},
   "outputs": [],
   "source": [
    "# colors = ['royalblue', 'maroon', 'forestgreen', 'mediumorchid', 'tan', 'deeppink', 'olive', 'goldenrod', 'lightcyan', 'navy']\n",
    "colors = ['red', 'yellow', 'orange', 'green', 'blue', 'black']\n",
    "vectorizer = np.vectorize(lambda x: colors[x % len(colors)])"
   ]
  },
  {
   "cell_type": "code",
   "execution_count": null,
   "metadata": {},
   "outputs": [],
   "source": [
    "fig = plt.figure(figsize=(15,15))\n",
    "ax = plt.axes(projection='3d')\n",
    "ax.scatter3D(data[:,0], data[:,1], data[:,2], c=vectorizer(clusters), s=10)\n",
    "# ax.view_init(0)\n",
    "plt.show()"
   ]
  },
  {
   "cell_type": "code",
   "execution_count": null,
   "metadata": {},
   "outputs": [],
   "source": [
    "result = icedf.copy()\n",
    "result[\"cluster\"] = clusters\n",
    "result"
   ]
  },
  {
   "cell_type": "code",
   "execution_count": null,
   "metadata": {},
   "outputs": [],
   "source": [
    "result = result.drop(columns=['Unnamed: 0'])\n",
    "result = result.reset_index()\n",
    "result = result.drop(columns=['index'])"
   ]
  },
  {
   "cell_type": "code",
   "execution_count": null,
   "metadata": {},
   "outputs": [],
   "source": [
    "# result.to_csv('0.2_test.csv', index=False)"
   ]
  },
  {
   "cell_type": "code",
   "execution_count": null,
   "metadata": {},
   "outputs": [],
   "source": [
    "withoutOutlier = result[result['cluster'].isin([0,1,2,3,4])].copy()\n",
    "withoutOutlier['cluster'] = withoutOutlier['cluster'].replace([0],5)\n",
    "withoutOutlier.cluster.value_counts()"
   ]
  },
  {
   "cell_type": "code",
   "execution_count": null,
   "metadata": {},
   "outputs": [],
   "source": [
    "# withoutOutlier.to_csv('0.2_without_outlier.csv', index=False)"
   ]
  },
  {
   "cell_type": "code",
   "execution_count": null,
   "metadata": {},
   "outputs": [],
   "source": [
    "path = \"output/withoutOutliers/{}/{}\".format(\"contrails1\", \"0.2.csv\")\n",
    "df = pd.read_csv(path)\n",
    "            \n",
    "df.head()"
   ]
  },
  {
   "cell_type": "code",
   "execution_count": null,
   "metadata": {},
   "outputs": [],
   "source": [
    "labels = sorted(df['cluster'].value_counts().index.tolist())\n",
    "labels = [1*i for i in range(10)]\n",
    "labels"
   ]
  },
  {
   "cell_type": "code",
   "execution_count": null,
   "metadata": {},
   "outputs": [],
   "source": [
    "newLabels = list(range(2, len(labels) + 2))\n",
    "newLabels"
   ]
  },
  {
   "cell_type": "code",
   "execution_count": null,
   "metadata": {},
   "outputs": [],
   "source": [
    "folders = [f for f in listdir(\"3Ddata/\")]\n",
    "# print(folders)\n",
    "for folder in folders:\n",
    "    onlyfiles = [f for f in listdir(\"3Ddata/{}\".format(folder)) ]\n",
    "#     print(onlyfiles)\n",
    "    for file in onlyfiles:\n",
    "        path = \"3Ddata/{}/{}\".format(folder, file)\n",
    "        df = pd.read_csv(path)\n",
    "\n",
    "        icedf = df[df.iceLabel == 1]\n",
    "\n",
    "        clusterdf = icedf[['Points:0', 'Points:1', 'Points:2', 'd', 'T']]\n",
    "\n",
    "        data = clusterdf[[\"Points:0\",\"Points:1\",\"Points:2\"]].to_numpy()\n",
    "\n",
    "        minimumPoints = icedf.origId.value_counts().max()\n",
    "        print(\"minimum points\", minimumPoints)\n"
   ]
  },
  {
   "cell_type": "code",
   "execution_count": 15,
   "metadata": {},
   "outputs": [
    {
     "name": "stdout",
     "output_type": "stream",
     "text": [
      "contrails1 time 0.07.csv has 1 clusters\n",
      "contrails1 time 0.08.csv has 1 clusters\n",
      "contrails1 time 0.09.csv has 3 clusters\n",
      "contrails1 time 0.1.csv has 2 clusters\n",
      "contrails1 time 0.11.csv has 8 clusters\n",
      "contrails1 time 0.12.csv has 10 clusters\n",
      "contrails1 time 0.13.csv has 12 clusters\n",
      "contrails1 time 0.14.csv has 10 clusters\n",
      "contrails1 time 0.15.csv has 7 clusters\n",
      "contrails1 time 0.16.csv has 10 clusters\n",
      "contrails1 time 0.17.csv has 1 clusters\n",
      "contrails1 time 0.18.csv has 4 clusters\n",
      "contrails1 time 0.19.csv has 2 clusters\n",
      "contrails1 time 0.2.csv has 2 clusters\n"
     ]
    }
   ],
   "source": [
    "\"\"\"calculating DBSCAN and exporting the data with and without the outliers\"\"\"\n",
    "def DBSCAN_Extractor():    \n",
    "    folders = [f for f in listdir(\"data/\")]\n",
    "    # print(folders)\n",
    "    for folder in folders:\n",
    "        onlyfiles = [f for f in listdir(\"data/{}\".format(folder)) ]\n",
    "    #     print(onlyfiles)\n",
    "        for file in onlyfiles:\n",
    "            path = \"data/{}/{}\".format(folder, file)\n",
    "            df = pd.read_csv(path)\n",
    "\n",
    "            icedf = df[df.iceLabel == 1]\n",
    "\n",
    "            clusterdf = icedf[['Points:0', 'Points:1', 'Points:2']]\n",
    "\n",
    "            data = clusterdf[[\"Points:0\",\"Points:1\",\"Points:2\"]].to_numpy()\n",
    "\n",
    "#             minimumPoints = icedf.origId.value_counts().max()\n",
    "#             print(\"minimum points\", minimumPoints)\n",
    "#             minimumPoints = 38\n",
    "\n",
    "            if len(data) < 38 :\n",
    "                pass\n",
    "            else: \n",
    "                minimumPoints = 38\n",
    "\n",
    "                neigh = NearestNeighbors(n_neighbors=3)\n",
    "                nbrs = neigh.fit(data)\n",
    "                distances, indices = nbrs.kneighbors(data)\n",
    "\n",
    "                distances = np.sort(distances, axis=0)\n",
    "                distances = distances[:,1]\n",
    "\n",
    "\n",
    "                kneedle = KneeLocator(range(1,len(distances)+1),  #x values\n",
    "                              distances, # y values\n",
    "                              S=1.0, #parameter suggested from paper\n",
    "                              curve=\"concave\", #parameter from figure\n",
    "                              direction=\"increasing\", #parameter from figure\n",
    "                              online=True\n",
    "                             ) \n",
    "                epsilon = kneedle.knee_y\n",
    "\n",
    "                m = DBSCAN(eps=epsilon, min_samples=minimumPoints)\n",
    "                m.fit(data)\n",
    "\n",
    "                clusters = m.labels_\n",
    "                clNum = len(set(m.labels_))\n",
    "\n",
    "                print(\"{} time {} has {} clusters\".format(folder, file, clNum))\n",
    "\n",
    "#             result = icedf.copy()\n",
    "#             result[\"cluster\"] = clusters\n",
    "#             result = result.drop(columns=['Unnamed: 0'])\n",
    "#             result = result.reset_index()\n",
    "#             result = result.drop(columns=['index'])\n",
    "\n",
    "#             result.to_csv('output/withOutliers/{}/{}'.format(folder, file), index=False)\n",
    "#             print(\"exported with outliers\")\n",
    "\n",
    "#             onlyClusters = list(range(clNum))\n",
    "\n",
    "#             withoutOutlier = result[result['cluster'].isin(onlyClusters)].copy()\n",
    "\n",
    "#             withoutOutlier.to_csv('output/withoutOutliers/{}/{}'.format(folder, file), index=False)\n",
    "#             print(\"exporter without outliers\")\n",
    "            \n",
    "DBSCAN_Extractor()"
   ]
  }
 ],
 "metadata": {
  "kernelspec": {
   "display_name": "Python 3 (ipykernel)",
   "language": "python",
   "name": "python3"
  },
  "language_info": {
   "codemirror_mode": {
    "name": "ipython",
    "version": 3
   },
   "file_extension": ".py",
   "mimetype": "text/x-python",
   "name": "python",
   "nbconvert_exporter": "python",
   "pygments_lexer": "ipython3",
   "version": "3.7.9"
  }
 },
 "nbformat": 4,
 "nbformat_minor": 4
}
