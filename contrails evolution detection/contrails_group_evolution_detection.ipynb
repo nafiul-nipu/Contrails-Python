{
 "cells": [
  {
   "cell_type": "code",
   "execution_count": 20,
   "metadata": {},
   "outputs": [],
   "source": [
    "import pandas as pd\n",
    "import numpy as np\n",
    "from scipy.spatial import distance\n",
    "from os import listdir"
   ]
  },
  {
   "cell_type": "code",
   "execution_count": 21,
   "metadata": {},
   "outputs": [],
   "source": [
    "folders = [f for f in listdir(\"data/\")]\n",
    "# print(folders)\n",
    "for folder in folders:\n",
    "    onlyfiles = [f for f in listdir(\"data/{}\".format(folder)) ]\n",
    "#     onlyfiles = [\"0.06.csv\"]\n",
    "#     print(onlyfiles)\n",
    "    allNeighbors = {}\n",
    "    for file in onlyfiles:\n",
    "        path = \"data/{}/{}\".format(folder, file)\n",
    "        contrails = pd.read_csv(path)\n",
    "#         allNeighbors[file] = {}     \n",
    "        \n",
    "        # getting the ice particles\n",
    "        iceContrails = contrails[contrails.iceLabel == 1]\n",
    "\n",
    "        # saving the particle IDs to a numpy array\n",
    "        particleID = iceContrails['origId'].to_numpy()\n",
    "#         print(particleID)\n",
    "        \n",
    "\n",
    "        # creating the threeD points array from the data frame\n",
    "        particlePosition = iceContrails[[\"Points:0\",\"Points:1\",\"Points:2\"]].to_numpy()\n",
    "    #     len(particlePosition)\n",
    "\n",
    "        # calculate distance \n",
    "        dis = distance.squareform(distance.pdist(particlePosition))\n",
    "#         print(dis)\n",
    "\n",
    "        #  closest neighbors\n",
    "        neighbors = np.argsort(dis, axis=1)\n",
    "#         print(neighbors)\n",
    "\n",
    "        # create the contrails group that are closest (distance = 1)\n",
    "        contrailsGroup = {}\n",
    "\n",
    "        checkStack = []\n",
    "        \n",
    "        count = 0\n",
    "        for i in range(len(neighbors)):\n",
    "            if particleID[i] not in checkStack:  \n",
    "                checkStack.append(particleID[i])\n",
    "                contrailsGroup[count] = []\n",
    "                \n",
    "                for j in range(1, len(neighbors[i])):\n",
    "                    id = neighbors[i][j]\n",
    "                    if particleID[id] not in checkStack:\n",
    "#                         print(id)\n",
    "                #         print(dis[i][id])\n",
    "#                         if dis[i][id] == 0:\n",
    "#                             pass\n",
    "                        if dis[i][id] <= 1.1:\n",
    "                #             print(particleID[i], particleID[j])\n",
    "                            contrailsGroup[count].append(particleID[id])\n",
    "                            checkStack.append(particleID[id])\n",
    "                        else:\n",
    "                            break\n",
    "\n",
    "                count +=1\n",
    "        allNeighbors[file] = contrailsGroup\n",
    "        "
   ]
  },
  {
   "cell_type": "code",
   "execution_count": 22,
   "metadata": {},
   "outputs": [
    {
     "name": "stdout",
     "output_type": "stream",
     "text": [
      "0.06.csv dict_keys([0])\n",
      "0.07.csv dict_keys([0, 1, 2])\n",
      "0.08.csv dict_keys([0, 1, 2, 3, 4, 5, 6])\n",
      "0.09.csv dict_keys([0, 1, 2, 3, 4, 5, 6, 7])\n",
      "0.1.csv dict_keys([0, 1, 2, 3, 4, 5, 6, 7, 8, 9, 10])\n",
      "0.11.csv dict_keys([0, 1, 2, 3, 4, 5, 6, 7, 8, 9])\n",
      "0.12.csv dict_keys([0, 1, 2, 3, 4, 5, 6, 7, 8, 9])\n",
      "0.13.csv dict_keys([0, 1, 2, 3, 4, 5, 6, 7, 8, 9])\n",
      "0.14.csv dict_keys([0, 1, 2, 3, 4, 5, 6, 7, 8, 9])\n",
      "0.15.csv dict_keys([0, 1, 2, 3, 4, 5, 6, 7, 8, 9, 10, 11])\n",
      "0.16.csv dict_keys([0, 1, 2, 3, 4, 5, 6, 7, 8, 9, 10, 11])\n",
      "0.17.csv dict_keys([0, 1, 2, 3, 4, 5, 6, 7, 8, 9])\n",
      "0.18.csv dict_keys([0, 1, 2, 3, 4, 5, 6, 7, 8, 9, 10])\n",
      "0.19.csv dict_keys([0, 1, 2, 3, 4, 5, 6, 7, 8, 9, 10])\n",
      "0.2.csv dict_keys([0, 1, 2, 3, 4, 5, 6, 7, 8, 9])\n"
     ]
    }
   ],
   "source": [
    "keys = allNeighbors.keys()\n",
    "# print(keys)\n",
    "for key in keys:\n",
    "    timeKey = allNeighbors[key].keys()\n",
    "    print(key, timeKey)\n",
    "#     for k in timeKey:\n",
    "#         print(allNeighbors[key][k])\n",
    "# #         print(k)\n",
    "# #         print(\"{} = {} particles\".format(k, len(allNeighbors[key][k])))"
   ]
  },
  {
   "cell_type": "code",
   "execution_count": 23,
   "metadata": {},
   "outputs": [
    {
     "name": "stdout",
     "output_type": "stream",
     "text": [
      "0.06.csv - 0 ===== merged in to ===== 0.07.csv - 2\n",
      "0.08.csv - 2 ===== merged in to ===== 0.09.csv - 0\n",
      "0.1.csv - 2 ===== merged in to ===== 0.11.csv - 0\n",
      "0.1.csv - 10 ===== merged in to ===== 0.11.csv - 7\n",
      "0.12.csv - 1 ===== merged in to ===== 0.13.csv - 9\n",
      "0.14.csv - 1 ===== merged in to ===== 0.15.csv - 10\n",
      "0.15.csv - 2 ===== merged in to ===== 0.16.csv - 0\n",
      "0.16.csv - 1 ===== merged in to ===== 0.17.csv - 9\n",
      "0.16.csv - 2 ===== merged in to ===== 0.17.csv - 0\n",
      "0.17.csv - 1 ===== merged in to ===== 0.18.csv - 9\n",
      "0.18.csv - 10 ===== merged in to ===== 0.19.csv - 8\n"
     ]
    }
   ],
   "source": [
    "timesteps = list(allNeighbors.keys())\n",
    "# print(timesteps)\n",
    "cluster = {}\n",
    "for i in range(1, len(timesteps)):\n",
    "    childs = timesteps[i-1]\n",
    "    childKey = list(allNeighbors[childs].keys())\n",
    "#     print(childKey)\n",
    "    parents = timesteps[i]\n",
    "    parentKey = list(allNeighbors[parents].keys())\n",
    "#     print(parentKey)\n",
    "    for child in childKey:\n",
    "#         print(child)\n",
    "        for parent in parentKey:\n",
    "#             print(allNeighbors[timesteps[i-1]][child])\n",
    "            if set(allNeighbors[timesteps[i-1]][child]).issubset(allNeighbors[timesteps[i]][parent]) :\n",
    "#                 print(timesteps[i-1])\n",
    "                cluster['{} - {}'.format(timesteps[i-1], child)] = '{} - {}'.format(timesteps[i], parent)\n",
    "                break\n",
    "#             else:\n",
    "#                 print(timesteps[i-1])\n",
    "\n",
    "cl = cluster.keys()\n",
    "for c in cl:\n",
    "    print(\"{} ===== merged in to ===== {}\".format(c, cluster[c]))"
   ]
  }
 ],
 "metadata": {
  "kernelspec": {
   "display_name": "Python 3",
   "language": "python",
   "name": "python3"
  },
  "language_info": {
   "codemirror_mode": {
    "name": "ipython",
    "version": 3
   },
   "file_extension": ".py",
   "mimetype": "text/x-python",
   "name": "python",
   "nbconvert_exporter": "python",
   "pygments_lexer": "ipython3",
   "version": "3.7.9"
  }
 },
 "nbformat": 4,
 "nbformat_minor": 4
}
