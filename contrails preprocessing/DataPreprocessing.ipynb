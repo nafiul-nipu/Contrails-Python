{
 "cells": [
  {
   "cell_type": "code",
   "execution_count": 39,
   "metadata": {},
   "outputs": [],
   "source": [
    "import pandas as pd\n",
    "import matplotlib.pyplot as plt\n",
    "%matplotlib inline\n",
    "import glob\n",
    "import os\n",
    "import numpy as np"
   ]
  },
  {
   "cell_type": "code",
   "execution_count": 40,
   "metadata": {},
   "outputs": [],
   "source": [
    "iceCount = list()\n",
    "averageTemp = list()\n",
    "particleID = list()"
   ]
  },
  {
   "cell_type": "code",
   "execution_count": 41,
   "metadata": {},
   "outputs": [],
   "source": [
    "def createIceParticleID(data):\n",
    "#     print(data)\n",
    "    dataSortedByIce = data[data.iceLabel == 1]\n",
    "    particleID.append(list(dataSortedByIce.origId))"
   ]
  },
  {
   "cell_type": "code",
   "execution_count": 42,
   "metadata": {},
   "outputs": [],
   "source": [
    "path = 'contrails raw data/contrails 1/'\n",
    "for filename in glob.glob(os.path.join(path, '*.csv')):\n",
    "   with open(os.path.join(os.getcwd(), filename), 'r') as f: # open in readonly mode\n",
    "      # do your stuff\n",
    "        contrails = pd.read_csv(f)\n",
    "        createIceParticleID(contrails)\n",
    "        valueCountIce = list(contrails.iceLabel.value_counts())\n",
    "        averageTemp.append(round(contrails[\"T\"].mean(),2))\n",
    "        iceCount.append(valueCountIce)\n",
    "        "
   ]
  },
  {
   "cell_type": "code",
   "execution_count": 48,
   "metadata": {},
   "outputs": [
    {
     "name": "stdout",
     "output_type": "stream",
     "text": [
      "[3]\n"
     ]
    }
   ],
   "source": [
    "newIceParticles = list()\n",
    "# adding the first time steps\n",
    "newIceParticles.append(len(particleID[0]))\n",
    "print(newIceParticles)\n",
    "for i in range(0, len(particleID)-1):\n",
    "    count = 0\n",
    "    for j in range(0, len(particleID[i])):\n",
    "#         print(count)\n",
    "        if(particleID[i][j] in particleID[i+1]):\n",
    "            count = count + 1\n",
    "    newIceParticles.append(len(particleID[i+1]) - count)\n",
    "        "
   ]
  },
  {
   "cell_type": "code",
   "execution_count": 49,
   "metadata": {},
   "outputs": [
    {
     "data": {
      "text/plain": [
       "[3, 128, 373, 415, 414, 406, 425, 443, 427, 410, 432, 429, 434, 421, 405]"
      ]
     },
     "execution_count": 49,
     "metadata": {},
     "output_type": "execute_result"
    }
   ],
   "source": [
    "newIceParticles"
   ]
  },
  {
   "cell_type": "code",
   "execution_count": 4,
   "metadata": {},
   "outputs": [
    {
     "data": {
      "text/plain": [
       "[[421, 3],\n",
       " [718, 131],\n",
       " [770, 504],\n",
       " [918, 783],\n",
       " [1331, 794],\n",
       " [1402, 813],\n",
       " [1419, 808],\n",
       " [1431, 785],\n",
       " [1431, 784],\n",
       " [1399, 801],\n",
       " [1408, 796],\n",
       " [1419, 798],\n",
       " [1426, 791],\n",
       " [1436, 796],\n",
       " [1406, 815]]"
      ]
     },
     "execution_count": 4,
     "metadata": {},
     "output_type": "execute_result"
    }
   ],
   "source": [
    "iceCount"
   ]
  },
  {
   "cell_type": "code",
   "execution_count": 5,
   "metadata": {},
   "outputs": [
    {
     "data": {
      "text/plain": [
       "[596.57,\n",
       " 455.57,\n",
       " 385.02,\n",
       " 347.19,\n",
       " 322.4,\n",
       " 319.03,\n",
       " 317.41,\n",
       " 318.26,\n",
       " 318.98,\n",
       " 319.69,\n",
       " 319.52,\n",
       " 318.56,\n",
       " 319.31,\n",
       " 318.07,\n",
       " 317.84]"
      ]
     },
     "execution_count": 5,
     "metadata": {},
     "output_type": "execute_result"
    }
   ],
   "source": [
    "averageTemp"
   ]
  },
  {
   "cell_type": "code",
   "execution_count": 8,
   "metadata": {},
   "outputs": [
    {
     "data": {
      "text/plain": [
       "[0, 141, 71, 38, 25, 3, 2, -1, -1, -1, 0, 1, 0, 1, 0]"
      ]
     },
     "execution_count": 8,
     "metadata": {},
     "output_type": "execute_result"
    }
   ],
   "source": [
    "decreaseInTemp = [0]\n",
    "for i in range(1, len(averageTemp)):\n",
    "    decreaseInTemp.append(round(averageTemp[i-1]) - round(averageTemp[i]))\n",
    "    \n",
    "decreaseInTemp"
   ]
  },
  {
   "cell_type": "code",
   "execution_count": 50,
   "metadata": {},
   "outputs": [],
   "source": [
    "extractedData = pd.DataFrame(iceCount, columns=[\"noIce\",\"Ice\"])\n",
    "total = list()\n",
    "percentage = list()\n",
    "timesteps = np.round(np.arange(0.06,0.2,0.01),2).tolist()\n",
    "# timesteps\n",
    "for index, row in extractedData.iterrows():\n",
    "    sumParticle = row[\"noIce\"] + row[\"Ice\"]\n",
    "    total.append(round(sumParticle))\n",
    "    percentage.append(round((row[\"Ice\"]/sumParticle)*100,2))\n",
    "    \n",
    "extractedData.insert(0, \"Timesteps\", timesteps, True)\n",
    "extractedData.insert(1, \"Total\", total, True)\n",
    "extractedData[\"NewIce\"] = newIceParticles\n",
    "extractedData[\"Percentage\"] = percentage\n",
    "extractedData[\"Temp\"] = averageTemp\n"
   ]
  },
  {
   "cell_type": "code",
   "execution_count": 51,
   "metadata": {},
   "outputs": [
    {
     "data": {
      "text/html": [
       "<div>\n",
       "<style scoped>\n",
       "    .dataframe tbody tr th:only-of-type {\n",
       "        vertical-align: middle;\n",
       "    }\n",
       "\n",
       "    .dataframe tbody tr th {\n",
       "        vertical-align: top;\n",
       "    }\n",
       "\n",
       "    .dataframe thead th {\n",
       "        text-align: right;\n",
       "    }\n",
       "</style>\n",
       "<table border=\"1\" class=\"dataframe\">\n",
       "  <thead>\n",
       "    <tr style=\"text-align: right;\">\n",
       "      <th></th>\n",
       "      <th>Timesteps</th>\n",
       "      <th>Total</th>\n",
       "      <th>noIce</th>\n",
       "      <th>Ice</th>\n",
       "      <th>NewIce</th>\n",
       "      <th>Percentage</th>\n",
       "      <th>Temp</th>\n",
       "    </tr>\n",
       "  </thead>\n",
       "  <tbody>\n",
       "    <tr>\n",
       "      <th>0</th>\n",
       "      <td>0.06</td>\n",
       "      <td>424</td>\n",
       "      <td>421</td>\n",
       "      <td>3</td>\n",
       "      <td>3</td>\n",
       "      <td>0.71</td>\n",
       "      <td>596.57</td>\n",
       "    </tr>\n",
       "    <tr>\n",
       "      <th>1</th>\n",
       "      <td>0.07</td>\n",
       "      <td>849</td>\n",
       "      <td>718</td>\n",
       "      <td>131</td>\n",
       "      <td>128</td>\n",
       "      <td>15.43</td>\n",
       "      <td>455.57</td>\n",
       "    </tr>\n",
       "    <tr>\n",
       "      <th>2</th>\n",
       "      <td>0.08</td>\n",
       "      <td>1274</td>\n",
       "      <td>770</td>\n",
       "      <td>504</td>\n",
       "      <td>373</td>\n",
       "      <td>39.56</td>\n",
       "      <td>385.02</td>\n",
       "    </tr>\n",
       "    <tr>\n",
       "      <th>3</th>\n",
       "      <td>0.09</td>\n",
       "      <td>1701</td>\n",
       "      <td>918</td>\n",
       "      <td>783</td>\n",
       "      <td>415</td>\n",
       "      <td>46.03</td>\n",
       "      <td>347.19</td>\n",
       "    </tr>\n",
       "    <tr>\n",
       "      <th>4</th>\n",
       "      <td>0.10</td>\n",
       "      <td>2125</td>\n",
       "      <td>1331</td>\n",
       "      <td>794</td>\n",
       "      <td>414</td>\n",
       "      <td>37.36</td>\n",
       "      <td>322.40</td>\n",
       "    </tr>\n",
       "    <tr>\n",
       "      <th>5</th>\n",
       "      <td>0.11</td>\n",
       "      <td>2215</td>\n",
       "      <td>1402</td>\n",
       "      <td>813</td>\n",
       "      <td>406</td>\n",
       "      <td>36.70</td>\n",
       "      <td>319.03</td>\n",
       "    </tr>\n",
       "    <tr>\n",
       "      <th>6</th>\n",
       "      <td>0.12</td>\n",
       "      <td>2227</td>\n",
       "      <td>1419</td>\n",
       "      <td>808</td>\n",
       "      <td>425</td>\n",
       "      <td>36.28</td>\n",
       "      <td>317.41</td>\n",
       "    </tr>\n",
       "    <tr>\n",
       "      <th>7</th>\n",
       "      <td>0.13</td>\n",
       "      <td>2216</td>\n",
       "      <td>1431</td>\n",
       "      <td>785</td>\n",
       "      <td>443</td>\n",
       "      <td>35.42</td>\n",
       "      <td>318.26</td>\n",
       "    </tr>\n",
       "    <tr>\n",
       "      <th>8</th>\n",
       "      <td>0.14</td>\n",
       "      <td>2215</td>\n",
       "      <td>1431</td>\n",
       "      <td>784</td>\n",
       "      <td>427</td>\n",
       "      <td>35.40</td>\n",
       "      <td>318.98</td>\n",
       "    </tr>\n",
       "    <tr>\n",
       "      <th>9</th>\n",
       "      <td>0.15</td>\n",
       "      <td>2200</td>\n",
       "      <td>1399</td>\n",
       "      <td>801</td>\n",
       "      <td>410</td>\n",
       "      <td>36.41</td>\n",
       "      <td>319.69</td>\n",
       "    </tr>\n",
       "    <tr>\n",
       "      <th>10</th>\n",
       "      <td>0.16</td>\n",
       "      <td>2204</td>\n",
       "      <td>1408</td>\n",
       "      <td>796</td>\n",
       "      <td>432</td>\n",
       "      <td>36.12</td>\n",
       "      <td>319.52</td>\n",
       "    </tr>\n",
       "    <tr>\n",
       "      <th>11</th>\n",
       "      <td>0.17</td>\n",
       "      <td>2217</td>\n",
       "      <td>1419</td>\n",
       "      <td>798</td>\n",
       "      <td>429</td>\n",
       "      <td>35.99</td>\n",
       "      <td>318.56</td>\n",
       "    </tr>\n",
       "    <tr>\n",
       "      <th>12</th>\n",
       "      <td>0.18</td>\n",
       "      <td>2217</td>\n",
       "      <td>1426</td>\n",
       "      <td>791</td>\n",
       "      <td>434</td>\n",
       "      <td>35.68</td>\n",
       "      <td>319.31</td>\n",
       "    </tr>\n",
       "    <tr>\n",
       "      <th>13</th>\n",
       "      <td>0.19</td>\n",
       "      <td>2232</td>\n",
       "      <td>1436</td>\n",
       "      <td>796</td>\n",
       "      <td>421</td>\n",
       "      <td>35.66</td>\n",
       "      <td>318.07</td>\n",
       "    </tr>\n",
       "    <tr>\n",
       "      <th>14</th>\n",
       "      <td>0.20</td>\n",
       "      <td>2221</td>\n",
       "      <td>1406</td>\n",
       "      <td>815</td>\n",
       "      <td>405</td>\n",
       "      <td>36.70</td>\n",
       "      <td>317.84</td>\n",
       "    </tr>\n",
       "  </tbody>\n",
       "</table>\n",
       "</div>"
      ],
      "text/plain": [
       "    Timesteps  Total  noIce  Ice  NewIce  Percentage    Temp\n",
       "0        0.06    424    421    3       3        0.71  596.57\n",
       "1        0.07    849    718  131     128       15.43  455.57\n",
       "2        0.08   1274    770  504     373       39.56  385.02\n",
       "3        0.09   1701    918  783     415       46.03  347.19\n",
       "4        0.10   2125   1331  794     414       37.36  322.40\n",
       "5        0.11   2215   1402  813     406       36.70  319.03\n",
       "6        0.12   2227   1419  808     425       36.28  317.41\n",
       "7        0.13   2216   1431  785     443       35.42  318.26\n",
       "8        0.14   2215   1431  784     427       35.40  318.98\n",
       "9        0.15   2200   1399  801     410       36.41  319.69\n",
       "10       0.16   2204   1408  796     432       36.12  319.52\n",
       "11       0.17   2217   1419  798     429       35.99  318.56\n",
       "12       0.18   2217   1426  791     434       35.68  319.31\n",
       "13       0.19   2232   1436  796     421       35.66  318.07\n",
       "14       0.20   2221   1406  815     405       36.70  317.84"
      ]
     },
     "execution_count": 51,
     "metadata": {},
     "output_type": "execute_result"
    }
   ],
   "source": [
    "extractedData"
   ]
  },
  {
   "cell_type": "code",
   "execution_count": 216,
   "metadata": {},
   "outputs": [],
   "source": [
    "extractedData.to_csv ('Extracted Data/contrails 1.csv', index = False, header=True)"
   ]
  },
  {
   "cell_type": "code",
   "execution_count": null,
   "metadata": {},
   "outputs": [],
   "source": []
  }
 ],
 "metadata": {
  "kernelspec": {
   "display_name": "Python 3",
   "language": "python",
   "name": "python3"
  },
  "language_info": {
   "codemirror_mode": {
    "name": "ipython",
    "version": 3
   },
   "file_extension": ".py",
   "mimetype": "text/x-python",
   "name": "python",
   "nbconvert_exporter": "python",
   "pygments_lexer": "ipython3",
   "version": "3.7.9"
  }
 },
 "nbformat": 4,
 "nbformat_minor": 4
}
