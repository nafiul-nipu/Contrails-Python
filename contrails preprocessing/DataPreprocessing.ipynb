{
 "cells": [
  {
   "cell_type": "code",
   "execution_count": 58,
   "metadata": {},
   "outputs": [],
   "source": [
    "import pandas as pd\n",
    "import matplotlib.pyplot as plt\n",
    "%matplotlib inline\n",
    "import glob\n",
    "import os\n",
    "import numpy as np"
   ]
  },
  {
   "cell_type": "code",
   "execution_count": 59,
   "metadata": {},
   "outputs": [],
   "source": [
    "iceCount = list()\n",
    "averageTemp = list()\n",
    "particleID = list()"
   ]
  },
  {
   "cell_type": "code",
   "execution_count": 60,
   "metadata": {},
   "outputs": [],
   "source": [
    "def createIceParticleID(data):\n",
    "#     print(data)\n",
    "    dataSortedByIce = data[data.iceLabel == 1]\n",
    "    particleID.append(list(dataSortedByIce.origId))"
   ]
  },
  {
   "cell_type": "code",
   "execution_count": 61,
   "metadata": {},
   "outputs": [],
   "source": [
    "path = 'contrails raw data/contrails 3/'\n",
    "for filename in glob.glob(os.path.join(path, '*.csv')):\n",
    "   with open(os.path.join(os.getcwd(), filename), 'r') as f: # open in readonly mode\n",
    "      # do your stuff\n",
    "        contrails = pd.read_csv(f)\n",
    "        createIceParticleID(contrails)\n",
    "        valueCountIce = list(contrails.iceLabel.value_counts())\n",
    "        averageTemp.append(round(contrails[\"T\"].mean(),2))\n",
    "        iceCount.append(valueCountIce)\n",
    "        "
   ]
  },
  {
   "cell_type": "code",
   "execution_count": 62,
   "metadata": {},
   "outputs": [
    {
     "name": "stdout",
     "output_type": "stream",
     "text": [
      "[5]\n"
     ]
    }
   ],
   "source": [
    "newIceParticles = list()\n",
    "# adding the first time steps\n",
    "newIceParticles.append(len(particleID[0]))\n",
    "print(newIceParticles)\n",
    "for i in range(0, len(particleID)-1):\n",
    "    count = 0\n",
    "    for j in range(0, len(particleID[i])):\n",
    "#         print(count)\n",
    "        if(particleID[i][j] in particleID[i+1]):\n",
    "            count = count + 1\n",
    "    newIceParticles.append(len(particleID[i+1]) - count)\n",
    "        "
   ]
  },
  {
   "cell_type": "code",
   "execution_count": 63,
   "metadata": {},
   "outputs": [
    {
     "data": {
      "text/plain": [
       "[5, 149, 405, 403, 424, 413, 442, 427, 391, 436, 444, 427, 424, 446, 390]"
      ]
     },
     "execution_count": 63,
     "metadata": {},
     "output_type": "execute_result"
    }
   ],
   "source": [
    "newIceParticles"
   ]
  },
  {
   "cell_type": "code",
   "execution_count": 64,
   "metadata": {},
   "outputs": [
    {
     "data": {
      "text/plain": [
       "[[419, 5],\n",
       " [695, 154],\n",
       " [715, 559],\n",
       " [961, 740],\n",
       " [1384, 741],\n",
       " [1465, 752],\n",
       " [1481, 730],\n",
       " [1483, 727],\n",
       " [1441, 761],\n",
       " [1452, 755],\n",
       " [1463, 738],\n",
       " [1460, 746],\n",
       " [1482, 749],\n",
       " [1499, 730],\n",
       " [1456, 762]]"
      ]
     },
     "execution_count": 64,
     "metadata": {},
     "output_type": "execute_result"
    }
   ],
   "source": [
    "iceCount"
   ]
  },
  {
   "cell_type": "code",
   "execution_count": 65,
   "metadata": {},
   "outputs": [
    {
     "data": {
      "text/plain": [
       "[601.78,\n",
       " 456.71,\n",
       " 385.37,\n",
       " 348.25,\n",
       " 323.24,\n",
       " 318.09,\n",
       " 317.22,\n",
       " 318.84,\n",
       " 319.95,\n",
       " 320.23,\n",
       " 318.31,\n",
       " 319.69,\n",
       " 318.65,\n",
       " 318.17,\n",
       " 318.81]"
      ]
     },
     "execution_count": 65,
     "metadata": {},
     "output_type": "execute_result"
    }
   ],
   "source": [
    "averageTemp"
   ]
  },
  {
   "cell_type": "code",
   "execution_count": 66,
   "metadata": {},
   "outputs": [
    {
     "data": {
      "text/plain": [
       "[0, 145, 72, 37, 25, 5, 1, -2, -1, 0, 2, -2, 1, 1, -1]"
      ]
     },
     "execution_count": 66,
     "metadata": {},
     "output_type": "execute_result"
    }
   ],
   "source": [
    "decreaseInTemp = [0]\n",
    "for i in range(1, len(averageTemp)):\n",
    "    decreaseInTemp.append(round(averageTemp[i-1]) - round(averageTemp[i]))\n",
    "    \n",
    "decreaseInTemp"
   ]
  },
  {
   "cell_type": "code",
   "execution_count": 67,
   "metadata": {},
   "outputs": [],
   "source": [
    "extractedData = pd.DataFrame(iceCount, columns=[\"noIce\",\"Ice\"])\n",
    "total = list()\n",
    "percentage = list()\n",
    "timesteps = np.round(np.arange(0.06,0.2,0.01),2).tolist()\n",
    "# timesteps\n",
    "for index, row in extractedData.iterrows():\n",
    "    sumParticle = row[\"noIce\"] + row[\"Ice\"]\n",
    "    total.append(round(sumParticle))\n",
    "    percentage.append(round((row[\"Ice\"]/sumParticle)*100,2))\n",
    "    \n",
    "extractedData.insert(0, \"Timesteps\", timesteps, True)\n",
    "extractedData.insert(1, \"TotalParticles\", total, True)\n",
    "extractedData[\"NewIce\"] = newIceParticles\n",
    "extractedData[\"TotalIcePercentage\"] = percentage\n",
    "extractedData[\"Temp\"] = averageTemp\n"
   ]
  },
  {
   "cell_type": "code",
   "execution_count": 68,
   "metadata": {},
   "outputs": [],
   "source": [
    "remainingIceParticles = list()\n",
    "newIcePercentage = list()\n",
    "remainingIceParticles.append(total[0])\n",
    "newIcePercentage.append(round((iceCount[0][1]/total[0])*100,2))\n",
    "for t in range(1, len(total)):\n",
    "    temp = total[t] - iceCount[t-1][1]\n",
    "    remainingIceParticles.append(temp)\n",
    "    newIcePercentage.append(round((newIceParticles[t]/temp)*100,2))\n",
    "    \n",
    "\n",
    "extractedData[\"TotalNonIce\"] = remainingIceParticles\n",
    "extractedData[\"newIcePercentage\"] = newIcePercentage\n"
   ]
  },
  {
   "cell_type": "code",
   "execution_count": 69,
   "metadata": {},
   "outputs": [
    {
     "data": {
      "text/html": [
       "<div>\n",
       "<style scoped>\n",
       "    .dataframe tbody tr th:only-of-type {\n",
       "        vertical-align: middle;\n",
       "    }\n",
       "\n",
       "    .dataframe tbody tr th {\n",
       "        vertical-align: top;\n",
       "    }\n",
       "\n",
       "    .dataframe thead th {\n",
       "        text-align: right;\n",
       "    }\n",
       "</style>\n",
       "<table border=\"1\" class=\"dataframe\">\n",
       "  <thead>\n",
       "    <tr style=\"text-align: right;\">\n",
       "      <th></th>\n",
       "      <th>Timesteps</th>\n",
       "      <th>TotalParticles</th>\n",
       "      <th>noIce</th>\n",
       "      <th>Ice</th>\n",
       "      <th>NewIce</th>\n",
       "      <th>TotalIcePercentage</th>\n",
       "      <th>Temp</th>\n",
       "      <th>TotalNonIce</th>\n",
       "      <th>newIcePercentage</th>\n",
       "    </tr>\n",
       "  </thead>\n",
       "  <tbody>\n",
       "    <tr>\n",
       "      <th>0</th>\n",
       "      <td>0.06</td>\n",
       "      <td>424</td>\n",
       "      <td>419</td>\n",
       "      <td>5</td>\n",
       "      <td>5</td>\n",
       "      <td>1.18</td>\n",
       "      <td>601.78</td>\n",
       "      <td>424</td>\n",
       "      <td>1.18</td>\n",
       "    </tr>\n",
       "    <tr>\n",
       "      <th>1</th>\n",
       "      <td>0.07</td>\n",
       "      <td>849</td>\n",
       "      <td>695</td>\n",
       "      <td>154</td>\n",
       "      <td>149</td>\n",
       "      <td>18.14</td>\n",
       "      <td>456.71</td>\n",
       "      <td>844</td>\n",
       "      <td>17.65</td>\n",
       "    </tr>\n",
       "    <tr>\n",
       "      <th>2</th>\n",
       "      <td>0.08</td>\n",
       "      <td>1274</td>\n",
       "      <td>715</td>\n",
       "      <td>559</td>\n",
       "      <td>405</td>\n",
       "      <td>43.88</td>\n",
       "      <td>385.37</td>\n",
       "      <td>1120</td>\n",
       "      <td>36.16</td>\n",
       "    </tr>\n",
       "    <tr>\n",
       "      <th>3</th>\n",
       "      <td>0.09</td>\n",
       "      <td>1701</td>\n",
       "      <td>961</td>\n",
       "      <td>740</td>\n",
       "      <td>403</td>\n",
       "      <td>43.50</td>\n",
       "      <td>348.25</td>\n",
       "      <td>1142</td>\n",
       "      <td>35.29</td>\n",
       "    </tr>\n",
       "    <tr>\n",
       "      <th>4</th>\n",
       "      <td>0.10</td>\n",
       "      <td>2125</td>\n",
       "      <td>1384</td>\n",
       "      <td>741</td>\n",
       "      <td>424</td>\n",
       "      <td>34.87</td>\n",
       "      <td>323.24</td>\n",
       "      <td>1385</td>\n",
       "      <td>30.61</td>\n",
       "    </tr>\n",
       "    <tr>\n",
       "      <th>5</th>\n",
       "      <td>0.11</td>\n",
       "      <td>2217</td>\n",
       "      <td>1465</td>\n",
       "      <td>752</td>\n",
       "      <td>413</td>\n",
       "      <td>33.92</td>\n",
       "      <td>318.09</td>\n",
       "      <td>1476</td>\n",
       "      <td>27.98</td>\n",
       "    </tr>\n",
       "    <tr>\n",
       "      <th>6</th>\n",
       "      <td>0.12</td>\n",
       "      <td>2211</td>\n",
       "      <td>1481</td>\n",
       "      <td>730</td>\n",
       "      <td>442</td>\n",
       "      <td>33.02</td>\n",
       "      <td>317.22</td>\n",
       "      <td>1459</td>\n",
       "      <td>30.29</td>\n",
       "    </tr>\n",
       "    <tr>\n",
       "      <th>7</th>\n",
       "      <td>0.13</td>\n",
       "      <td>2210</td>\n",
       "      <td>1483</td>\n",
       "      <td>727</td>\n",
       "      <td>427</td>\n",
       "      <td>32.90</td>\n",
       "      <td>318.84</td>\n",
       "      <td>1480</td>\n",
       "      <td>28.85</td>\n",
       "    </tr>\n",
       "    <tr>\n",
       "      <th>8</th>\n",
       "      <td>0.14</td>\n",
       "      <td>2202</td>\n",
       "      <td>1441</td>\n",
       "      <td>761</td>\n",
       "      <td>391</td>\n",
       "      <td>34.56</td>\n",
       "      <td>319.95</td>\n",
       "      <td>1475</td>\n",
       "      <td>26.51</td>\n",
       "    </tr>\n",
       "    <tr>\n",
       "      <th>9</th>\n",
       "      <td>0.15</td>\n",
       "      <td>2207</td>\n",
       "      <td>1452</td>\n",
       "      <td>755</td>\n",
       "      <td>436</td>\n",
       "      <td>34.21</td>\n",
       "      <td>320.23</td>\n",
       "      <td>1446</td>\n",
       "      <td>30.15</td>\n",
       "    </tr>\n",
       "    <tr>\n",
       "      <th>10</th>\n",
       "      <td>0.16</td>\n",
       "      <td>2201</td>\n",
       "      <td>1463</td>\n",
       "      <td>738</td>\n",
       "      <td>444</td>\n",
       "      <td>33.53</td>\n",
       "      <td>318.31</td>\n",
       "      <td>1446</td>\n",
       "      <td>30.71</td>\n",
       "    </tr>\n",
       "    <tr>\n",
       "      <th>11</th>\n",
       "      <td>0.17</td>\n",
       "      <td>2206</td>\n",
       "      <td>1460</td>\n",
       "      <td>746</td>\n",
       "      <td>427</td>\n",
       "      <td>33.82</td>\n",
       "      <td>319.69</td>\n",
       "      <td>1468</td>\n",
       "      <td>29.09</td>\n",
       "    </tr>\n",
       "    <tr>\n",
       "      <th>12</th>\n",
       "      <td>0.18</td>\n",
       "      <td>2231</td>\n",
       "      <td>1482</td>\n",
       "      <td>749</td>\n",
       "      <td>424</td>\n",
       "      <td>33.57</td>\n",
       "      <td>318.65</td>\n",
       "      <td>1485</td>\n",
       "      <td>28.55</td>\n",
       "    </tr>\n",
       "    <tr>\n",
       "      <th>13</th>\n",
       "      <td>0.19</td>\n",
       "      <td>2229</td>\n",
       "      <td>1499</td>\n",
       "      <td>730</td>\n",
       "      <td>446</td>\n",
       "      <td>32.75</td>\n",
       "      <td>318.17</td>\n",
       "      <td>1480</td>\n",
       "      <td>30.14</td>\n",
       "    </tr>\n",
       "    <tr>\n",
       "      <th>14</th>\n",
       "      <td>0.20</td>\n",
       "      <td>2218</td>\n",
       "      <td>1456</td>\n",
       "      <td>762</td>\n",
       "      <td>390</td>\n",
       "      <td>34.36</td>\n",
       "      <td>318.81</td>\n",
       "      <td>1488</td>\n",
       "      <td>26.21</td>\n",
       "    </tr>\n",
       "  </tbody>\n",
       "</table>\n",
       "</div>"
      ],
      "text/plain": [
       "    Timesteps  TotalParticles  noIce  Ice  NewIce  TotalIcePercentage    Temp  \\\n",
       "0        0.06             424    419    5       5                1.18  601.78   \n",
       "1        0.07             849    695  154     149               18.14  456.71   \n",
       "2        0.08            1274    715  559     405               43.88  385.37   \n",
       "3        0.09            1701    961  740     403               43.50  348.25   \n",
       "4        0.10            2125   1384  741     424               34.87  323.24   \n",
       "5        0.11            2217   1465  752     413               33.92  318.09   \n",
       "6        0.12            2211   1481  730     442               33.02  317.22   \n",
       "7        0.13            2210   1483  727     427               32.90  318.84   \n",
       "8        0.14            2202   1441  761     391               34.56  319.95   \n",
       "9        0.15            2207   1452  755     436               34.21  320.23   \n",
       "10       0.16            2201   1463  738     444               33.53  318.31   \n",
       "11       0.17            2206   1460  746     427               33.82  319.69   \n",
       "12       0.18            2231   1482  749     424               33.57  318.65   \n",
       "13       0.19            2229   1499  730     446               32.75  318.17   \n",
       "14       0.20            2218   1456  762     390               34.36  318.81   \n",
       "\n",
       "    TotalNonIce  newIcePercentage  \n",
       "0           424              1.18  \n",
       "1           844             17.65  \n",
       "2          1120             36.16  \n",
       "3          1142             35.29  \n",
       "4          1385             30.61  \n",
       "5          1476             27.98  \n",
       "6          1459             30.29  \n",
       "7          1480             28.85  \n",
       "8          1475             26.51  \n",
       "9          1446             30.15  \n",
       "10         1446             30.71  \n",
       "11         1468             29.09  \n",
       "12         1485             28.55  \n",
       "13         1480             30.14  \n",
       "14         1488             26.21  "
      ]
     },
     "execution_count": 69,
     "metadata": {},
     "output_type": "execute_result"
    }
   ],
   "source": [
    " \n",
    "extractedData"
   ]
  },
  {
   "cell_type": "code",
   "execution_count": 70,
   "metadata": {},
   "outputs": [],
   "source": [
    "extractedData.to_csv ('Extracted Data/contrails 3.csv', index = False, header=True)"
   ]
  },
  {
   "cell_type": "code",
   "execution_count": null,
   "metadata": {},
   "outputs": [],
   "source": []
  }
 ],
 "metadata": {
  "kernelspec": {
   "display_name": "Python 3",
   "language": "python",
   "name": "python3"
  },
  "language_info": {
   "codemirror_mode": {
    "name": "ipython",
    "version": 3
   },
   "file_extension": ".py",
   "mimetype": "text/x-python",
   "name": "python",
   "nbconvert_exporter": "python",
   "pygments_lexer": "ipython3",
   "version": "3.7.9"
  }
 },
 "nbformat": 4,
 "nbformat_minor": 4
}
