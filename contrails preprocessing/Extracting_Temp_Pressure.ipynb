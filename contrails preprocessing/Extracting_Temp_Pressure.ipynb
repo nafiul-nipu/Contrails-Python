{
 "cells": [
  {
   "cell_type": "code",
   "execution_count": 6,
   "metadata": {},
   "outputs": [],
   "source": [
    "import pandas as pd\n",
    "import numpy as np\n",
    "from os import listdir"
   ]
  },
  {
   "cell_type": "code",
   "execution_count": 7,
   "metadata": {},
   "outputs": [
    {
     "data": {
      "text/plain": [
       "['0.1025',\n",
       " '0.105',\n",
       " '0.1075',\n",
       " '0.11',\n",
       " '0.1125',\n",
       " '0.115',\n",
       " '0.1175',\n",
       " '0.12',\n",
       " '0.1225',\n",
       " '0.125',\n",
       " '0.1275',\n",
       " '0.13',\n",
       " '0.1325',\n",
       " '0.135',\n",
       " '0.1375',\n",
       " '0.14',\n",
       " '0.1425',\n",
       " '0.145',\n",
       " '0.1475',\n",
       " '0.15']"
      ]
     },
     "execution_count": 7,
     "metadata": {},
     "output_type": "execute_result"
    }
   ],
   "source": [
    "onlyfiles = [f for f in listdir(\"noCone\") ]\n",
    "onlyfiles"
   ]
  },
  {
   "cell_type": "code",
   "execution_count": 8,
   "metadata": {},
   "outputs": [],
   "source": [
    "temp = list()\n",
    "pressure = list()"
   ]
  },
  {
   "cell_type": "code",
   "execution_count": 9,
   "metadata": {},
   "outputs": [],
   "source": [
    "for index in range(len(onlyfiles)):\n",
    "    path=\"noCone/{}/lagrangian/reactingCloud1/T\".format(onlyfiles[index])\n",
    "    with open(path, 'r') as file:\n",
    "        for line in file.readlines():\n",
    "            num = float(line.strip('\\n'))\n",
    "            temp.append(num)"
   ]
  },
  {
   "cell_type": "code",
   "execution_count": 10,
   "metadata": {},
   "outputs": [],
   "source": [
    "for index in range(len(onlyfiles)):\n",
    "    path=\"noCone/{}/lagrangian/reactingCloud1/pressure\".format(onlyfiles[index])\n",
    "    with open(path, 'r') as file:\n",
    "        for line in file.readlines():\n",
    "            num = float(line.strip('\\n'))\n",
    "            pressure.append(num)"
   ]
  },
  {
   "cell_type": "code",
   "execution_count": 11,
   "metadata": {},
   "outputs": [
    {
     "data": {
      "text/plain": [
       "17772"
      ]
     },
     "execution_count": 11,
     "metadata": {},
     "output_type": "execute_result"
    }
   ],
   "source": [
    "len(temp)"
   ]
  },
  {
   "cell_type": "code",
   "execution_count": 12,
   "metadata": {},
   "outputs": [
    {
     "data": {
      "text/plain": [
       "17772"
      ]
     },
     "execution_count": 12,
     "metadata": {},
     "output_type": "execute_result"
    }
   ],
   "source": [
    "len(pressure)"
   ]
  },
  {
   "cell_type": "code",
   "execution_count": 13,
   "metadata": {},
   "outputs": [
    {
     "data": {
      "text/html": [
       "<div>\n",
       "<style scoped>\n",
       "    .dataframe tbody tr th:only-of-type {\n",
       "        vertical-align: middle;\n",
       "    }\n",
       "\n",
       "    .dataframe tbody tr th {\n",
       "        vertical-align: top;\n",
       "    }\n",
       "\n",
       "    .dataframe thead th {\n",
       "        text-align: right;\n",
       "    }\n",
       "</style>\n",
       "<table border=\"1\" class=\"dataframe\">\n",
       "  <thead>\n",
       "    <tr style=\"text-align: right;\">\n",
       "      <th></th>\n",
       "      <th>temperature</th>\n",
       "      <th>pressure</th>\n",
       "    </tr>\n",
       "  </thead>\n",
       "  <tbody>\n",
       "    <tr>\n",
       "      <th>0</th>\n",
       "      <td>591.623</td>\n",
       "      <td>587.508</td>\n",
       "    </tr>\n",
       "    <tr>\n",
       "      <th>1</th>\n",
       "      <td>594.147</td>\n",
       "      <td>600.042</td>\n",
       "    </tr>\n",
       "    <tr>\n",
       "      <th>2</th>\n",
       "      <td>591.706</td>\n",
       "      <td>595.010</td>\n",
       "    </tr>\n",
       "    <tr>\n",
       "      <th>3</th>\n",
       "      <td>591.136</td>\n",
       "      <td>593.030</td>\n",
       "    </tr>\n",
       "    <tr>\n",
       "      <th>4</th>\n",
       "      <td>591.336</td>\n",
       "      <td>593.731</td>\n",
       "    </tr>\n",
       "  </tbody>\n",
       "</table>\n",
       "</div>"
      ],
      "text/plain": [
       "   temperature  pressure\n",
       "0      591.623   587.508\n",
       "1      594.147   600.042\n",
       "2      591.706   595.010\n",
       "3      591.136   593.030\n",
       "4      591.336   593.731"
      ]
     },
     "execution_count": 13,
     "metadata": {},
     "output_type": "execute_result"
    }
   ],
   "source": [
    "mixingLine = pd.DataFrame()\n",
    "mixingLine['temperature'] = temp\n",
    "mixingLine['pressure'] = pressure\n",
    "mixingLine.head()"
   ]
  },
  {
   "cell_type": "code",
   "execution_count": 14,
   "metadata": {},
   "outputs": [],
   "source": [
    "mixingLine.to_csv ('Extracted Data/mixingLine.csv', index = False, header=True)"
   ]
  },
  {
   "cell_type": "code",
   "execution_count": 21,
   "metadata": {},
   "outputs": [],
   "source": [
    "r = np.arange(min(temp),max(temp))\n",
    "r\n",
    "saturation_ice = 100 * np.exp(((-6024.5282) / r) + 24.7219 + (1.0613868e-2 * r) + ((-1.3198824e-5) * r * r) + ((-0.49382577) * np.log(r)) )\n",
    "\n",
    "saturation_water = 100 * np.exp(((-6096.9385) / r) + 16.635764 + ((-2.711193e-2) * r) + ((1.673952e-5) * r*r) + (2.433502* np.log(r)) )"
   ]
  },
  {
   "cell_type": "code",
   "execution_count": 22,
   "metadata": {},
   "outputs": [
    {
     "data": {
      "text/html": [
       "<div>\n",
       "<style scoped>\n",
       "    .dataframe tbody tr th:only-of-type {\n",
       "        vertical-align: middle;\n",
       "    }\n",
       "\n",
       "    .dataframe tbody tr th {\n",
       "        vertical-align: top;\n",
       "    }\n",
       "\n",
       "    .dataframe thead th {\n",
       "        text-align: right;\n",
       "    }\n",
       "</style>\n",
       "<table border=\"1\" class=\"dataframe\">\n",
       "  <thead>\n",
       "    <tr style=\"text-align: right;\">\n",
       "      <th></th>\n",
       "      <th>temp</th>\n",
       "      <th>ice</th>\n",
       "      <th>water</th>\n",
       "    </tr>\n",
       "  </thead>\n",
       "  <tbody>\n",
       "    <tr>\n",
       "      <th>0</th>\n",
       "      <td>219.007</td>\n",
       "      <td>2.336963</td>\n",
       "      <td>3.980907</td>\n",
       "    </tr>\n",
       "    <tr>\n",
       "      <th>1</th>\n",
       "      <td>220.007</td>\n",
       "      <td>2.655030</td>\n",
       "      <td>4.478866</td>\n",
       "    </tr>\n",
       "    <tr>\n",
       "      <th>2</th>\n",
       "      <td>221.007</td>\n",
       "      <td>3.012927</td>\n",
       "      <td>5.033261</td>\n",
       "    </tr>\n",
       "    <tr>\n",
       "      <th>3</th>\n",
       "      <td>222.007</td>\n",
       "      <td>3.415199</td>\n",
       "      <td>5.649802</td>\n",
       "    </tr>\n",
       "    <tr>\n",
       "      <th>4</th>\n",
       "      <td>223.007</td>\n",
       "      <td>3.866856</td>\n",
       "      <td>6.334699</td>\n",
       "    </tr>\n",
       "  </tbody>\n",
       "</table>\n",
       "</div>"
      ],
      "text/plain": [
       "      temp       ice     water\n",
       "0  219.007  2.336963  3.980907\n",
       "1  220.007  2.655030  4.478866\n",
       "2  221.007  3.012927  5.033261\n",
       "3  222.007  3.415199  5.649802\n",
       "4  223.007  3.866856  6.334699"
      ]
     },
     "execution_count": 22,
     "metadata": {},
     "output_type": "execute_result"
    }
   ],
   "source": [
    "saturationCurve = pd.DataFrame()\n",
    "saturationCurve['temp'] = r\n",
    "saturationCurve[\"ice\"] = saturation_ice\n",
    "saturationCurve['water'] = saturation_water\n",
    "saturationCurve.head()"
   ]
  },
  {
   "cell_type": "code",
   "execution_count": 23,
   "metadata": {},
   "outputs": [],
   "source": [
    "saturationCurve.to_csv ('Extracted Data/saturationCurve.csv', index = False, header=True)"
   ]
  },
  {
   "cell_type": "code",
   "execution_count": 20,
   "metadata": {},
   "outputs": [
    {
     "data": {
      "text/plain": [
       "4258.528558415896"
      ]
     },
     "execution_count": 20,
     "metadata": {},
     "output_type": "execute_result"
    }
   ],
   "source": [
    "max(saturation_ice)"
   ]
  }
 ],
 "metadata": {
  "kernelspec": {
   "display_name": "Python 3",
   "language": "python",
   "name": "python3"
  },
  "language_info": {
   "codemirror_mode": {
    "name": "ipython",
    "version": 3
   },
   "file_extension": ".py",
   "mimetype": "text/x-python",
   "name": "python",
   "nbconvert_exporter": "python",
   "pygments_lexer": "ipython3",
   "version": "3.7.9"
  }
 },
 "nbformat": 4,
 "nbformat_minor": 4
}
