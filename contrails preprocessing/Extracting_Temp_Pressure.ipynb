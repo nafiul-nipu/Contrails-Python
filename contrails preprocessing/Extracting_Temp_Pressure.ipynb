{
 "cells": [
  {
   "cell_type": "code",
   "execution_count": 3,
   "metadata": {},
   "outputs": [],
   "source": [
    "import pandas as pd"
   ]
  },
  {
   "cell_type": "code",
   "execution_count": 4,
   "metadata": {},
   "outputs": [
    {
     "ename": "NameError",
     "evalue": "name 'listdir' is not defined",
     "output_type": "error",
     "traceback": [
      "\u001b[1;31m---------------------------------------------------------------------------\u001b[0m",
      "\u001b[1;31mNameError\u001b[0m                                 Traceback (most recent call last)",
      "\u001b[1;32m<ipython-input-4-63fd7ca060ab>\u001b[0m in \u001b[0;36m<module>\u001b[1;34m\u001b[0m\n\u001b[1;32m----> 1\u001b[1;33m \u001b[0monlyfiles\u001b[0m \u001b[1;33m=\u001b[0m \u001b[1;33m[\u001b[0m\u001b[0mf\u001b[0m \u001b[1;32mfor\u001b[0m \u001b[0mf\u001b[0m \u001b[1;32min\u001b[0m \u001b[0mlistdir\u001b[0m\u001b[1;33m(\u001b[0m\u001b[1;34m\"noCone\"\u001b[0m\u001b[1;33m)\u001b[0m \u001b[1;33m]\u001b[0m\u001b[1;33m\u001b[0m\u001b[1;33m\u001b[0m\u001b[0m\n\u001b[0m\u001b[0;32m      2\u001b[0m \u001b[0monlyfiles\u001b[0m\u001b[1;33m\u001b[0m\u001b[1;33m\u001b[0m\u001b[0m\n",
      "\u001b[1;31mNameError\u001b[0m: name 'listdir' is not defined"
     ]
    }
   ],
   "source": [
    "onlyfiles = [f for f in listdir(\"noCone\") ]\n",
    "onlyfiles"
   ]
  },
  {
   "cell_type": "code",
   "execution_count": null,
   "metadata": {},
   "outputs": [],
   "source": [
    "temp = list()\n",
    "pressure = list()"
   ]
  },
  {
   "cell_type": "code",
   "execution_count": null,
   "metadata": {},
   "outputs": [],
   "source": [
    "for index in range(len(onlyfiles)):\n",
    "    path=\"noCone/{}/lagrangian/reactingCloud1/T\".format(onlyfiles[index])\n",
    "    with open(path, 'r') as file:\n",
    "        for line in file.readlines():\n",
    "            num = float(line.strip('\\n'))\n",
    "            temp.append(num)"
   ]
  },
  {
   "cell_type": "code",
   "execution_count": null,
   "metadata": {},
   "outputs": [],
   "source": [
    "for index in range(len(onlyfiles)):\n",
    "    path=\"noCone/{}/lagrangian/reactingCloud1/pressure\".format(onlyfiles[index])\n",
    "    with open(path, 'r') as file:\n",
    "        for line in file.readlines():\n",
    "            num = float(line.strip('\\n'))\n",
    "            pressure.append(num)"
   ]
  },
  {
   "cell_type": "code",
   "execution_count": null,
   "metadata": {},
   "outputs": [],
   "source": [
    "len(temp)"
   ]
  },
  {
   "cell_type": "code",
   "execution_count": null,
   "metadata": {},
   "outputs": [],
   "source": [
    "len(pressure)"
   ]
  },
  {
   "cell_type": "code",
   "execution_count": null,
   "metadata": {},
   "outputs": [],
   "source": [
    "mixingLine = pd.DataFrame()\n",
    "mixingLine['temperature'] = temp\n",
    "mixingLine['pressure'] = pressure\n",
    "mixingLine.head()"
   ]
  },
  {
   "cell_type": "code",
   "execution_count": null,
   "metadata": {},
   "outputs": [],
   "source": [
    "mixingLine.to_csv ('Extracted Data/mixingLine.csv', index = False, header=True)"
   ]
  },
  {
   "cell_type": "code",
   "execution_count": null,
   "metadata": {},
   "outputs": [],
   "source": [
    "r = np.arange(200,300)\n",
    "r\n",
    "saturation_ice = 100 * np.exp(((-6024.5282) / r) + 24.7219 + (1.0613868e-2 * r) + ((-1.3198824e-5) * r * r) + ((-0.49382577) * np.log(r)) )\n",
    "\n",
    "saturation_water = 100 * np.exp(((-6096.9385) / r) + 16.635764 + ((-2.711193e-2) * r) + ((1.673952e-5) * r*r) + (2.433502* np.log(r)) )"
   ]
  },
  {
   "cell_type": "code",
   "execution_count": null,
   "metadata": {},
   "outputs": [],
   "source": [
    "saturationCurve = pd.DataFrame()\n",
    "saturationCurve['temp'] = r\n",
    "saturationCurve[\"ice\"] = saturation_ice\n",
    "saturationCurve['water'] = saturation_water\n",
    "saturationCurve.head()"
   ]
  },
  {
   "cell_type": "code",
   "execution_count": null,
   "metadata": {},
   "outputs": [],
   "source": [
    "saturationCurve.to_csv ('Extracted Data/saturationCurve.csv', index = False, header=True)"
   ]
  }
 ],
 "metadata": {
  "kernelspec": {
   "display_name": "Python 3",
   "language": "python",
   "name": "python3"
  },
  "language_info": {
   "codemirror_mode": {
    "name": "ipython",
    "version": 3
   },
   "file_extension": ".py",
   "mimetype": "text/x-python",
   "name": "python",
   "nbconvert_exporter": "python",
   "pygments_lexer": "ipython3",
   "version": "3.7.9"
  }
 },
 "nbformat": 4,
 "nbformat_minor": 4
}
