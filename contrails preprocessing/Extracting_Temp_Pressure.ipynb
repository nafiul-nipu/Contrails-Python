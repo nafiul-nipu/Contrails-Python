{
 "cells": [
  {
   "cell_type": "code",
   "execution_count": 29,
   "metadata": {},
   "outputs": [],
   "source": [
    "import pandas as pd\n",
    "import numpy as np\n",
    "from os import listdir\n",
    "\n",
    "import matplotlib.pyplot as plt\n",
    "%matplotlib inline\n",
    "import seaborn as sns"
   ]
  },
  {
   "cell_type": "code",
   "execution_count": 3,
   "metadata": {},
   "outputs": [
    {
     "data": {
      "text/plain": [
       "['0.1025',\n",
       " '0.105',\n",
       " '0.1075',\n",
       " '0.11',\n",
       " '0.1125',\n",
       " '0.115',\n",
       " '0.1175',\n",
       " '0.12',\n",
       " '0.1225',\n",
       " '0.125',\n",
       " '0.1275',\n",
       " '0.13',\n",
       " '0.1325',\n",
       " '0.135',\n",
       " '0.1375',\n",
       " '0.14',\n",
       " '0.1425',\n",
       " '0.145',\n",
       " '0.1475',\n",
       " '0.15']"
      ]
     },
     "execution_count": 3,
     "metadata": {},
     "output_type": "execute_result"
    }
   ],
   "source": [
    "onlyfiles = [f for f in listdir(\"noCone\") ]\n",
    "onlyfiles"
   ]
  },
  {
   "cell_type": "code",
   "execution_count": 4,
   "metadata": {},
   "outputs": [],
   "source": [
    "temp = list()\n",
    "pressure = list()"
   ]
  },
  {
   "cell_type": "code",
   "execution_count": 5,
   "metadata": {},
   "outputs": [],
   "source": [
    "for index in range(len(onlyfiles)):\n",
    "    path=\"noCone/{}/lagrangian/reactingCloud1/T\".format(onlyfiles[index])\n",
    "    with open(path, 'r') as file:\n",
    "        for line in file.readlines():\n",
    "            num = float(line.strip('\\n'))\n",
    "            temp.append(num)"
   ]
  },
  {
   "cell_type": "code",
   "execution_count": 6,
   "metadata": {},
   "outputs": [],
   "source": [
    "for index in range(len(onlyfiles)):\n",
    "    path=\"noCone/{}/lagrangian/reactingCloud1/pressure\".format(onlyfiles[index])\n",
    "    with open(path, 'r') as file:\n",
    "        for line in file.readlines():\n",
    "            num = float(line.strip('\\n'))\n",
    "            pressure.append(num)"
   ]
  },
  {
   "cell_type": "code",
   "execution_count": 7,
   "metadata": {},
   "outputs": [
    {
     "data": {
      "text/plain": [
       "17772"
      ]
     },
     "execution_count": 7,
     "metadata": {},
     "output_type": "execute_result"
    }
   ],
   "source": [
    "len(temp)"
   ]
  },
  {
   "cell_type": "code",
   "execution_count": 8,
   "metadata": {},
   "outputs": [
    {
     "data": {
      "text/plain": [
       "17772"
      ]
     },
     "execution_count": 8,
     "metadata": {},
     "output_type": "execute_result"
    }
   ],
   "source": [
    "len(pressure)"
   ]
  },
  {
   "cell_type": "code",
   "execution_count": 9,
   "metadata": {},
   "outputs": [
    {
     "data": {
      "text/html": [
       "<div>\n",
       "<style scoped>\n",
       "    .dataframe tbody tr th:only-of-type {\n",
       "        vertical-align: middle;\n",
       "    }\n",
       "\n",
       "    .dataframe tbody tr th {\n",
       "        vertical-align: top;\n",
       "    }\n",
       "\n",
       "    .dataframe thead th {\n",
       "        text-align: right;\n",
       "    }\n",
       "</style>\n",
       "<table border=\"1\" class=\"dataframe\">\n",
       "  <thead>\n",
       "    <tr style=\"text-align: right;\">\n",
       "      <th></th>\n",
       "      <th>temperature</th>\n",
       "      <th>pressure</th>\n",
       "    </tr>\n",
       "  </thead>\n",
       "  <tbody>\n",
       "    <tr>\n",
       "      <th>0</th>\n",
       "      <td>591.623</td>\n",
       "      <td>587.508</td>\n",
       "    </tr>\n",
       "    <tr>\n",
       "      <th>1</th>\n",
       "      <td>594.147</td>\n",
       "      <td>600.042</td>\n",
       "    </tr>\n",
       "    <tr>\n",
       "      <th>2</th>\n",
       "      <td>591.706</td>\n",
       "      <td>595.010</td>\n",
       "    </tr>\n",
       "    <tr>\n",
       "      <th>3</th>\n",
       "      <td>591.136</td>\n",
       "      <td>593.030</td>\n",
       "    </tr>\n",
       "    <tr>\n",
       "      <th>4</th>\n",
       "      <td>591.336</td>\n",
       "      <td>593.731</td>\n",
       "    </tr>\n",
       "  </tbody>\n",
       "</table>\n",
       "</div>"
      ],
      "text/plain": [
       "   temperature  pressure\n",
       "0      591.623   587.508\n",
       "1      594.147   600.042\n",
       "2      591.706   595.010\n",
       "3      591.136   593.030\n",
       "4      591.336   593.731"
      ]
     },
     "execution_count": 9,
     "metadata": {},
     "output_type": "execute_result"
    }
   ],
   "source": [
    "mixingLine = pd.DataFrame()\n",
    "mixingLine['temperature'] = temp\n",
    "mixingLine['pressure'] = pressure\n",
    "mixingLine.head()"
   ]
  },
  {
   "cell_type": "code",
   "execution_count": 10,
   "metadata": {},
   "outputs": [],
   "source": [
    "mixingLine.to_csv ('Extracted Data/mixingLine.csv', index = False, header=True)"
   ]
  },
  {
   "cell_type": "code",
   "execution_count": 34,
   "metadata": {},
   "outputs": [
    {
     "name": "stdout",
     "output_type": "stream",
     "text": [
      "[219.007 220.007 221.007 222.007 223.007 224.007 225.007 226.007 227.007\n",
      " 228.007 229.007 230.007 231.007 232.007 233.007 234.007 235.007 236.007\n",
      " 237.007 238.007 239.007 240.007 241.007 242.007 243.007 244.007 245.007\n",
      " 246.007 247.007 248.007 249.007 250.007 251.007 252.007 253.007 254.007\n",
      " 255.007 256.007 257.007 258.007 259.007 260.007 261.007 262.007 263.007\n",
      " 264.007 265.007 266.007 267.007 268.007 269.007 270.007 271.007 272.007\n",
      " 273.007 274.007 275.007 276.007 277.007 278.007 279.007 280.007 281.007\n",
      " 282.007 283.007 284.007 285.007 286.007 287.007 288.007 289.007 290.007\n",
      " 291.007 292.007 293.007 294.007 295.007 296.007 297.007 298.007 299.007\n",
      " 300.007 301.007 302.007 303.007 304.007 305.007 306.007 307.007 308.007\n",
      " 309.007 310.007 311.007 312.007 313.007 314.007 315.007 316.007 317.007\n",
      " 318.007 319.007 320.007 321.007 322.007 323.007 324.007 325.007 326.007\n",
      " 327.007 328.007 329.007 330.007 331.007 332.007 333.007 334.007 335.007\n",
      " 336.007 337.007 338.007 339.007 340.007 341.007 342.007 343.007 344.007\n",
      " 345.007 346.007 347.007 348.007 349.007 350.007 351.007 352.007 353.007\n",
      " 354.007 355.007 356.007 357.007 358.007 359.007 360.007 361.007 362.007\n",
      " 363.007 364.007 365.007 366.007 367.007 368.007 369.007 370.007 371.007\n",
      " 372.007 373.007 374.007 375.007 376.007 377.007 378.007 379.007 380.007\n",
      " 381.007 382.007 383.007 384.007 385.007 386.007 387.007 388.007 389.007\n",
      " 390.007 391.007 392.007 393.007 394.007 395.007 396.007 397.007 398.007\n",
      " 399.007 400.007 401.007 402.007 403.007 404.007 405.007 406.007 407.007\n",
      " 408.007 409.007 410.007 411.007 412.007 413.007 414.007 415.007 416.007\n",
      " 417.007 418.007 419.007 420.007 421.007 422.007 423.007 424.007 425.007\n",
      " 426.007 427.007 428.007 429.007 430.007 431.007 432.007 433.007 434.007\n",
      " 435.007 436.007 437.007 438.007 439.007 440.007 441.007 442.007 443.007\n",
      " 444.007 445.007 446.007 447.007 448.007 449.007 450.007 451.007 452.007\n",
      " 453.007 454.007 455.007 456.007 457.007 458.007 459.007 460.007 461.007\n",
      " 462.007 463.007 464.007 465.007 466.007 467.007 468.007 469.007 470.007\n",
      " 471.007 472.007 473.007 474.007 475.007 476.007 477.007 478.007 479.007\n",
      " 480.007 481.007 482.007 483.007 484.007 485.007 486.007 487.007 488.007\n",
      " 489.007 490.007 491.007 492.007 493.007 494.007 495.007 496.007 497.007\n",
      " 498.007 499.007 500.007 501.007 502.007 503.007 504.007 505.007 506.007\n",
      " 507.007 508.007 509.007 510.007 511.007 512.007 513.007 514.007 515.007\n",
      " 516.007 517.007 518.007 519.007 520.007 521.007 522.007 523.007 524.007\n",
      " 525.007 526.007 527.007 528.007 529.007 530.007 531.007 532.007 533.007\n",
      " 534.007 535.007 536.007 537.007 538.007 539.007 540.007 541.007 542.007\n",
      " 543.007 544.007 545.007 546.007 547.007 548.007 549.007 550.007 551.007\n",
      " 552.007 553.007 554.007 555.007 556.007 557.007 558.007 559.007 560.007\n",
      " 561.007 562.007 563.007 564.007 565.007 566.007 567.007 568.007 569.007\n",
      " 570.007 571.007 572.007 573.007 574.007 575.007 576.007 577.007 578.007\n",
      " 579.007 580.007 581.007 582.007 583.007 584.007 585.007 586.007 587.007\n",
      " 588.007 589.007 590.007 591.007 592.007 593.007 594.007 595.007 596.007\n",
      " 597.007]\n"
     ]
    }
   ],
   "source": [
    "r = np.arange(min(temp),max(temp))\n",
    "\n",
    "saturation_ice = 100 * np.exp(((-6024.5282) / r) + 24.7219 + (1.0613868e-2 * r) + ((-1.3198824e-5) * r * r) + ((-0.49382577) * np.log(r)) )\n",
    "\n",
    "saturation_water = 100 * np.exp(((-6096.9385) / r) + 16.635764 + ((-2.711193e-2) * r) + ((1.673952e-5) * r*r) + (2.433502* np.log(r)) )"
   ]
  },
  {
   "cell_type": "code",
   "execution_count": 12,
   "metadata": {},
   "outputs": [
    {
     "data": {
      "text/html": [
       "<div>\n",
       "<style scoped>\n",
       "    .dataframe tbody tr th:only-of-type {\n",
       "        vertical-align: middle;\n",
       "    }\n",
       "\n",
       "    .dataframe tbody tr th {\n",
       "        vertical-align: top;\n",
       "    }\n",
       "\n",
       "    .dataframe thead th {\n",
       "        text-align: right;\n",
       "    }\n",
       "</style>\n",
       "<table border=\"1\" class=\"dataframe\">\n",
       "  <thead>\n",
       "    <tr style=\"text-align: right;\">\n",
       "      <th></th>\n",
       "      <th>temp</th>\n",
       "      <th>ice</th>\n",
       "      <th>water</th>\n",
       "    </tr>\n",
       "  </thead>\n",
       "  <tbody>\n",
       "    <tr>\n",
       "      <th>0</th>\n",
       "      <td>219.007</td>\n",
       "      <td>2.336963</td>\n",
       "      <td>3.980907</td>\n",
       "    </tr>\n",
       "    <tr>\n",
       "      <th>1</th>\n",
       "      <td>220.007</td>\n",
       "      <td>2.655030</td>\n",
       "      <td>4.478866</td>\n",
       "    </tr>\n",
       "    <tr>\n",
       "      <th>2</th>\n",
       "      <td>221.007</td>\n",
       "      <td>3.012927</td>\n",
       "      <td>5.033261</td>\n",
       "    </tr>\n",
       "    <tr>\n",
       "      <th>3</th>\n",
       "      <td>222.007</td>\n",
       "      <td>3.415199</td>\n",
       "      <td>5.649802</td>\n",
       "    </tr>\n",
       "    <tr>\n",
       "      <th>4</th>\n",
       "      <td>223.007</td>\n",
       "      <td>3.866856</td>\n",
       "      <td>6.334699</td>\n",
       "    </tr>\n",
       "  </tbody>\n",
       "</table>\n",
       "</div>"
      ],
      "text/plain": [
       "      temp       ice     water\n",
       "0  219.007  2.336963  3.980907\n",
       "1  220.007  2.655030  4.478866\n",
       "2  221.007  3.012927  5.033261\n",
       "3  222.007  3.415199  5.649802\n",
       "4  223.007  3.866856  6.334699"
      ]
     },
     "execution_count": 12,
     "metadata": {},
     "output_type": "execute_result"
    }
   ],
   "source": [
    "saturationCurve = pd.DataFrame()\n",
    "saturationCurve['temp'] = r\n",
    "saturationCurve[\"ice\"] = saturation_ice\n",
    "saturationCurve['water'] = saturation_water\n",
    "saturationCurve.head()"
   ]
  },
  {
   "cell_type": "code",
   "execution_count": 13,
   "metadata": {},
   "outputs": [],
   "source": [
    "saturationCurve.to_csv ('Extracted Data/saturationCurve.csv', index = False, header=True)"
   ]
  },
  {
   "cell_type": "code",
   "execution_count": 35,
   "metadata": {},
   "outputs": [
    {
     "data": {
      "image/png": "[encoded data removed]",
      "text/plain": [
       "<Figure size 640x640 with 1 Axes>"
      ]
     },
     "metadata": {
      "needs_background": "light"
     },
     "output_type": "display_data"
    }
   ],
   "source": [
    "plt.figure(figsize=(8, 8), dpi=80)\n",
    "plt.scatter(temp, pressure, s=1, alpha=0.5)\n",
    "\n",
    "plt.show()"
   ]
  },
  {
   "cell_type": "code",
   "execution_count": null,
   "metadata": {},
   "outputs": [],
   "source": []
  }
 ],
 "metadata": {
  "kernelspec": {
   "display_name": "Python 3",
   "language": "python",
   "name": "python3"
  },
  "language_info": {
   "codemirror_mode": {
    "name": "ipython",
    "version": 3
   },
   "file_extension": ".py",
   "mimetype": "text/x-python",
   "name": "python",
   "nbconvert_exporter": "python",
   "pygments_lexer": "ipython3",
   "version": "3.8.8"
  }
 },
 "nbformat": 4,
 "nbformat_minor": 4
}
