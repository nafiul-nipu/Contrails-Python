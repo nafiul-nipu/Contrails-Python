{
 "cells": [
  {
   "cell_type": "code",
   "execution_count": 37,
   "id": "056cb3e7",
   "metadata": {},
   "outputs": [],
   "source": [
    "import pandas as pd\n",
    "import numpy as np\n",
    "import matplotlib.pyplot as plt\n",
    "%matplotlib inline"
   ]
  },
  {
   "cell_type": "code",
   "execution_count": 38,
   "id": "a3f2868a",
   "metadata": {},
   "outputs": [
    {
     "data": {
      "text/html": [
       "<div>\n",
       "<style scoped>\n",
       "    .dataframe tbody tr th:only-of-type {\n",
       "        vertical-align: middle;\n",
       "    }\n",
       "\n",
       "    .dataframe tbody tr th {\n",
       "        vertical-align: top;\n",
       "    }\n",
       "\n",
       "    .dataframe thead th {\n",
       "        text-align: right;\n",
       "    }\n",
       "</style>\n",
       "<table border=\"1\" class=\"dataframe\">\n",
       "  <thead>\n",
       "    <tr style=\"text-align: right;\">\n",
       "      <th></th>\n",
       "      <th>stream</th>\n",
       "      <th>scope</th>\n",
       "      <th>grid</th>\n",
       "      <th>coupled</th>\n",
       "      <th>u-inlet</th>\n",
       "      <th>p-inlet</th>\n",
       "      <th>particles</th>\n",
       "      <th>ice</th>\n",
       "      <th>temp</th>\n",
       "      <th>mass</th>\n",
       "      <th>length</th>\n",
       "    </tr>\n",
       "  </thead>\n",
       "  <tbody>\n",
       "    <tr>\n",
       "      <th>0</th>\n",
       "      <td>one</td>\n",
       "      <td>nozzle</td>\n",
       "      <td>coarse</td>\n",
       "      <td>True</td>\n",
       "      <td>inletOutlet</td>\n",
       "      <td>inletOutlet</td>\n",
       "      <td>2125.0</td>\n",
       "      <td>741.0</td>\n",
       "      <td>318.14</td>\n",
       "      <td>0.03100</td>\n",
       "      <td>3.6500</td>\n",
       "    </tr>\n",
       "    <tr>\n",
       "      <th>1</th>\n",
       "      <td>one</td>\n",
       "      <td>whole</td>\n",
       "      <td>coarse</td>\n",
       "      <td>True</td>\n",
       "      <td>freestream</td>\n",
       "      <td>freestream</td>\n",
       "      <td>2214.0</td>\n",
       "      <td>730.0</td>\n",
       "      <td>320.25</td>\n",
       "      <td>0.03900</td>\n",
       "      <td>2.4500</td>\n",
       "    </tr>\n",
       "    <tr>\n",
       "      <th>2</th>\n",
       "      <td>one</td>\n",
       "      <td>nozzle</td>\n",
       "      <td>fine</td>\n",
       "      <td>True</td>\n",
       "      <td>freestream</td>\n",
       "      <td>freestream</td>\n",
       "      <td>2217.0</td>\n",
       "      <td>752.0</td>\n",
       "      <td>319.69</td>\n",
       "      <td>0.03500</td>\n",
       "      <td>3.6900</td>\n",
       "    </tr>\n",
       "    <tr>\n",
       "      <th>3</th>\n",
       "      <td>one</td>\n",
       "      <td>whole</td>\n",
       "      <td>fine</td>\n",
       "      <td>True</td>\n",
       "      <td>inletOutlet</td>\n",
       "      <td>inletOutlet</td>\n",
       "      <td>2211.0</td>\n",
       "      <td>727.0</td>\n",
       "      <td>320.23</td>\n",
       "      <td>0.03700</td>\n",
       "      <td>3.2400</td>\n",
       "    </tr>\n",
       "    <tr>\n",
       "      <th>4</th>\n",
       "      <td>one</td>\n",
       "      <td>nozzle</td>\n",
       "      <td>coarse</td>\n",
       "      <td>False</td>\n",
       "      <td>freestream</td>\n",
       "      <td>freestream</td>\n",
       "      <td>2202.0</td>\n",
       "      <td>761.0</td>\n",
       "      <td>319.95</td>\n",
       "      <td>0.03220</td>\n",
       "      <td>3.1400</td>\n",
       "    </tr>\n",
       "    <tr>\n",
       "      <th>5</th>\n",
       "      <td>two</td>\n",
       "      <td>nozzle</td>\n",
       "      <td>coarse</td>\n",
       "      <td>False</td>\n",
       "      <td>freestream</td>\n",
       "      <td>freestream</td>\n",
       "      <td>2207.0</td>\n",
       "      <td>755.0</td>\n",
       "      <td>318.17</td>\n",
       "      <td>0.03130</td>\n",
       "      <td>4.1600</td>\n",
       "    </tr>\n",
       "    <tr>\n",
       "      <th>6</th>\n",
       "      <td>two</td>\n",
       "      <td>whole</td>\n",
       "      <td>fine</td>\n",
       "      <td>False</td>\n",
       "      <td>inletOutlet</td>\n",
       "      <td>inletOutlet</td>\n",
       "      <td>2206.0</td>\n",
       "      <td>738.0</td>\n",
       "      <td>318.81</td>\n",
       "      <td>0.03700</td>\n",
       "      <td>2.3690</td>\n",
       "    </tr>\n",
       "    <tr>\n",
       "      <th>7</th>\n",
       "      <td>two</td>\n",
       "      <td>nozzle</td>\n",
       "      <td>coarse</td>\n",
       "      <td>True</td>\n",
       "      <td>freestream</td>\n",
       "      <td>freestream</td>\n",
       "      <td>2231.0</td>\n",
       "      <td>746.0</td>\n",
       "      <td>318.31</td>\n",
       "      <td>0.03250</td>\n",
       "      <td>5.2100</td>\n",
       "    </tr>\n",
       "    <tr>\n",
       "      <th>8</th>\n",
       "      <td>two</td>\n",
       "      <td>whole</td>\n",
       "      <td>fine</td>\n",
       "      <td>False</td>\n",
       "      <td>inletOutlet</td>\n",
       "      <td>inletOutlet</td>\n",
       "      <td>2229.0</td>\n",
       "      <td>749.0</td>\n",
       "      <td>317.22</td>\n",
       "      <td>0.02910</td>\n",
       "      <td>3.2400</td>\n",
       "    </tr>\n",
       "    <tr>\n",
       "      <th>9</th>\n",
       "      <td>two</td>\n",
       "      <td>nozzle</td>\n",
       "      <td>coarse</td>\n",
       "      <td>True</td>\n",
       "      <td>freestream</td>\n",
       "      <td>freestream</td>\n",
       "      <td>2218.0</td>\n",
       "      <td>730.0</td>\n",
       "      <td>348.25</td>\n",
       "      <td>0.03551</td>\n",
       "      <td>3.2540</td>\n",
       "    </tr>\n",
       "    <tr>\n",
       "      <th>10</th>\n",
       "      <td>two</td>\n",
       "      <td>whole</td>\n",
       "      <td>fine</td>\n",
       "      <td>False</td>\n",
       "      <td>inletOutlet</td>\n",
       "      <td>inletOutlet</td>\n",
       "      <td>2125.0</td>\n",
       "      <td>762.0</td>\n",
       "      <td>385.37</td>\n",
       "      <td>0.03640</td>\n",
       "      <td>3.5870</td>\n",
       "    </tr>\n",
       "    <tr>\n",
       "      <th>11</th>\n",
       "      <td>two</td>\n",
       "      <td>nozzle</td>\n",
       "      <td>coarse</td>\n",
       "      <td>False</td>\n",
       "      <td>inletOutlet</td>\n",
       "      <td>inletOutlet</td>\n",
       "      <td>2236.0</td>\n",
       "      <td>742.0</td>\n",
       "      <td>318.09</td>\n",
       "      <td>0.02350</td>\n",
       "      <td>3.4654</td>\n",
       "    </tr>\n",
       "    <tr>\n",
       "      <th>12</th>\n",
       "      <td>two</td>\n",
       "      <td>nozzle</td>\n",
       "      <td>coarse</td>\n",
       "      <td>True</td>\n",
       "      <td>inletOutlet</td>\n",
       "      <td>inletOutlet</td>\n",
       "      <td>2214.0</td>\n",
       "      <td>725.0</td>\n",
       "      <td>331.15</td>\n",
       "      <td>0.02425</td>\n",
       "      <td>3.4456</td>\n",
       "    </tr>\n",
       "  </tbody>\n",
       "</table>\n",
       "</div>"
      ],
      "text/plain": [
       "   stream   scope    grid  coupled      u-inlet      p-inlet  particles  \\\n",
       "0     one  nozzle  coarse     True  inletOutlet  inletOutlet     2125.0   \n",
       "1     one   whole  coarse     True   freestream   freestream     2214.0   \n",
       "2     one  nozzle    fine     True   freestream   freestream     2217.0   \n",
       "3     one   whole    fine     True  inletOutlet  inletOutlet     2211.0   \n",
       "4     one  nozzle  coarse    False   freestream   freestream     2202.0   \n",
       "5     two  nozzle  coarse    False   freestream   freestream     2207.0   \n",
       "6     two   whole    fine    False  inletOutlet  inletOutlet     2206.0   \n",
       "7     two  nozzle  coarse     True   freestream   freestream     2231.0   \n",
       "8     two   whole    fine    False  inletOutlet  inletOutlet     2229.0   \n",
       "9     two  nozzle  coarse     True   freestream   freestream     2218.0   \n",
       "10    two   whole    fine    False  inletOutlet  inletOutlet     2125.0   \n",
       "11    two  nozzle  coarse    False  inletOutlet  inletOutlet     2236.0   \n",
       "12    two  nozzle  coarse     True  inletOutlet  inletOutlet     2214.0   \n",
       "\n",
       "      ice    temp     mass  length  \n",
       "0   741.0  318.14  0.03100  3.6500  \n",
       "1   730.0  320.25  0.03900  2.4500  \n",
       "2   752.0  319.69  0.03500  3.6900  \n",
       "3   727.0  320.23  0.03700  3.2400  \n",
       "4   761.0  319.95  0.03220  3.1400  \n",
       "5   755.0  318.17  0.03130  4.1600  \n",
       "6   738.0  318.81  0.03700  2.3690  \n",
       "7   746.0  318.31  0.03250  5.2100  \n",
       "8   749.0  317.22  0.02910  3.2400  \n",
       "9   730.0  348.25  0.03551  3.2540  \n",
       "10  762.0  385.37  0.03640  3.5870  \n",
       "11  742.0  318.09  0.02350  3.4654  \n",
       "12  725.0  331.15  0.02425  3.4456  "
      ]
     },
     "execution_count": 38,
     "metadata": {},
     "output_type": "execute_result"
    }
   ],
   "source": [
    "data = pd.read_csv('fakeData.csv')\n",
    "data"
   ]
  },
  {
   "cell_type": "code",
   "execution_count": 39,
   "id": "65dd678c",
   "metadata": {},
   "outputs": [
    {
     "name": "stdout",
     "output_type": "stream",
     "text": [
      "Data shape: (13, 11)\n",
      "Matrix shape: (13, 13)\n"
     ]
    }
   ],
   "source": [
    "\"\"\"Gower’s disatance/measure/coefficient/similarity is a measure to find\n",
    "the similarity between two rows of a dataset consisting of mixed type attributes.\n",
    "It uses the concept of Manhattan distance for continuous variables and dice\n",
    "distance for measuring similarity between Binary variables.\n",
    "\n",
    "https://medium.com/analytics-vidhya/concept-of-gowers-distance-and-it-s-application-using-python-b08cf6139ac2\n",
    "\n",
    "https://towardsdatascience.com/clustering-on-numerical-and-categorical-features-6e0ebcf1cbad\n",
    "\n",
    "https://bpostance.github.io/posts/clustering-mixed-data/\n",
    "\"\"\"\n",
    "\n",
    "\n",
    "import gower\n",
    "\n",
    "# cat = [True, True, True, True,True,True,False,False,False,False,False]\n",
    "\n",
    "# print(cat)\n",
    "\n",
    "gd = gower.gower_matrix(data)\n",
    "\n",
    "print(f\"Data shape: {data.shape}\\nMatrix shape: {gd.shape}\")\n",
    "# print(gd)"
   ]
  },
  {
   "cell_type": "code",
   "execution_count": 46,
   "id": "373a64f1",
   "metadata": {},
   "outputs": [
    {
     "name": "stdout",
     "output_type": "stream",
     "text": [
      "[0.4607796  0.4019104  0.33774847 0.41070244 0.4833115  0.5144215\n",
      " 0.4307692  0.493959   0.45521    0.5386027  0.3251463  0.266597\n",
      " 0.30221537 0.31959134 0.33017543 0.44253948 0.4969965  0.36408144\n",
      " 0.6008991  0.26864132 0.7445599  0.6283297  0.50882995 0.3659164\n",
      " 0.25058475 0.3270563  0.5531272  0.27316827 0.52404296 0.29173175\n",
      " 0.65358484 0.5714465  0.51859    0.57718045 0.6831447  0.24270552\n",
      " 0.60960066 0.30096376 0.5142139  0.4397639  0.51021254 0.37602413\n",
      " 0.1500381  0.5686769  0.31260934 0.5311659  0.33190158 0.6462699\n",
      " 0.41117635 0.5332632  0.49781936 0.17350194 0.44000593 0.2551517\n",
      " 0.5858827  0.30559123 0.43369412 0.6126455  0.12219045 0.56035924\n",
      " 0.25658903 0.33143923 0.43691146 0.5479878  0.17014164 0.7449349\n",
      " 0.39555508 0.36931232 0.58967346 0.2619451  0.24596788 0.39758706\n",
      " 0.67472863 0.4343899  0.2923619  0.49116677 0.58464015 0.17315   ]\n"
     ]
    },
    {
     "data": {
      "image/png": "[encoded data removed]",
      "text/plain": [
       "<Figure size 720x504 with 1 Axes>"
      ]
     },
     "metadata": {
      "needs_background": "light"
     },
     "output_type": "display_data"
    }
   ],
   "source": [
    "from scipy.cluster.hierarchy import linkage, fcluster, dendrogram\n",
    "from scipy.spatial.distance import squareform\n",
    "\n",
    "gdv = squareform(gd,force='tovector')\n",
    "\n",
    "print(gdv)\n",
    "\n",
    "\n",
    "Z = linkage(gdv,method='ward')\n",
    "\n",
    "plt.figure(figsize=(10, 7))  \n",
    "plt.title(\"Dendrograms\")  \n",
    "dend = dendrogram(Z)\n"
   ]
  },
  {
   "cell_type": "code",
   "execution_count": 48,
   "id": "4881598a",
   "metadata": {},
   "outputs": [
    {
     "name": "stdout",
     "output_type": "stream",
     "text": [
      "Leaves = 13\n"
     ]
    }
   ],
   "source": [
    "print(f\"Leaves = {len(dn['leaves'])}\")"
   ]
  },
  {
   "cell_type": "code",
   "execution_count": 49,
   "id": "84864d49",
   "metadata": {
    "scrolled": true
   },
   "outputs": [
    {
     "name": "stderr",
     "output_type": "stream",
     "text": [
      "C:\\Users\\evladmin\\Anaconda3\\envs\\server-png\\lib\\site-packages\\ipykernel_launcher.py:1: ClusterWarning: scipy.cluster: The symmetric non-negative hollow observation matrix looks suspiciously like an uncondensed distance matrix\n",
      "  \"\"\"Entry point for launching an IPython kernel.\n"
     ]
    },
    {
     "data": {
      "image/png": "[encoded data removed]",
      "text/plain": [
       "<Figure size 720x504 with 1 Axes>"
      ]
     },
     "metadata": {
      "needs_background": "light"
     },
     "output_type": "display_data"
    }
   ],
   "source": [
    "Z = linkage(gd,method='complete')\n",
    "\n",
    "plt.figure(figsize=(10, 7))  \n",
    "plt.title(\"Dendrograms\")  \n",
    "dend = dendrogram(Z)"
   ]
  },
  {
   "cell_type": "code",
   "execution_count": 50,
   "id": "bb0bf937",
   "metadata": {},
   "outputs": [
    {
     "name": "stderr",
     "output_type": "stream",
     "text": [
      "C:\\Users\\evladmin\\Anaconda3\\envs\\server-png\\lib\\site-packages\\ipykernel_launcher.py:1: ClusterWarning: scipy.cluster: The symmetric non-negative hollow observation matrix looks suspiciously like an uncondensed distance matrix\n",
      "  \"\"\"Entry point for launching an IPython kernel.\n"
     ]
    },
    {
     "data": {
      "image/png": "[encoded data removed]",
      "text/plain": [
       "<Figure size 720x504 with 1 Axes>"
      ]
     },
     "metadata": {
      "needs_background": "light"
     },
     "output_type": "display_data"
    }
   ],
   "source": [
    "Z = linkage(gd)\n",
    "\n",
    "plt.figure(figsize=(10, 7))  \n",
    "plt.title(\"Dendrograms\")  \n",
    "dend = dendrogram(Z)"
   ]
  },
  {
   "cell_type": "code",
   "execution_count": null,
   "id": "c4b56848",
   "metadata": {},
   "outputs": [],
   "source": []
  },
  {
   "cell_type": "code",
   "execution_count": null,
   "id": "afa4b0df",
   "metadata": {},
   "outputs": [],
   "source": []
  }
 ],
 "metadata": {
  "kernelspec": {
   "display_name": "Python 3 (ipykernel)",
   "language": "python",
   "name": "python3"
  },
  "language_info": {
   "codemirror_mode": {
    "name": "ipython",
    "version": 3
   },
   "file_extension": ".py",
   "mimetype": "text/x-python",
   "name": "python",
   "nbconvert_exporter": "python",
   "pygments_lexer": "ipython3",
   "version": "3.7.9"
  }
 },
 "nbformat": 4,
 "nbformat_minor": 5
}
