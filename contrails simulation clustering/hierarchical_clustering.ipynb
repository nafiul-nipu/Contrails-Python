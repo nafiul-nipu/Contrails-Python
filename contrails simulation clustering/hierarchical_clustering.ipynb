{
 "cells": [
  {
   "cell_type": "code",
   "execution_count": 42,
   "id": "056cb3e7",
   "metadata": {},
   "outputs": [],
   "source": [
    "import pandas as pd\n",
    "import numpy as np\n",
    "import matplotlib.pyplot as plt\n",
    "from matplotlib import cm\n",
    "%matplotlib inline\n",
    "\n",
    "from sklearn.cluster import AgglomerativeClustering\n",
    "from scipy.cluster.hierarchy import linkage, fcluster, dendrogram\n",
    "from scipy.spatial.distance import squareform\n",
    "\n",
    "from sklearn.manifold import TSNE\n",
    "\n",
    "import gower\n",
    "\n"
   ]
  },
  {
   "cell_type": "code",
   "execution_count": 43,
   "id": "a3f2868a",
   "metadata": {},
   "outputs": [
    {
     "data": {
      "text/html": [
       "<div>\n",
       "<style scoped>\n",
       "    .dataframe tbody tr th:only-of-type {\n",
       "        vertical-align: middle;\n",
       "    }\n",
       "\n",
       "    .dataframe tbody tr th {\n",
       "        vertical-align: top;\n",
       "    }\n",
       "\n",
       "    .dataframe thead th {\n",
       "        text-align: right;\n",
       "    }\n",
       "</style>\n",
       "<table border=\"1\" class=\"dataframe\">\n",
       "  <thead>\n",
       "    <tr style=\"text-align: right;\">\n",
       "      <th></th>\n",
       "      <th>stream</th>\n",
       "      <th>scope</th>\n",
       "      <th>grid</th>\n",
       "      <th>solution</th>\n",
       "      <th>temp</th>\n",
       "      <th>ice_particles</th>\n",
       "      <th>ice_mass</th>\n",
       "      <th>ice_length</th>\n",
       "    </tr>\n",
       "    <tr>\n",
       "      <th>id</th>\n",
       "      <th></th>\n",
       "      <th></th>\n",
       "      <th></th>\n",
       "      <th></th>\n",
       "      <th></th>\n",
       "      <th></th>\n",
       "      <th></th>\n",
       "      <th></th>\n",
       "    </tr>\n",
       "  </thead>\n",
       "  <tbody>\n",
       "    <tr>\n",
       "      <th>contrails1</th>\n",
       "      <td>two</td>\n",
       "      <td>nozzle</td>\n",
       "      <td>coarse</td>\n",
       "      <td>uncoupled</td>\n",
       "      <td>232.948</td>\n",
       "      <td>53428</td>\n",
       "      <td>0.030635</td>\n",
       "      <td>13.003</td>\n",
       "    </tr>\n",
       "    <tr>\n",
       "      <th>contrails2</th>\n",
       "      <td>two</td>\n",
       "      <td>nozzle</td>\n",
       "      <td>coarse</td>\n",
       "      <td>uncoupled</td>\n",
       "      <td>242.700</td>\n",
       "      <td>51338</td>\n",
       "      <td>0.030636</td>\n",
       "      <td>13.335</td>\n",
       "    </tr>\n",
       "    <tr>\n",
       "      <th>contrails3</th>\n",
       "      <td>two</td>\n",
       "      <td>nozzle</td>\n",
       "      <td>coarse</td>\n",
       "      <td>uncoupled</td>\n",
       "      <td>234.632</td>\n",
       "      <td>55328</td>\n",
       "      <td>0.031669</td>\n",
       "      <td>13.236</td>\n",
       "    </tr>\n",
       "    <tr>\n",
       "      <th>210</th>\n",
       "      <td>two</td>\n",
       "      <td>nozzle</td>\n",
       "      <td>coarse</td>\n",
       "      <td>uncoupled</td>\n",
       "      <td>233.858</td>\n",
       "      <td>13262</td>\n",
       "      <td>0.000022</td>\n",
       "      <td>48.179</td>\n",
       "    </tr>\n",
       "    <tr>\n",
       "      <th>211</th>\n",
       "      <td>two</td>\n",
       "      <td>nozzle</td>\n",
       "      <td>coarse</td>\n",
       "      <td>uncoupled</td>\n",
       "      <td>232.828</td>\n",
       "      <td>11324</td>\n",
       "      <td>0.000018</td>\n",
       "      <td>39.344</td>\n",
       "    </tr>\n",
       "    <tr>\n",
       "      <th>212</th>\n",
       "      <td>two</td>\n",
       "      <td>nozzle</td>\n",
       "      <td>coarse</td>\n",
       "      <td>uncoupled</td>\n",
       "      <td>232.491</td>\n",
       "      <td>10716</td>\n",
       "      <td>0.000014</td>\n",
       "      <td>50.059</td>\n",
       "    </tr>\n",
       "    <tr>\n",
       "      <th>213</th>\n",
       "      <td>two</td>\n",
       "      <td>nozzle</td>\n",
       "      <td>coarse</td>\n",
       "      <td>uncoupled</td>\n",
       "      <td>232.615</td>\n",
       "      <td>9044</td>\n",
       "      <td>0.000012</td>\n",
       "      <td>49.466</td>\n",
       "    </tr>\n",
       "    <tr>\n",
       "      <th>214</th>\n",
       "      <td>two</td>\n",
       "      <td>nozzle</td>\n",
       "      <td>coarse</td>\n",
       "      <td>uncoupled</td>\n",
       "      <td>232.290</td>\n",
       "      <td>9044</td>\n",
       "      <td>0.000012</td>\n",
       "      <td>48.686</td>\n",
       "    </tr>\n",
       "    <tr>\n",
       "      <th>215</th>\n",
       "      <td>two</td>\n",
       "      <td>nozzle</td>\n",
       "      <td>coarse</td>\n",
       "      <td>uncoupled</td>\n",
       "      <td>227.968</td>\n",
       "      <td>11704</td>\n",
       "      <td>0.000010</td>\n",
       "      <td>49.284</td>\n",
       "    </tr>\n",
       "    <tr>\n",
       "      <th>216</th>\n",
       "      <td>two</td>\n",
       "      <td>nozzle</td>\n",
       "      <td>coarse</td>\n",
       "      <td>uncoupled</td>\n",
       "      <td>227.789</td>\n",
       "      <td>10602</td>\n",
       "      <td>0.000009</td>\n",
       "      <td>50.977</td>\n",
       "    </tr>\n",
       "    <tr>\n",
       "      <th>217</th>\n",
       "      <td>two</td>\n",
       "      <td>nozzle</td>\n",
       "      <td>coarse</td>\n",
       "      <td>uncoupled</td>\n",
       "      <td>228.395</td>\n",
       "      <td>10564</td>\n",
       "      <td>0.000008</td>\n",
       "      <td>50.636</td>\n",
       "    </tr>\n",
       "    <tr>\n",
       "      <th>218</th>\n",
       "      <td>two</td>\n",
       "      <td>nozzle</td>\n",
       "      <td>coarse</td>\n",
       "      <td>uncoupled</td>\n",
       "      <td>232.497</td>\n",
       "      <td>7068</td>\n",
       "      <td>0.000008</td>\n",
       "      <td>47.286</td>\n",
       "    </tr>\n",
       "    <tr>\n",
       "      <th>219</th>\n",
       "      <td>two</td>\n",
       "      <td>nozzle</td>\n",
       "      <td>coarse</td>\n",
       "      <td>uncoupled</td>\n",
       "      <td>228.623</td>\n",
       "      <td>9538</td>\n",
       "      <td>0.000005</td>\n",
       "      <td>49.071</td>\n",
       "    </tr>\n",
       "  </tbody>\n",
       "</table>\n",
       "</div>"
      ],
      "text/plain": [
       "           stream   scope    grid   solution     temp  ice_particles  \\\n",
       "id                                                                     \n",
       "contrails1    two  nozzle  coarse  uncoupled  232.948          53428   \n",
       "contrails2    two  nozzle  coarse  uncoupled  242.700          51338   \n",
       "contrails3    two  nozzle  coarse  uncoupled  234.632          55328   \n",
       "210           two  nozzle  coarse  uncoupled  233.858          13262   \n",
       "211           two  nozzle  coarse  uncoupled  232.828          11324   \n",
       "212           two  nozzle  coarse  uncoupled  232.491          10716   \n",
       "213           two  nozzle  coarse  uncoupled  232.615           9044   \n",
       "214           two  nozzle  coarse  uncoupled  232.290           9044   \n",
       "215           two  nozzle  coarse  uncoupled  227.968          11704   \n",
       "216           two  nozzle  coarse  uncoupled  227.789          10602   \n",
       "217           two  nozzle  coarse  uncoupled  228.395          10564   \n",
       "218           two  nozzle  coarse  uncoupled  232.497           7068   \n",
       "219           two  nozzle  coarse  uncoupled  228.623           9538   \n",
       "\n",
       "            ice_mass  ice_length  \n",
       "id                                \n",
       "contrails1  0.030635      13.003  \n",
       "contrails2  0.030636      13.335  \n",
       "contrails3  0.031669      13.236  \n",
       "210         0.000022      48.179  \n",
       "211         0.000018      39.344  \n",
       "212         0.000014      50.059  \n",
       "213         0.000012      49.466  \n",
       "214         0.000012      48.686  \n",
       "215         0.000010      49.284  \n",
       "216         0.000009      50.977  \n",
       "217         0.000008      50.636  \n",
       "218         0.000008      47.286  \n",
       "219         0.000005      49.071  "
      ]
     },
     "execution_count": 43,
     "metadata": {},
     "output_type": "execute_result"
    }
   ],
   "source": [
    "data = pd.read_csv('actualData.csv')\n",
    "data = data.set_index('id')\n",
    "data"
   ]
  },
  {
   "cell_type": "code",
   "execution_count": 44,
   "id": "65dd678c",
   "metadata": {},
   "outputs": [
    {
     "name": "stdout",
     "output_type": "stream",
     "text": [
      "Data shape: (13, 8)\n",
      "Matrix shape: (13, 13)\n"
     ]
    }
   ],
   "source": [
    "\"\"\"Gower’s disatance/measure/coefficient/similarity is a measure to find\n",
    "the similarity between two rows of a dataset consisting of mixed type attributes.\n",
    "It uses the concept of Manhattan distance for continuous variables and dice\n",
    "distance for measuring similarity between Binary variables.\n",
    "\n",
    "https://medium.com/analytics-vidhya/concept-of-gowers-distance-and-it-s-application-using-python-b08cf6139ac2\n",
    "\n",
    "https://towardsdatascience.com/clustering-on-numerical-and-categorical-features-6e0ebcf1cbad\n",
    "\n",
    "https://bpostance.github.io/posts/clustering-mixed-data/\n",
    "\"\"\"\n",
    "\n",
    "\n",
    "\n",
    "\n",
    "# cat = [True, True, True, True,True,True,False,False,False,False,False]\n",
    "\n",
    "# print(cat)\n",
    "\n",
    "gd = gower.gower_matrix(data)\n",
    "\n",
    "print(f\"Data shape: {data.shape}\\nMatrix shape: {gd.shape}\")\n",
    "# print(gd)"
   ]
  },
  {
   "cell_type": "code",
   "execution_count": 45,
   "id": "373a64f1",
   "metadata": {},
   "outputs": [
    {
     "data": {
      "image/png": "[encoded data removed]",
      "text/plain": [
       "<Figure size 720x504 with 1 Axes>"
      ]
     },
     "metadata": {
      "needs_background": "light"
     },
     "output_type": "display_data"
    }
   ],
   "source": [
    "\n",
    "\n",
    "gdv = squareform(gd,force='tovector')\n",
    "\n",
    "# print(gdv)\n",
    "\n",
    "\n",
    "Z = linkage(gdv,method='ward')\n",
    "\n",
    "plt.figure(figsize=(10, 7))  \n",
    "plt.title(\"Dendrograms\")  \n",
    "dend = dendrogram(Z)\n"
   ]
  },
  {
   "cell_type": "code",
   "execution_count": 46,
   "id": "4881598a",
   "metadata": {},
   "outputs": [
    {
     "data": {
      "text/plain": [
       "<matplotlib.lines.Line2D at 0x2646725b848>"
      ]
     },
     "execution_count": 46,
     "metadata": {},
     "output_type": "execute_result"
    },
    {
     "data": {
      "image/png": "[encoded data removed]",
      "text/plain": [
       "<Figure size 720x504 with 1 Axes>"
      ]
     },
     "metadata": {
      "needs_background": "light"
     },
     "output_type": "display_data"
    }
   ],
   "source": [
    "plt.figure(figsize=(10, 7))  \n",
    "plt.title(\"Dendrograms\")  \n",
    "dend = dendrogram(Z)\n",
    "plt.axhline(y=0.2, color='r', linestyle='--')"
   ]
  },
  {
   "cell_type": "code",
   "execution_count": 47,
   "id": "84864d49",
   "metadata": {
    "scrolled": true
   },
   "outputs": [
    {
     "name": "stdout",
     "output_type": "stream",
     "text": [
      "[1 1 1 2 2 2 2 2 2 2 2 2 2]\n"
     ]
    }
   ],
   "source": [
    "cluster_array = fcluster(Z, 2, criterion='maxclust')\n",
    "print(cluster_array)"
   ]
  },
  {
   "cell_type": "code",
   "execution_count": 48,
   "id": "bb0bf937",
   "metadata": {},
   "outputs": [
    {
     "name": "stderr",
     "output_type": "stream",
     "text": [
      "C:\\Users\\evladmin\\Anaconda3\\envs\\server-png\\lib\\site-packages\\sklearn\\manifold\\_t_sne.py:783: FutureWarning: The default initialization in TSNE will change from 'random' to 'pca' in 1.2.\n",
      "  FutureWarning,\n",
      "C:\\Users\\evladmin\\Anaconda3\\envs\\server-png\\lib\\site-packages\\sklearn\\manifold\\_t_sne.py:793: FutureWarning: The default learning rate in TSNE will change from 200.0 to 'auto' in 1.2.\n",
      "  FutureWarning,\n"
     ]
    },
    {
     "name": "stdout",
     "output_type": "stream",
     "text": [
      "[t-SNE] Computing 12 nearest neighbors...\n",
      "[t-SNE] Indexed 13 samples in 0.000s...\n",
      "[t-SNE] Computed neighbors for 13 samples in 0.000s...\n",
      "[t-SNE] Computed conditional probabilities for sample 13 / 13\n",
      "[t-SNE] Mean sigma: 1125899906842624.000000\n",
      "[t-SNE] KL divergence after 250 iterations with early exaggeration: 53.167572\n",
      "[t-SNE] KL divergence after 500 iterations: 0.306874\n"
     ]
    },
    {
     "data": {
      "image/png": "[encoded data removed]",
      "text/plain": [
       "<Figure size 432x288 with 1 Axes>"
      ]
     },
     "metadata": {
      "needs_background": "light"
     },
     "output_type": "display_data"
    }
   ],
   "source": [
    "tsne_model = TSNE(n_components=2, verbose=1, random_state=0, n_iter=500)\n",
    "tsne = tsne_model.fit_transform(gd)\n",
    "tsne = pd.DataFrame(tsne)\n",
    "tsne['k'] = cluster_array\n",
    "\n",
    "cdict = {i:cm.Set1(i) for i in np.unique(cluster_array)}\n",
    "\n",
    "for cluster in np.unique(cluster_array): # plot data by cluster\n",
    "    plt.scatter(x=tsne.where(tsne['k']==cluster)[0],\n",
    "                y=tsne.where(tsne['k']==cluster)[1],\n",
    "                color=cdict[cluster],\n",
    "                label=cluster)"
   ]
  },
  {
   "cell_type": "code",
   "execution_count": null,
   "id": "c4b56848",
   "metadata": {},
   "outputs": [],
   "source": []
  },
  {
   "cell_type": "code",
   "execution_count": null,
   "id": "afa4b0df",
   "metadata": {},
   "outputs": [],
   "source": []
  }
 ],
 "metadata": {
  "kernelspec": {
   "display_name": "Python 3",
   "language": "python",
   "name": "python3"
  },
  "language_info": {
   "codemirror_mode": {
    "name": "ipython",
    "version": 3
   },
   "file_extension": ".py",
   "mimetype": "text/x-python",
   "name": "python",
   "nbconvert_exporter": "python",
   "pygments_lexer": "ipython3",
   "version": "3.8.8"
  }
 },
 "nbformat": 4,
 "nbformat_minor": 5
}
