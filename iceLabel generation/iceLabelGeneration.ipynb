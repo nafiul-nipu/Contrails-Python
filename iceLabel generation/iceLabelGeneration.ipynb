{
 "cells": [
  {
   "cell_type": "code",
   "execution_count": 1,
   "id": "8d35d2a8",
   "metadata": {},
   "outputs": [],
   "source": [
    "import pandas as pd\n",
    "import matplotlib.pyplot as plt\n",
    "%matplotlib inline\n",
    "import glob\n",
    "from os import listdir\n",
    "import numpy as np\n",
    "import math as m"
   ]
  },
  {
   "cell_type": "code",
   "execution_count": 12,
   "id": "99cc6226",
   "metadata": {},
   "outputs": [],
   "source": [
    "folders = [f for f in listdir(\"data/\")]\n",
    "# folders=['newData']\n",
    "# print(folders)\n",
    "for folder in folders:\n",
    "    onlyfiles = [f for f in listdir(\"data/{}\".format(folder)) ]\n",
    "#     print(onlyfiles)\n",
    "    for file in onlyfiles:\n",
    "        path = \"data/{}/{}\".format(folder, file)\n",
    "        data = pd.read_csv(path)\n",
    "        data['iceLabel'] = np.where((data['d_nm'] > 20), 1, 0)\n",
    "#         print(data.head())\n",
    "        data.to_csv('output/{}/{}'.format(folder, file), index=False)"
   ]
  },
  {
   "cell_type": "code",
   "execution_count": null,
   "id": "5f295817",
   "metadata": {},
   "outputs": [],
   "source": []
  }
 ],
 "metadata": {
  "kernelspec": {
   "display_name": "Python 3",
   "language": "python",
   "name": "python3"
  },
  "language_info": {
   "codemirror_mode": {
    "name": "ipython",
    "version": 3
   },
   "file_extension": ".py",
   "mimetype": "text/x-python",
   "name": "python",
   "nbconvert_exporter": "python",
   "pygments_lexer": "ipython3",
   "version": "3.8.8"
  }
 },
 "nbformat": 4,
 "nbformat_minor": 5
}
