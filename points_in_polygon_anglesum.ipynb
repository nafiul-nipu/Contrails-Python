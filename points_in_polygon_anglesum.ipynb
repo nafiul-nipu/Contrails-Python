{
 "cells": [
  {
   "cell_type": "code",
   "execution_count": 39,
   "metadata": {},
   "outputs": [],
   "source": [
    "import pandas as pd\n",
    "import math"
   ]
  },
  {
   "cell_type": "code",
   "execution_count": 56,
   "metadata": {},
   "outputs": [
    {
     "data": {
      "text/html": [
       "<div>\n",
       "<style scoped>\n",
       "    .dataframe tbody tr th:only-of-type {\n",
       "        vertical-align: middle;\n",
       "    }\n",
       "\n",
       "    .dataframe tbody tr th {\n",
       "        vertical-align: top;\n",
       "    }\n",
       "\n",
       "    .dataframe thead th {\n",
       "        text-align: right;\n",
       "    }\n",
       "</style>\n",
       "<table border=\"1\" class=\"dataframe\">\n",
       "  <thead>\n",
       "    <tr style=\"text-align: right;\">\n",
       "      <th></th>\n",
       "      <th>Points_0</th>\n",
       "      <th>Points_1</th>\n",
       "      <th>Points_2</th>\n",
       "      <th>Points_Magnitude</th>\n",
       "      <th>Volume</th>\n",
       "      <th>Block Number</th>\n",
       "      <th>vtkOriginalCellIds</th>\n",
       "      <th>Point ID</th>\n",
       "      <th>vtkOriginalPointIds</th>\n",
       "    </tr>\n",
       "  </thead>\n",
       "  <tbody>\n",
       "    <tr>\n",
       "      <th>386</th>\n",
       "      <td>0.831267</td>\n",
       "      <td>0.976149</td>\n",
       "      <td>-0.234353</td>\n",
       "      <td>1.30338</td>\n",
       "      <td>0.000180</td>\n",
       "      <td>1</td>\n",
       "      <td>2237800</td>\n",
       "      <td>386</td>\n",
       "      <td>2255741</td>\n",
       "    </tr>\n",
       "    <tr>\n",
       "      <th>387</th>\n",
       "      <td>0.831266</td>\n",
       "      <td>1.078690</td>\n",
       "      <td>-0.258971</td>\n",
       "      <td>1.38623</td>\n",
       "      <td>0.000180</td>\n",
       "      <td>1</td>\n",
       "      <td>2237800</td>\n",
       "      <td>387</td>\n",
       "      <td>66372</td>\n",
       "    </tr>\n",
       "    <tr>\n",
       "      <th>388</th>\n",
       "      <td>0.810922</td>\n",
       "      <td>1.076090</td>\n",
       "      <td>-0.258347</td>\n",
       "      <td>1.37197</td>\n",
       "      <td>0.000178</td>\n",
       "      <td>1</td>\n",
       "      <td>2237800</td>\n",
       "      <td>388</td>\n",
       "      <td>66373</td>\n",
       "    </tr>\n",
       "    <tr>\n",
       "      <th>389</th>\n",
       "      <td>0.810923</td>\n",
       "      <td>0.973643</td>\n",
       "      <td>-0.233751</td>\n",
       "      <td>1.28849</td>\n",
       "      <td>0.000178</td>\n",
       "      <td>1</td>\n",
       "      <td>2237800</td>\n",
       "      <td>389</td>\n",
       "      <td>2255740</td>\n",
       "    </tr>\n",
       "    <tr>\n",
       "      <th>390</th>\n",
       "      <td>0.831267</td>\n",
       "      <td>0.991527</td>\n",
       "      <td>-0.157042</td>\n",
       "      <td>1.30338</td>\n",
       "      <td>0.000180</td>\n",
       "      <td>1</td>\n",
       "      <td>2237800</td>\n",
       "      <td>390</td>\n",
       "      <td>2283565</td>\n",
       "    </tr>\n",
       "    <tr>\n",
       "      <th>391</th>\n",
       "      <td>0.831266</td>\n",
       "      <td>1.095690</td>\n",
       "      <td>-0.173540</td>\n",
       "      <td>1.38623</td>\n",
       "      <td>0.000180</td>\n",
       "      <td>1</td>\n",
       "      <td>2237800</td>\n",
       "      <td>391</td>\n",
       "      <td>66500</td>\n",
       "    </tr>\n",
       "    <tr>\n",
       "      <th>392</th>\n",
       "      <td>0.810922</td>\n",
       "      <td>1.093040</td>\n",
       "      <td>-0.173121</td>\n",
       "      <td>1.37197</td>\n",
       "      <td>0.000178</td>\n",
       "      <td>1</td>\n",
       "      <td>2237800</td>\n",
       "      <td>392</td>\n",
       "      <td>66501</td>\n",
       "    </tr>\n",
       "    <tr>\n",
       "      <th>393</th>\n",
       "      <td>0.810923</td>\n",
       "      <td>0.988981</td>\n",
       "      <td>-0.156639</td>\n",
       "      <td>1.28849</td>\n",
       "      <td>0.000178</td>\n",
       "      <td>1</td>\n",
       "      <td>2237800</td>\n",
       "      <td>393</td>\n",
       "      <td>2283564</td>\n",
       "    </tr>\n",
       "  </tbody>\n",
       "</table>\n",
       "</div>"
      ],
      "text/plain": [
       "     Points_0  Points_1  Points_2  Points_Magnitude    Volume  Block Number  \\\n",
       "386  0.831267  0.976149 -0.234353           1.30338  0.000180             1   \n",
       "387  0.831266  1.078690 -0.258971           1.38623  0.000180             1   \n",
       "388  0.810922  1.076090 -0.258347           1.37197  0.000178             1   \n",
       "389  0.810923  0.973643 -0.233751           1.28849  0.000178             1   \n",
       "390  0.831267  0.991527 -0.157042           1.30338  0.000180             1   \n",
       "391  0.831266  1.095690 -0.173540           1.38623  0.000180             1   \n",
       "392  0.810922  1.093040 -0.173121           1.37197  0.000178             1   \n",
       "393  0.810923  0.988981 -0.156639           1.28849  0.000178             1   \n",
       "\n",
       "     vtkOriginalCellIds  Point ID  vtkOriginalPointIds  \n",
       "386             2237800       386              2255741  \n",
       "387             2237800       387                66372  \n",
       "388             2237800       388                66373  \n",
       "389             2237800       389              2255740  \n",
       "390             2237800       390              2283565  \n",
       "391             2237800       391                66500  \n",
       "392             2237800       392                66501  \n",
       "393             2237800       393              2283564  "
      ]
     },
     "execution_count": 56,
     "metadata": {},
     "output_type": "execute_result"
    }
   ],
   "source": [
    "test = pd.read_csv('test.csv')\n",
    "test[test.vtkOriginalCellIds == 2237800]\n",
    "# test.vtkOriginalCellIds.value_counts()"
   ]
  },
  {
   "cell_type": "code",
   "execution_count": 57,
   "metadata": {},
   "outputs": [
    {
     "data": {
      "text/html": [
       "<div>\n",
       "<style scoped>\n",
       "    .dataframe tbody tr th:only-of-type {\n",
       "        vertical-align: middle;\n",
       "    }\n",
       "\n",
       "    .dataframe tbody tr th {\n",
       "        vertical-align: top;\n",
       "    }\n",
       "\n",
       "    .dataframe thead th {\n",
       "        text-align: right;\n",
       "    }\n",
       "</style>\n",
       "<table border=\"1\" class=\"dataframe\">\n",
       "  <thead>\n",
       "    <tr style=\"text-align: right;\">\n",
       "      <th></th>\n",
       "      <th>Points_0</th>\n",
       "      <th>Points_1</th>\n",
       "      <th>Points_2</th>\n",
       "      <th>Points_Magnitude</th>\n",
       "      <th>Block Number</th>\n",
       "      <th>vtkOriginalCellIds</th>\n",
       "      <th>Point ID</th>\n",
       "    </tr>\n",
       "  </thead>\n",
       "  <tbody>\n",
       "    <tr>\n",
       "      <th>110</th>\n",
       "      <td>0.821095</td>\n",
       "      <td>1.03423</td>\n",
       "      <td>-0.20572</td>\n",
       "      <td>1.33647</td>\n",
       "      <td>1</td>\n",
       "      <td>2237800</td>\n",
       "      <td>110</td>\n",
       "    </tr>\n",
       "  </tbody>\n",
       "</table>\n",
       "</div>"
      ],
      "text/plain": [
       "     Points_0  Points_1  Points_2  Points_Magnitude  Block Number  \\\n",
       "110  0.821095   1.03423  -0.20572           1.33647             1   \n",
       "\n",
       "     vtkOriginalCellIds  Point ID  \n",
       "110             2237800       110  "
      ]
     },
     "execution_count": 57,
     "metadata": {},
     "output_type": "execute_result"
    }
   ],
   "source": [
    "centers = pd.read_csv('test_center.csv')\n",
    "centers[centers.vtkOriginalCellIds == 2237800]"
   ]
  },
  {
   "cell_type": "code",
   "execution_count": 30,
   "metadata": {},
   "outputs": [],
   "source": [
    "# create the point object\n",
    "class Point:\n",
    "    def __init__(self, x = 0, y = 0, z = 0):\n",
    "        self.x = x\n",
    "        self.y = y\n",
    "        self.z = z"
   ]
  },
  {
   "cell_type": "code",
   "execution_count": 31,
   "metadata": {},
   "outputs": [],
   "source": [
    "# modulus calculation\n",
    "def modulus(p):\n",
    "#     print(p)\n",
    "    return math.sqrt(p.x * p.x + p.y * p.y + p.z * p.z)"
   ]
  },
  {
   "cell_type": "code",
   "execution_count": 36,
   "metadata": {},
   "outputs": [
    {
     "name": "stdout",
     "output_type": "stream",
     "text": [
      "2.5\n"
     ]
    }
   ],
   "source": [
    "test = Point(2.5)\n",
    "print(test.x)\n",
    "# print(modulus(test))"
   ]
  },
  {
   "cell_type": "code",
   "execution_count": 37,
   "metadata": {},
   "outputs": [],
   "source": [
    "#global values\n",
    "epsilon = 0.0000001\n",
    "twoPI = 6.283185307179586476925287"
   ]
  },
  {
   "cell_type": "code",
   "execution_count": 52,
   "metadata": {},
   "outputs": [],
   "source": [
    "def calcAngleSum(point, polygon, n):\n",
    "    i = 0;\n",
    "    m1 = 0.0\n",
    "    m2 = 0.0\n",
    "    anglesum = 0.0\n",
    "    costheta = 0.0\n",
    "    p1 = Point();\n",
    "    p2 = Point();\n",
    "    \n",
    "    for i in range(0, n):\n",
    "        p1.x = polygon[i].x - point.x\n",
    "        p1.y = polygon[i].y - point.y\n",
    "        p1.z = polygon[i].z - point.z\n",
    "        p2.x = polygon[(i+1)%n].x - point.x\n",
    "        p2.y = polygon[(i+1)%n].y - point.y\n",
    "        p2.z = polygon[(i+1)%n].z - point.z\n",
    "        \n",
    "        m1 = modulus(p1)\n",
    "        m2 = modulus(p2)\n",
    "        \n",
    "        if (m1 * m2 <= epsilon):\n",
    "            return twoPI #inside\n",
    "        else:\n",
    "            costheta = (p1.x*p2.x + p1.y*p2.y + p1.z*p2.z) / (m1*m2)\n",
    "            \n",
    "        anglesum += math.acos(costheta)\n",
    "        \n",
    "    return anglesum"
   ]
  },
  {
   "cell_type": "code",
   "execution_count": 63,
   "metadata": {},
   "outputs": [
    {
     "name": "stdout",
     "output_type": "stream",
     "text": [
      "10.345276777243665\n"
     ]
    }
   ],
   "source": [
    "#main method\n",
    "point = Point(0.821095, 1.03423, -0.20572)\n",
    "poly1 = Point(0.831267, 0.976149, -0.234353)\n",
    "poly2 = Point(0.831266, 1.078690, -0.258971)\n",
    "poly3 = Point(0.810922, 1.076090, -0.258347)\n",
    "poly4 = Point(0.810923, 0.973643, -0.233751)\n",
    "poly5 = Point(0.831267, 0.991527, -0.157042)\n",
    "poly6 = Point(0.831266, 1.095690, -0.173540)\n",
    "poly7 = Point(0.810922, 1.093040, -0.173121)\n",
    "poly8 = Point(0.810923, 0.988981, -0.156639)\n",
    "polygon = [poly1, poly2, poly3, poly4, poly5, poly6, poly7, poly8]\n",
    "# print(len(polygon), polygon)\n",
    "anglesum = calcAngleSum(point, polygon, 8)\n",
    "print(anglesum)"
   ]
  },
  {
   "cell_type": "code",
   "execution_count": 65,
   "metadata": {},
   "outputs": [
    {
     "name": "stdout",
     "output_type": "stream",
     "text": [
      "18.67803823113006\n"
     ]
    }
   ],
   "source": [
    "#main method\n",
    "point2 = Point(0.800967, -0.00615103, 0.0519698)\n",
    "poly11 = Point(0.791001, -0.00807775, 0.0510009)\n",
    "poly12 = Point(0.791001, -0.00405136, 0.0514775)\n",
    "poly13 = Point(0.810933, -0.00817822, 0.0516352)\n",
    "poly14 = Point(0.791001, -0.00820651, 0.0518139)\n",
    "poly15 = Point(0.810933, -0.00410175, 0.0521177)\n",
    "poly16 = Point(0.791001, -0.00411594, 0.052298)\n",
    "poly17 = Point(0.810933, -0.00830924, 0.0524625)\n",
    "poly18 = Point(0.810933, -0.00416747, 0.0529527)\n",
    "polygon2 = [poly11, poly12, poly13, poly14, poly15, poly16, poly17, poly18]\n",
    "# print(len(polygon), polygon)\n",
    "anglesum2 = calcAngleSum(point2, polygon2, 8)\n",
    "print(anglesum2)"
   ]
  },
  {
   "cell_type": "code",
   "execution_count": null,
   "metadata": {},
   "outputs": [],
   "source": []
  }
 ],
 "metadata": {
  "kernelspec": {
   "display_name": "Python 3",
   "language": "python",
   "name": "python3"
  },
  "language_info": {
   "codemirror_mode": {
    "name": "ipython",
    "version": 3
   },
   "file_extension": ".py",
   "mimetype": "text/x-python",
   "name": "python",
   "nbconvert_exporter": "python",
   "pygments_lexer": "ipython3",
   "version": "3.6.12"
  }
 },
 "nbformat": 4,
 "nbformat_minor": 4
}
