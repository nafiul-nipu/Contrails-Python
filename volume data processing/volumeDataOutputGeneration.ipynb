{
 "cells": [
  {
   "cell_type": "code",
   "execution_count": 1,
   "metadata": {},
   "outputs": [],
   "source": [
    "import pandas as pd\n",
    "import matplotlib.pyplot as plt\n",
    "%matplotlib inline\n",
    "import glob\n",
    "from os import listdir\n",
    "import numpy as np"
   ]
  },
  {
   "cell_type": "code",
   "execution_count": 2,
   "metadata": {},
   "outputs": [
    {
     "name": "stdout",
     "output_type": "stream",
     "text": [
      "['3-28-22', 'contrails 1', 'contrails 2', 'contrails 3', 'newData']\n"
     ]
    }
   ],
   "source": [
    "contrail_folder= [f for f in listdir(\"volume data/\")]\n",
    "print(contrail_folder)"
   ]
  },
  {
   "cell_type": "code",
   "execution_count": 3,
   "metadata": {},
   "outputs": [
    {
     "name": "stdout",
     "output_type": "stream",
     "text": [
      "['contrails', 'd', 'd_ice', 'temp', 'temp_ice']\n"
     ]
    }
   ],
   "source": [
    "attributes = [f for f in listdir(\"volume data/contrails 1\")]\n",
    "print(attributes)"
   ]
  },
  {
   "cell_type": "code",
   "execution_count": 5,
   "metadata": {},
   "outputs": [
    {
     "name": "stdout",
     "output_type": "stream",
     "text": [
      "['210.csv', '211.csv', '212.csv', '213.csv', '214.csv', '215.csv', '216.csv', '217.csv']\n"
     ]
    }
   ],
   "source": [
    "timeSteps = [f for f in listdir(\"volume data/3-28-22/d\")]\n",
    "print(timeSteps)"
   ]
  },
  {
   "cell_type": "code",
   "execution_count": 6,
   "metadata": {},
   "outputs": [],
   "source": [
    "contrail_folder = ['3-28-22']\n",
    "# timeSteps = ['210.csv']\n",
    "for folder in contrail_folder:\n",
    "    for time in timeSteps:\n",
    "        diameter = pd.read_csv(\"volume data/{}/d/{}\".format(folder,time))\n",
    "        diameter = diameter.rename(columns={'SplatterValues': 'diameter'})\n",
    "        \n",
    "        ice = pd.read_csv(\"volume data/{}/temp_ice/{}\".format(folder,time))\n",
    "#         print(ice.head())\n",
    "        ice = ice.rename(columns={'SplatterValues': 'ice'})\n",
    "#         print(ice.head())\n",
    "        diameter['ice'] = pd.Series(ice['ice'])\n",
    "        \n",
    "        ice_d = pd.read_csv(\"volume data/{}/d_ice/{}\".format(folder,time))\n",
    "        ice_d = ice_d.rename(columns={'SplatterValues': 'ice_d'})\n",
    "        diameter['ice_d'] = pd.Series(ice_d['ice_d'])\n",
    "        \n",
    "        temp = pd.read_csv(\"volume data/{}/temp/{}\".format(folder,time))\n",
    "        temp = temp.rename(columns={'SplatterValues': 'temp'})\n",
    "        diameter['temp'] = pd.Series(temp['temp'])\n",
    "        \n",
    "        contrails = pd.read_csv(\"volume data/{}/contrails/{}\".format(folder,time))\n",
    "        contrails = contrails.rename(columns={'SplatterValues': 'contrails'})\n",
    "        diameter['contrails'] = pd.Series(contrails['contrails'])\n",
    "            \n",
    "            \n",
    "        diameter.to_csv('output/{}/{}'.format(folder, time), index=False)"
   ]
  },
  {
   "cell_type": "code",
   "execution_count": 6,
   "metadata": {},
   "outputs": [
    {
     "data": {
      "text/html": [
       "<div>\n",
       "<style scoped>\n",
       "    .dataframe tbody tr th:only-of-type {\n",
       "        vertical-align: middle;\n",
       "    }\n",
       "\n",
       "    .dataframe tbody tr th {\n",
       "        vertical-align: top;\n",
       "    }\n",
       "\n",
       "    .dataframe thead th {\n",
       "        text-align: right;\n",
       "    }\n",
       "</style>\n",
       "<table border=\"1\" class=\"dataframe\">\n",
       "  <thead>\n",
       "    <tr style=\"text-align: right;\">\n",
       "      <th></th>\n",
       "      <th>diameter</th>\n",
       "    </tr>\n",
       "  </thead>\n",
       "  <tbody>\n",
       "    <tr>\n",
       "      <th>0</th>\n",
       "      <td>0.0</td>\n",
       "    </tr>\n",
       "    <tr>\n",
       "      <th>1</th>\n",
       "      <td>0.0</td>\n",
       "    </tr>\n",
       "    <tr>\n",
       "      <th>2</th>\n",
       "      <td>0.0</td>\n",
       "    </tr>\n",
       "    <tr>\n",
       "      <th>3</th>\n",
       "      <td>0.0</td>\n",
       "    </tr>\n",
       "    <tr>\n",
       "      <th>4</th>\n",
       "      <td>0.0</td>\n",
       "    </tr>\n",
       "    <tr>\n",
       "      <th>...</th>\n",
       "      <td>...</td>\n",
       "    </tr>\n",
       "    <tr>\n",
       "      <th>524283</th>\n",
       "      <td>0.0</td>\n",
       "    </tr>\n",
       "    <tr>\n",
       "      <th>524284</th>\n",
       "      <td>0.0</td>\n",
       "    </tr>\n",
       "    <tr>\n",
       "      <th>524285</th>\n",
       "      <td>0.0</td>\n",
       "    </tr>\n",
       "    <tr>\n",
       "      <th>524286</th>\n",
       "      <td>0.0</td>\n",
       "    </tr>\n",
       "    <tr>\n",
       "      <th>524287</th>\n",
       "      <td>0.0</td>\n",
       "    </tr>\n",
       "  </tbody>\n",
       "</table>\n",
       "<p>524288 rows × 1 columns</p>\n",
       "</div>"
      ],
      "text/plain": [
       "        diameter\n",
       "0            0.0\n",
       "1            0.0\n",
       "2            0.0\n",
       "3            0.0\n",
       "4            0.0\n",
       "...          ...\n",
       "524283       0.0\n",
       "524284       0.0\n",
       "524285       0.0\n",
       "524286       0.0\n",
       "524287       0.0\n",
       "\n",
       "[524288 rows x 1 columns]"
      ]
     },
     "execution_count": 6,
     "metadata": {},
     "output_type": "execute_result"
    }
   ],
   "source": [
    "df = pd.read_csv(\"volume data/contrails 1/d/0.06.csv\")\n",
    "df\n",
    "df.rename(columns={'SplatterValues': 'diameter'})"
   ]
  },
  {
   "cell_type": "code",
   "execution_count": 9,
   "metadata": {},
   "outputs": [
    {
     "name": "stdout",
     "output_type": "stream",
     "text": [
      "   diameter\n",
      "0       0.0\n",
      "1       0.0\n",
      "2       0.0\n",
      "3       0.0\n",
      "4       0.0\n",
      "   ice\n",
      "0  0.0\n",
      "1  0.0\n",
      "2  0.0\n",
      "3  0.0\n",
      "4  0.0\n",
      "   ice_d\n",
      "0    0.0\n",
      "1    0.0\n",
      "2    0.0\n",
      "3    0.0\n",
      "4    0.0\n",
      "   temp\n",
      "0   0.0\n",
      "1   0.0\n",
      "2   0.0\n",
      "3   0.0\n",
      "4   0.0\n"
     ]
    }
   ],
   "source": [
    "diameter = pd.read_csv(\"volume data/{}/diameter/{}\".format(contrail_folder[0],timeSteps[0]))\n",
    "diameter = diameter.rename(columns={'SplatterValues': 'diameter'})\n",
    "print(diameter.head())\n",
    "ice = pd.read_csv(\"volume data/{}/ice/{}\".format(contrail_folder[0],timeSteps[0]))\n",
    "#         print(ice.head())\n",
    "ice = ice.rename(columns={'SplatterValues': 'ice'})\n",
    "print(ice.head())\n",
    "diameter['ice'] = pd.Series(ice['ice'])\n",
    "\n",
    "ice_d = pd.read_csv(\"volume data/{}/diameter/{}\".format(contrail_folder[0],timeSteps[0]))\n",
    "ice_d = ice_d.rename(columns={'SplatterValues': 'ice_d'})\n",
    "diameter['ice_d'] = pd.Series(ice_d['ice_d'])\n",
    "print(ice_d.head())\n",
    "\n",
    "temp = pd.read_csv(\"volume data/{}/diameter/{}\".format(contrail_folder[0],timeSteps[0]))\n",
    "temp = temp.rename(columns={'SplatterValues': 'temp'})\n",
    "diameter['temp'] = pd.Series(temp['temp'])\n",
    "print(temp.head())"
   ]
  },
  {
   "cell_type": "code",
   "execution_count": 14,
   "metadata": {},
   "outputs": [
    {
     "data": {
      "text/html": [
       "<div>\n",
       "<style scoped>\n",
       "    .dataframe tbody tr th:only-of-type {\n",
       "        vertical-align: middle;\n",
       "    }\n",
       "\n",
       "    .dataframe tbody tr th {\n",
       "        vertical-align: top;\n",
       "    }\n",
       "\n",
       "    .dataframe thead th {\n",
       "        text-align: right;\n",
       "    }\n",
       "</style>\n",
       "<table border=\"1\" class=\"dataframe\">\n",
       "  <thead>\n",
       "    <tr style=\"text-align: right;\">\n",
       "      <th></th>\n",
       "      <th>temp</th>\n",
       "    </tr>\n",
       "  </thead>\n",
       "  <tbody>\n",
       "    <tr>\n",
       "      <th>0</th>\n",
       "      <td>0.00000</td>\n",
       "    </tr>\n",
       "    <tr>\n",
       "      <th>1734171</th>\n",
       "      <td>0.00000</td>\n",
       "    </tr>\n",
       "    <tr>\n",
       "      <th>1734172</th>\n",
       "      <td>0.00000</td>\n",
       "    </tr>\n",
       "    <tr>\n",
       "      <th>1734173</th>\n",
       "      <td>0.00000</td>\n",
       "    </tr>\n",
       "    <tr>\n",
       "      <th>1734174</th>\n",
       "      <td>0.00000</td>\n",
       "    </tr>\n",
       "    <tr>\n",
       "      <th>...</th>\n",
       "      <td>...</td>\n",
       "    </tr>\n",
       "    <tr>\n",
       "      <th>1444567</th>\n",
       "      <td>0.00001</td>\n",
       "    </tr>\n",
       "    <tr>\n",
       "      <th>1470307</th>\n",
       "      <td>0.00001</td>\n",
       "    </tr>\n",
       "    <tr>\n",
       "      <th>1441187</th>\n",
       "      <td>0.00001</td>\n",
       "    </tr>\n",
       "    <tr>\n",
       "      <th>1129447</th>\n",
       "      <td>0.00001</td>\n",
       "    </tr>\n",
       "    <tr>\n",
       "      <th>1158567</th>\n",
       "      <td>0.00001</td>\n",
       "    </tr>\n",
       "  </tbody>\n",
       "</table>\n",
       "<p>2600000 rows × 1 columns</p>\n",
       "</div>"
      ],
      "text/plain": [
       "            temp\n",
       "0        0.00000\n",
       "1734171  0.00000\n",
       "1734172  0.00000\n",
       "1734173  0.00000\n",
       "1734174  0.00000\n",
       "...          ...\n",
       "1444567  0.00001\n",
       "1470307  0.00001\n",
       "1441187  0.00001\n",
       "1129447  0.00001\n",
       "1158567  0.00001\n",
       "\n",
       "[2600000 rows x 1 columns]"
      ]
     },
     "execution_count": 14,
     "metadata": {},
     "output_type": "execute_result"
    }
   ],
   "source": [
    "temp.sort_values(by=\"temp\")\n"
   ]
  }
 ],
 "metadata": {
  "kernelspec": {
   "display_name": "Python 3",
   "language": "python",
   "name": "python3"
  },
  "language_info": {
   "codemirror_mode": {
    "name": "ipython",
    "version": 3
   },
   "file_extension": ".py",
   "mimetype": "text/x-python",
   "name": "python",
   "nbconvert_exporter": "python",
   "pygments_lexer": "ipython3",
   "version": "3.8.8"
  }
 },
 "nbformat": 4,
 "nbformat_minor": 4
}
